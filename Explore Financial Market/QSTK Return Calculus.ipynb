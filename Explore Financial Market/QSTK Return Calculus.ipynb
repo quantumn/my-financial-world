{
 "metadata": {
  "name": "",
  "signature": "sha256:bcb47c91fe1259eb04797a1338dbcd95701965ae1c9b49f23e0801b507362fd7"
 },
 "nbformat": 3,
 "nbformat_minor": 0,
 "worksheets": [
  {
   "cells": [
    {
     "cell_type": "code",
     "collapsed": false,
     "input": [
      "import QSTK.qstkutil.qsdateutil as du\n",
      "import QSTK.qstkutil.tsutil as tsu\n",
      "import QSTK.qstkutil.DataAccess as da\n",
      "import datetime as dt\n",
      "import matplotlib.pyplot as plt\n",
      "import pandas as pd\n",
      "import math\n",
      "import numpy as np"
     ],
     "language": "python",
     "metadata": {},
     "outputs": [],
     "prompt_number": 1
    },
    {
     "cell_type": "raw",
     "metadata": {},
     "source": [
      "##Output should be like below\n",
      "'''\n",
      "Start Date: January 1, 2010\n",
      "End Date: December 31, 2010\n",
      "Symbols: ['AXP', 'HPQ', 'IBM', 'HNZ']\n",
      "Optimal Allocations:  [0.0, 0.0, 0.0, 1.0]\n",
      "Sharpe Ratio: 1.29889334008\n",
      "Volatility (stdev of daily returns): 0.00924299255937\n",
      "Average Daily Return: 0.000756285585593\n",
      "Cumulative Return: 1.1960583568\n",
      "'''\n",
      "## Year of 2010 version ##\n",
      "'''\n",
      "#Start date\n",
      "dt_start=dt.datetime(2010,1,1)\n",
      "print '\\nStart date: ',dt_start\n",
      "#End date\n",
      "dt_end=dt.datetime(2010,12,31)\n",
      "print '\\nEnd date: ',dt_end\n",
      "'''"
     ]
    },
    {
     "cell_type": "heading",
     "level": 4,
     "metadata": {},
     "source": [
      "## Year of 2011 version ##"
     ]
    },
    {
     "cell_type": "code",
     "collapsed": false,
     "input": [
      "#Start date\n",
      "dt_start=dt.datetime(2011,1,1)\n",
      "print '\\nStart date: ',dt_start"
     ],
     "language": "python",
     "metadata": {},
     "outputs": [
      {
       "output_type": "stream",
       "stream": "stdout",
       "text": [
        "\n",
        "Start date:  2011-01-01 00:00:00\n"
       ]
      }
     ],
     "prompt_number": 2
    },
    {
     "cell_type": "code",
     "collapsed": false,
     "input": [
      "#End date\n",
      "dt_end=dt.datetime(2011,12,31)\n",
      "print '\\nEnd date: ',dt_end"
     ],
     "language": "python",
     "metadata": {},
     "outputs": [
      {
       "output_type": "stream",
       "stream": "stdout",
       "text": [
        "\n",
        "End date:  2011-12-31 00:00:00\n"
       ]
      }
     ],
     "prompt_number": 3
    },
    {
     "cell_type": "code",
     "collapsed": false,
     "input": [
      "#Symbols for for equities of AAPL(Apple)\n",
      "ls_symbols=['AAPL']\n",
      "print '\\nSymbols for equities: ',ls_symbols"
     ],
     "language": "python",
     "metadata": {},
     "outputs": [
      {
       "output_type": "stream",
       "stream": "stdout",
       "text": [
        "\n",
        "Symbols for equities:  ['AAPL']\n"
       ]
      }
     ],
     "prompt_number": 4
    },
    {
     "cell_type": "code",
     "collapsed": false,
     "input": [
      "# Datetime object and timedelta function wiht 'hours=16'(16 pm) limiting only the market open hours\n",
      "dt_timeofday=dt.timedelta(hours=16)"
     ],
     "language": "python",
     "metadata": {},
     "outputs": [],
     "prompt_number": 10
    },
    {
     "cell_type": "code",
     "collapsed": false,
     "input": [
      "#QSTK object(du.getNYSEdays) allows you to pick the trading hours\n",
      "ldt_timestamps=du.getNYSEdays(dt_start,dt_end,dt_timeofday)"
     ],
     "language": "python",
     "metadata": {},
     "outputs": [],
     "prompt_number": 11
    },
    {
     "cell_type": "code",
     "collapsed": false,
     "input": [
      "#print ldt_timestamps\n",
      "ldt_timestamps[:5]"
     ],
     "language": "python",
     "metadata": {},
     "outputs": [
      {
       "metadata": {},
       "output_type": "pyout",
       "prompt_number": 13,
       "text": [
        "[Timestamp('2011-01-03 16:00:00'),\n",
        " Timestamp('2011-01-04 16:00:00'),\n",
        " Timestamp('2011-01-05 16:00:00'),\n",
        " Timestamp('2011-01-06 16:00:00'),\n",
        " Timestamp('2011-01-07 16:00:00')]"
       ]
      }
     ],
     "prompt_number": 13
    },
    {
     "cell_type": "code",
     "collapsed": false,
     "input": [
      "# QSTK object which allow you to access Yahoo finance web site and to take the stock data\n",
      "c_dataobj=da.DataAccess('Yahoo')"
     ],
     "language": "python",
     "metadata": {},
     "outputs": [],
     "prompt_number": 14
    },
    {
     "cell_type": "code",
     "collapsed": false,
     "input": [
      "# List of the price attributes\n",
      "ls_keys=['open','high','low','close','volume','actual_close'] "
     ],
     "language": "python",
     "metadata": {},
     "outputs": [],
     "prompt_number": 15
    },
    {
     "cell_type": "code",
     "collapsed": false,
     "input": [
      "# pick three attribute from the stock data 'c_object' which yahoo finance provides and finally you can read data in\n",
      "ldf_data=c_dataobj.get_data (ldt_timestamps,ls_symbols ,ls_keys )"
     ],
     "language": "python",
     "metadata": {},
     "outputs": [],
     "prompt_number": 16
    },
    {
     "cell_type": "code",
     "collapsed": false,
     "input": [
      "# Pick up column data which meets what you want to modified\n",
      "d_data=dict(zip(ls_keys ,ldf_data))"
     ],
     "language": "python",
     "metadata": {},
     "outputs": [],
     "prompt_number": 17
    },
    {
     "cell_type": "code",
     "collapsed": false,
     "input": [
      "# Pick up 'close' data form modified data above\n",
      "na_price=d_data['close'].values\n",
      "#print 'close',na_price\n",
      "print '\\nfirst day price data ',na_price[0]\n",
      "print '\\nsecond day price data ',na_price[1]"
     ],
     "language": "python",
     "metadata": {},
     "outputs": [
      {
       "output_type": "stream",
       "stream": "stdout",
       "text": [
        "\n",
        "first day price data  [ 328.16]\n",
        "\n",
        "second day price data  [ 329.87]\n"
       ]
      }
     ],
     "prompt_number": 18
    },
    {
     "cell_type": "code",
     "collapsed": false,
     "input": [
      "Oneday_rets=na_price[1]/na_price[0]\n",
      "print '\\nFirst-Second day return ',Oneday_rets"
     ],
     "language": "python",
     "metadata": {},
     "outputs": [
      {
       "output_type": "stream",
       "stream": "stdout",
       "text": [
        "\n",
        "First-Second day return  [ 1.00521087]\n"
       ]
      }
     ],
     "prompt_number": 19
    },
    {
     "cell_type": "code",
     "collapsed": false,
     "input": [
      "## Daily returns\n",
      "''''correct value'''\n",
      "i=0\n",
      "for i in range(0, len(na_price)-1):\n",
      "    daily_rets=na_price[i+1]/na_price[i]\n",
      "#    print i+1, 'day return= ',daily_rets\n",
      "''''''"
     ],
     "language": "python",
     "metadata": {},
     "outputs": [
      {
       "metadata": {},
       "output_type": "pyout",
       "prompt_number": 20,
       "text": [
        "''"
       ]
      }
     ],
     "prompt_number": 20
    },
    {
     "cell_type": "code",
     "collapsed": false,
     "input": [
      "## a mean of the return on 250 days\n",
      "''''correct value'''\n",
      "i=0\n",
      "total=0\n",
      "for i in range(0, len(na_price)-1): \n",
      "    val= na_price[i] #List of prices\n",
      "    total=total+na_price[i] #\n",
      "    \n",
      "print '\\nchecking value inside valuable :' ,i,val\n",
      "print '\\nsummation of return on prce',total\n",
      "mean_return=total/(i+1)    #Calculating a mean on the price\n",
      "print '\\naverage of 250days price ',mean_return\n"
     ],
     "language": "python",
     "metadata": {},
     "outputs": [
      {
       "output_type": "stream",
       "stream": "stdout",
       "text": [
        "\n",
        "checking value inside valuable : 250 [ 403.39]\n",
        "\n",
        "summation of return on prce [ 90933.67]\n",
        "\n",
        "average of 250days price  [ 362.28553785]\n"
       ]
      }
     ],
     "prompt_number": 22
    },
    {
     "cell_type": "code",
     "collapsed": false,
     "input": [
      "''''''\n",
      "# Standard Deviation of Daily Return\n",
      "'''\n",
      "math notation of standard deviation is that\n",
      "1/sample size*(sum of'(each value-mean)^2)\n",
      "correct answer = 0.016898673\n",
      "'''\n",
      "i=0\n",
      "total=0\n",
      "sample_mean=258.22724\n",
      "for i in range(0,len(na_price)-1):\n",
      "    #vola=na_price[i+1]/na_price[i]\n",
      "    #total=total+((vola-sample_mean)**2)\n",
      "    total=np.sum((na_price[i+1]/na_price[i]-sample_mean)**2)\n",
      "\n",
      "print '\\ntotal',total\n",
      "std_return=np.sqrt(total)*1/250\n",
      "print '\\nVolatility (stdev of daily returns): ',std_return\n"
     ],
     "language": "python",
     "metadata": {},
     "outputs": [
      {
       "output_type": "stream",
       "stream": "stdout",
       "text": [
        "\n",
        "total 66166.0060374\n",
        "\n",
        "Volatility (stdev of daily returns):  1.02891014992\n"
       ]
      }
     ],
     "prompt_number": 23
    },
    {
     "cell_type": "code",
     "collapsed": false,
     "input": [
      "# Allocations to the equities at the beginning of the simulation (e.g., 0.2, 0.3, 0.4, 0.1)\n",
      "## invest 1million in 4 equities\n",
      "ls_optimalAllocations=[0.2, 0.3, 0.4, 0.1]"
     ],
     "language": "python",
     "metadata": {},
     "outputs": [],
     "prompt_number": 24
    },
    {
     "cell_type": "code",
     "collapsed": false,
     "input": [
      "print 'Symbols: ',ls_symbols\n",
      "print 'Optimal Allocations: ',ls_optimalAllocations\n",
      "#print 'Sharp Ratio: ',ls_sharpRatio\n",
      "#print 'Volatility (stdev of daily returns) ',ls_volatility\n",
      "#print 'Average Daily Return: ',ls_averageDailyReturn\n",
      "#print 'Cummlative Return: ',ls_cumulativeReturn"
     ],
     "language": "python",
     "metadata": {},
     "outputs": [
      {
       "output_type": "stream",
       "stream": "stdout",
       "text": [
        " Symbols:  ['AAPL']\n",
        "Optimal Allocations:  [0.2, 0.3, 0.4, 0.1]\n"
       ]
      }
     ],
     "prompt_number": 27
    },
    {
     "cell_type": "code",
     "collapsed": false,
     "input": [],
     "language": "python",
     "metadata": {},
     "outputs": []
    }
   ],
   "metadata": {}
  }
 ]
}