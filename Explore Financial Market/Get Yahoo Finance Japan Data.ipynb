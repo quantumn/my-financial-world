{
 "metadata": {
  "name": "",
  "signature": "sha256:047104adff2fddf6369c303d84ba10afbb0fd71931d0ab5238fd2eb1541170f1"
 },
 "nbformat": 3,
 "nbformat_minor": 0,
 "worksheets": [
  {
   "cells": [
    {
     "cell_type": "code",
     "collapsed": false,
     "input": [
      "import jsm"
     ],
     "language": "python",
     "metadata": {},
     "outputs": [],
     "prompt_number": 9
    },
    {
     "cell_type": "code",
     "collapsed": false,
     "input": [
      "quote= jsm.Quotes() #create instance"
     ],
     "language": "python",
     "metadata": {},
     "outputs": [],
     "prompt_number": 10
    },
    {
     "cell_type": "code",
     "collapsed": false,
     "input": [
      "quote.get_price(6454)    #\u30de\u30c3\u30af\u30b9(\u682a)  \uff2d\uff21\uff38 \uff23\uff2f\uff0e\uff0c\uff2c\uff34\uff24\uff0e"
     ],
     "language": "python",
     "metadata": {},
     "outputs": [
      {
       "metadata": {},
       "output_type": "pyout",
       "prompt_number": 16,
       "text": [
        "<date:2015-06-20 19:55:29.789472 open:1287 high:1287 low:1272 close:1268 volume:45000 _adj_close:1268>"
       ]
      }
     ],
     "prompt_number": 16
    },
    {
     "cell_type": "code",
     "collapsed": false,
     "input": [
      "quote.get_historical_prices(6454)"
     ],
     "language": "python",
     "metadata": {},
     "outputs": [
      {
       "metadata": {},
       "output_type": "pyout",
       "prompt_number": 18,
       "text": [
        "[<date:2015-06-19 00:00:00 open:1287 high:1287 low:1272 close:1284 volume:45000 _adj_close:1284>,\n",
        " <date:2015-06-18 00:00:00 open:1291 high:1291 low:1268 close:1268 volume:24000 _adj_close:1268>,\n",
        " <date:2015-06-17 00:00:00 open:1291 high:1295 low:1275 close:1281 volume:36000 _adj_close:1281>,\n",
        " <date:2015-06-16 00:00:00 open:1295 high:1295 low:1285 close:1288 volume:41000 _adj_close:1288>,\n",
        " <date:2015-06-15 00:00:00 open:1307 high:1308 low:1297 close:1300 volume:43000 _adj_close:1300>,\n",
        " <date:2015-06-12 00:00:00 open:1318 high:1318 low:1314 close:1317 volume:77000 _adj_close:1317>,\n",
        " <date:2015-06-11 00:00:00 open:1308 high:1313 low:1306 close:1313 volume:56000 _adj_close:1313>,\n",
        " <date:2015-06-10 00:00:00 open:1302 high:1307 low:1300 close:1300 volume:42000 _adj_close:1300>,\n",
        " <date:2015-06-09 00:00:00 open:1311 high:1312 low:1303 close:1304 volume:41000 _adj_close:1304>,\n",
        " <date:2015-06-08 00:00:00 open:1313 high:1317 low:1310 close:1313 volume:11000 _adj_close:1313>,\n",
        " <date:2015-06-05 00:00:00 open:1307 high:1316 low:1301 close:1312 volume:92000 _adj_close:1312>,\n",
        " <date:2015-06-04 00:00:00 open:1309 high:1310 low:1305 close:1310 volume:34000 _adj_close:1310>,\n",
        " <date:2015-06-03 00:00:00 open:1304 high:1317 low:1302 close:1312 volume:57000 _adj_close:1312>,\n",
        " <date:2015-06-02 00:00:00 open:1306 high:1307 low:1302 close:1306 volume:52000 _adj_close:1306>,\n",
        " <date:2015-06-01 00:00:00 open:1310 high:1310 low:1298 close:1301 volume:78000 _adj_close:1301>,\n",
        " <date:2015-05-29 00:00:00 open:1306 high:1308 low:1300 close:1303 volume:53000 _adj_close:1303>,\n",
        " <date:2015-05-28 00:00:00 open:1316 high:1320 low:1303 close:1312 volume:49000 _adj_close:1312>,\n",
        " <date:2015-05-27 00:00:00 open:1313 high:1319 low:1310 close:1315 volume:46000 _adj_close:1315>,\n",
        " <date:2015-05-26 00:00:00 open:1317 high:1325 low:1314 close:1316 volume:32000 _adj_close:1316>,\n",
        " <date:2015-05-25 00:00:00 open:1328 high:1328 low:1314 close:1316 volume:43000 _adj_close:1316>,\n",
        " <date:2015-05-22 00:00:00 open:1322 high:1323 low:1313 close:1323 volume:48000 _adj_close:1323>,\n",
        " <date:2015-05-21 00:00:00 open:1310 high:1324 low:1308 close:1315 volume:78000 _adj_close:1315>]"
       ]
      }
     ],
     "prompt_number": 18
    },
    {
     "cell_type": "code",
     "collapsed": false,
     "input": [
      "quote.get_historical_prices(6454,jsm.WEEKLY)"
     ],
     "language": "python",
     "metadata": {},
     "outputs": [
      {
       "metadata": {},
       "output_type": "pyout",
       "prompt_number": 19,
       "text": [
        "[<date:2015-06-15 00:00:00 open:1307 high:1308 low:1268 close:1284 volume:189000 _adj_close:1284>,\n",
        " <date:2015-06-08 00:00:00 open:1313 high:1318 low:1300 close:1317 volume:227000 _adj_close:1317>,\n",
        " <date:2015-06-01 00:00:00 open:1310 high:1317 low:1298 close:1312 volume:313000 _adj_close:1312>,\n",
        " <date:2015-05-25 00:00:00 open:1328 high:1328 low:1300 close:1303 volume:223000 _adj_close:1303>]"
       ]
      }
     ],
     "prompt_number": 19
    },
    {
     "cell_type": "code",
     "collapsed": false,
     "input": [
      "quote.get_historical_prices(6454,jsm.MONTHLY)"
     ],
     "language": "python",
     "metadata": {},
     "outputs": [
      {
       "metadata": {},
       "output_type": "pyout",
       "prompt_number": 21,
       "text": [
        "[<date:2015-06-01 00:00:00 open:1310 high:1318 low:1268 close:1284 volume:729000 _adj_close:1284>,\n",
        " <date:2015-05-01 00:00:00 open:1350 high:1360 low:1283 close:1303 volume:909000 _adj_close:1303>]"
       ]
      }
     ],
     "prompt_number": 21
    },
    {
     "cell_type": "code",
     "collapsed": false,
     "input": [
      "import datetime\n"
     ],
     "language": "python",
     "metadata": {},
     "outputs": [],
     "prompt_number": 24
    },
    {
     "cell_type": "code",
     "collapsed": false,
     "input": [
      "start_date = datetime.date(2015, 4, 1)\n",
      "end_date = datetime.date(2015, 6, 1)\n",
      "quote.get_historical_prices(6454, jsm.WEEKLY, start_date, end_date) "
     ],
     "language": "python",
     "metadata": {},
     "outputs": [
      {
       "metadata": {},
       "output_type": "pyout",
       "prompt_number": 41,
       "text": [
        "[<date:2015-06-01 00:00:00 open:1310 high:1317 low:1298 close:1312 volume:313000 _adj_close:1312>,\n",
        " <date:2015-05-25 00:00:00 open:1328 high:1328 low:1300 close:1303 volume:223000 _adj_close:1303>,\n",
        " <date:2015-05-18 00:00:00 open:1301 high:1324 low:1291 close:1323 volume:248000 _adj_close:1323>,\n",
        " <date:2015-05-11 00:00:00 open:1331 high:1332 low:1292 close:1301 volume:227000 _adj_close:1301>,\n",
        " <date:2015-05-07 00:00:00 open:1319 high:1343 low:1298 close:1324 volume:116000 _adj_close:1324>,\n",
        " <date:2015-04-27 00:00:00 open:1382 high:1390 low:1283 close:1289 volume:265000 _adj_close:1289>,\n",
        " <date:2015-04-20 00:00:00 open:1379 high:1400 low:1352 close:1374 volume:180000 _adj_close:1374>,\n",
        " <date:2015-04-13 00:00:00 open:1397 high:1406 low:1372 close:1389 volume:157000 _adj_close:1389>,\n",
        " <date:2015-04-06 00:00:00 open:1422 high:1436 low:1391 close:1410 volume:232000 _adj_close:1410>]"
       ]
      }
     ],
     "prompt_number": 41
    },
    {
     "cell_type": "code",
     "collapsed": false,
     "input": [
      "quote.get_finance(6454)"
     ],
     "language": "python",
     "metadata": {},
     "outputs": [
      {
       "metadata": {},
       "output_type": "pyout",
       "prompt_number": 42,
       "text": [
        "<market_cap:63559 shares_issued:49500626 dividend_yield:2.88 dividend_one:37.00 per:17.83 pbr:0.97 eps:72.02 bps:1326.48 price_min:1284000 round_lot:1000 years_high:1469 years_low:1198>"
       ]
      }
     ],
     "prompt_number": 42
    },
    {
     "cell_type": "code",
     "collapsed": false,
     "input": [
      "quote.get_brand( '3600')  #'0050'  \u8fb2\u6797\u30fb\u6c34\u7523\u696d"
     ],
     "language": "python",
     "metadata": {},
     "outputs": [
      {
       "metadata": {},
       "output_type": "pyout",
       "prompt_number": 43,
       "text": [
        "[<ccode:1301 market:\u6771\u8a3c1\u90e8 name:(\u682a)\u6975\u6d0b info:\u6c34\u7523\u54c1\u306e\u8cbf\u6613\u3001\u52a0\u5de5\u3001\u8cb7\u3044\u4ed8\u3051\u4e3b\u529b\u3002\u3059\u3057\u30cd\u30bf\u306b\u5f37\u307f\u3002\u52a0\u5de5\u98df\u54c1\u306f\u696d\u52d9\u7528\u304c\u8ef8\u3002\u6d77\u5916\u52a0\u5de5\u6bd4\u7387\u9ad8\u3044>,\n",
        " <ccode:1332 market:\u6771\u8a3c1\u90e8 name:\u65e5\u672c\u6c34\u7523(\u682a) info:\u6c34\u7523\u54c1\u51b7\u98df\u306e\u5927\u624b\u3002\u9b5a\u6cb9\u6210\u5206\u4f7f\u7528\u3057\u305f\u5316\u6210\u54c1\u304c\u5229\u76ca\u67f1\u3002\uff2d\uff06\uff21\u99c6\u4f7f\u3057\u4e16\u754c\u7684\uff33\uff23\uff2d\u69cb\u7bc9\u76ee\u6307\u3059>,\n",
        " <ccode:1333 market:\u6771\u8a3c1\u90e8 name:\u30de\u30eb\u30cf\u30cb\u30c1\u30ed(\u682a) info:\u6c34\u7523\u6700\u5927\u624b\u3002\u6c34\u7523\u4e8b\u696d\u306e\u30a6\u30a8\u30fc\u30c8\u9ad8\u3044\u3002\u56fd\u5185\u306b\u5f37\u56fa\u306a\u6d41\u901a\u7db2\u6301\u3064\u3002\u755c\u7523\u3084\u5316\u6210\u54c1\u3082\u624b\u639b\u3051\u308b>,\n",
        " <ccode:1376 market:\u6771\u8a3cJQS name:\u30ab\u30cd\u30b3\u7a2e\u82d7(\u682a) info:\u91ce\u83dc\u30fb\u7267\u8349\u7a2e\u5b50\u306a\u3069\u7a2e\u82d7\u4e8b\u696d\u3084\u8fb2\u85ac\u304c\u53ce\u76ca\u67f1\u3002\u8fb2\u696d\u8cc7\u6750\u3084\u82b1\u304d\u3082\u8ca9\u58f2\u3002\u5229\u76ca\u306f\u4e0b\u671f\u306e\u6bd4\u91cd\u9ad8\u3044>,\n",
        " <ccode:1377 market:\u6771\u8a3c1\u90e8 name:(\u682a)\u30b5\u30ab\u30bf\u306e\u30bf\u30cd info:\u7a2e\u82d7\u9996\u4f4d\u7d1a\u3002\u30a2\u30f3\u30c7\u30b9\u30e1\u30ed\u30f3\u7b49\u306e\u81ea\u793e\u958b\u767a\u54c1\u591a\u5f69\u3002\u30d6\u30ed\u30c3\u30b3\u30ea\u30fc\u7a2e\u306e\u4e16\u754c\u30b7\u30a7\u30a2\uff16\u5272\u3068\u6d77\u5916\u62e1\u5927>,\n",
        " <ccode:1379 market:\u6771\u8a3c1\u90e8 name:\u30db\u30af\u30c8(\u682a) info:\u30ad\u30ce\u30b3\u6700\u5927\u624b\u3002\u5730\u76e4\u306e\u9577\u91ce\u4e2d\u5fc3\u306b\u5168\u56fd\u3078\u751f\u7523\u62e0\u70b9\u5c55\u958b\u3002\u3057\u3044\u305f\u3051\u9032\u51fa\u306b\u3082\u610f\u6b32\u3002\u53f0\u6e7e\u306a\u3069\u6d77\u5916\u3082>,\n",
        " <ccode:1380 market:\u6771\u8a3cJQS name:(\u682a)\u79cb\u5ddd\u7267\u5712 info:\u7121\u8fb2\u85ac\u30fb\u7121\u6295\u85ac\u306e\u98df\u8089\u3001\u9d8f\u5375\u3001\u725b\u4e73\u7b49\u3092\u88fd\u9020\u8ca9\u58f2\u3002\u4e3b\u529b\u306e\u751f\u5354\u7d4c\u7531\u306b\u52a0\u3048\u3066\u76f4\u8ca9\u5b85\u914d\u3092\u5f37\u5316>,\n",
        " <ccode:1381 market:\u6771\u8a3cJQS name:(\u682a)\u30a2\u30af\u30b7\u30fc\u30ba info:\u9d8f\u8089\u56fd\u5185\u5927\u624b\u3002\u30b1\u30f3\u30bf\u30c3\u30ad\u30fc\uff08\uff2b\uff26\uff23\uff09\u3068\u98df\u8089\u5378\u5411\u3051\u67f1\u3002\u98fc\u6599\u88fd\u9020\u304b\u3089\u52a0\u5de5\u307e\u3067\u4e00\u8cab\u3002\u5916\u98df\uff26\uff23\u3082>,\n",
        " <ccode:1382 market:\u6771\u8a3cJQS name:(\u682a)\u30db\u30fc\u30d6 info:\u590f\u79cb\u306f\u81ea\u793e\u54c1\u7a2e\u3001\u51ac\u306f\u4ed5\u5165\u308c\u305f\u30a4\u30c1\u30b4\u679c\u5b9f\u3092\u5927\u624b\u6d0b\u83d3\u5b50\u30e1\u30fc\u30ab\u30fc\u7b49\u306b\u8ca9\u58f2\u3002\u7a2e\u99ac\u9234\u85af\u3082\u624b\u639b\u3051\u308b>,\n",
        " <ccode:1383 market:\u6771\u8a3cJQS name:\u30d9\u30eb\u30b0\u30a2\u30fc\u30b9(\u682a) info:\u63a5\u304e\u6728\u3057\u305f\u30c8\u30de\u30c8\u3001\u30ad\u30e5\u30a6\u30ea\u306a\u3069\u306e\u91ce\u83dc\u82d7\u3092\u751f\u7523\u8ca9\u58f2\u3002\u75c5\u5bb3\u866b\u3001\u9023\u4f5c\u969c\u5bb3\u306b\u5f37\u3044\u82d7\u958b\u767a\u304c\u5f37\u307f>,\n",
        " <ccode:1384 market:\u6771\u8a3c2\u90e8 name:(\u682a)\u30db\u30af\u30ea\u30e8\u30a6 info:\u63a1\u5375\u990a\u9d8f\u5834\u5927\u624b\u3067\u5317\u6d77\u9053\u3067\u30b7\u30a7\u30a2\uff15\u5272\u3002\u96db\u304b\u3089\u306e\u4e00\u8cab\u751f\u7523\u3084\u76f4\u63a5\u8ca9\u58f2\u306b\u7279\u5fb4\u3001\u672c\u5dde\u958b\u62d3\u3092\u5f37\u5316\u3078>]"
       ]
      }
     ],
     "prompt_number": 43
    },
    {
     "cell_type": "heading",
     "level": 2,
     "metadata": {},
     "source": [
      "'0050' # \u8fb2\u6797\u30fb\u6c34\u7523\u696d\n",
      "'1050' # \u9271\u696d\n",
      "'2050' # \u5efa\u8a2d\u696d\n",
      "'3050' # \u98df\u6599\u54c1\n",
      "'3100' # \u7e4a\u7dad\u88fd\u54c1\n",
      "'3150' # \u30d1\u30eb\u30d7\u30fb\u7d19\n",
      "'3200' # \u5316\u5b66\n",
      "'3250' # \u533b\u85ac\u54c1\n",
      "'3300' # \u77f3\u6cb9\u30fb\u77f3\u70ad\u88fd\u54c1\n",
      "'3350' # \u30b4\u30e0\u88fd\u54c1\n",
      "'3400' # \u30ac\u30e9\u30b9\u30fb\u571f\u77f3\u88fd\u54c1\n",
      "'3450' # \u9244\u92fc\n",
      "'3500' # \u975e\u9244\u91d1\u5c5e\n",
      "'3550' # \u91d1\u5c5e\u88fd\u54c1\n",
      "'3600' # \u6a5f\u68b0\n",
      "'3650' # \u96fb\u6c17\u6a5f\u5668\n",
      "'3700' # \u8f38\u9001\u6a5f\u5668\n",
      "'3750' # \u7cbe\u5bc6\u6a5f\u5668\n",
      "'3800' # \u305d\u306e\u4ed6\u88fd\u54c1\n",
      "'4050' # \u96fb\u6c17\u30fb\u30ac\u30b9\u696d\n",
      "'5050' # \u9678\u904b\u696d\n",
      "'5100' # \u6d77\u904b\u696d\n",
      "'5150' # \u7a7a\u904b\u696d\n",
      "'5200' # \u5009\u5eab\u30fb\u904b\u8f38\u95a2\u9023\u696d\n",
      "'5250' # \u60c5\u5831\u30fb\u901a\u4fe1\n",
      "'6050' # \u5378\u58f2\u696d\n",
      "'6100' # \u5c0f\u58f2\u696d\n",
      "'7050' # \u9280\u884c\u696d\n",
      "'7100' # \u8a3c\u5238\u696d\n",
      "'7150' # \u4fdd\u967a\u696d\n",
      "'7200' # \u305d\u306e\u4ed6\u91d1\u878d\u696d\n",
      "'8050' # \u4e0d\u52d5\u7523\u696d\n",
      "'9050' # \u30b5\u30fc\u30d3\u30b9\u696d"
     ]
    },
    {
     "cell_type": "code",
     "collapsed": false,
     "input": [],
     "language": "python",
     "metadata": {},
     "outputs": []
    }
   ],
   "metadata": {}
  }
 ]
}