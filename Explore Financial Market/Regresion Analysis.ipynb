{
 "metadata": {
  "name": "",
  "signature": "sha256:26f3673cad903b83696ffb1b3062f67464432734bf32af1c627a042f7f19fd04"
 },
 "nbformat": 3,
 "nbformat_minor": 0,
 "worksheets": [
  {
   "cells": [
    {
     "cell_type": "code",
     "collapsed": false,
     "input": [
      "import pandas as pd\n",
      "from urllib  import urlretrieve\n"
     ],
     "language": "python",
     "metadata": {},
     "outputs": [],
     "prompt_number": 31
    },
    {
     "cell_type": "code",
     "collapsed": false,
     "input": [
      "es_url = 'http://www.stoxx.com/download/historical_values/hbrbcpe.txt'\n",
      "vs_url = 'http://www.stoxx.com/download/historical_values/h_vstoxx.txt'"
     ],
     "language": "python",
     "metadata": {},
     "outputs": [],
     "prompt_number": 6
    },
    {
     "cell_type": "code",
     "collapsed": false,
     "input": [
      "urlretrieve(es_url, './es.txt')\n",
      "urlretrieve(vs_url, './vs.txt')\n",
      "!ls -o ./*.txt"
     ],
     "language": "python",
     "metadata": {},
     "outputs": [
      {
       "output_type": "stream",
       "stream": "stdout",
       "text": [
        "-rw-rw-r-- 1 quantum 657833  6\u6708 18 21:37 ./es.txt\r\n",
        "-rw-rw-r-- 1 quantum 345301  6\u6708 18 21:37 ./vs.txt\r\n"
       ]
      }
     ],
     "prompt_number": 10
    },
    {
     "cell_type": "code",
     "collapsed": false,
     "input": [
      "lines=open('es.txt','r').readlines()\n",
      "lines=[line.replace(' ','') for line in lines]"
     ],
     "language": "python",
     "metadata": {},
     "outputs": [],
     "prompt_number": 13
    },
    {
     "cell_type": "code",
     "collapsed": false,
     "input": [
      "lines[:6]"
     ],
     "language": "python",
     "metadata": {},
     "outputs": [
      {
       "metadata": {},
       "output_type": "pyout",
       "prompt_number": 14,
       "text": [
        "['PriceIndices-EUROCurrency\\n',\n",
        " 'Date;Blue-Chip;Blue-Chip;Broad;Broad;ExUK;ExEuroZone;Blue-Chip;Broad\\n',\n",
        " ';Europe;Euro-Zone;Europe;Euro-Zone;;;Nordic;Nordic\\n',\n",
        " ';SX5P;SX5E;SXXP;SXXE;SXXF;SXXA;DK5F;DKXF\\n',\n",
        " '31.12.1986;775.00;900.82;82.76;98.58;98.06;69.06;645.26;65.56\\n',\n",
        " '01.01.1987;775.00;900.82;82.76;98.58;98.06;69.06;645.26;65.56\\n']"
       ]
      }
     ],
     "prompt_number": 14
    },
    {
     "cell_type": "code",
     "collapsed": false,
     "input": [
      "for line in lines[3883:3890]:\n",
      "    print line[41:]"
     ],
     "language": "python",
     "metadata": {},
     "outputs": [
      {
       "output_type": "stream",
       "stream": "stdout",
       "text": [
        "317.10;267.23;5268.36;363.19\n",
        "\n",
        "322.55;272.18;5360.52;370.94\n",
        "\n",
        "322.69;272.95;5360.52;370.94\n",
        "\n",
        "327.57;277.68;5479.59;378.69;\n",
        "\n",
        "329.94;278.87;5585.35;386.99;\n",
        "\n",
        "326.77;272.38;5522.25;380.09;\n",
        "\n",
        "332.62;277.08;5722.57;396.12;\n",
        "\n"
       ]
      }
     ],
     "prompt_number": 15
    },
    {
     "cell_type": "code",
     "collapsed": false,
     "input": [
      "new_file = open('es50.txt', 'w')\n",
      "    # opens a new file\n",
      "new_file.writelines('date' + lines[3][:-1]\n",
      "                    + ';DEL' + lines[3][-1])\n",
      "    # writes the corrected third line of the orginal file\n",
      "    # as first line of new file\n",
      "new_file.writelines(lines[4:])\n",
      "    # writes the remaining lines of the orginial file\n",
      "new_file.close()"
     ],
     "language": "python",
     "metadata": {},
     "outputs": [],
     "prompt_number": 17
    },
    {
     "cell_type": "code",
     "collapsed": false,
     "input": [
      "new_lines = open('es50.txt', 'r').readlines()"
     ],
     "language": "python",
     "metadata": {},
     "outputs": [],
     "prompt_number": 18
    },
    {
     "cell_type": "code",
     "collapsed": false,
     "input": [
      "new_lines[:5]"
     ],
     "language": "python",
     "metadata": {},
     "outputs": [
      {
       "metadata": {},
       "output_type": "pyout",
       "prompt_number": 19,
       "text": [
        "['date;SX5P;SX5E;SXXP;SXXE;SXXF;SXXA;DK5F;DKXF;DEL\\n',\n",
        " '31.12.1986;775.00;900.82;82.76;98.58;98.06;69.06;645.26;65.56\\n',\n",
        " '01.01.1987;775.00;900.82;82.76;98.58;98.06;69.06;645.26;65.56\\n',\n",
        " '02.01.1987;770.89;891.78;82.57;97.80;97.43;69.37;647.62;65.81\\n',\n",
        " '05.01.1987;771.89;898.33;82.82;98.60;98.19;69.16;649.94;65.82\\n']"
       ]
      }
     ],
     "prompt_number": 19
    },
    {
     "cell_type": "code",
     "collapsed": false,
     "input": [
      "es=pd.read_csv('es50.txt',index_col=0,parse_dates=True,sep=';',dayfirst=True)\n",
      "\n"
     ],
     "language": "python",
     "metadata": {},
     "outputs": [],
     "prompt_number": 29
    },
    {
     "cell_type": "code",
     "collapsed": false,
     "input": [
      "import numpy as np"
     ],
     "language": "python",
     "metadata": {},
     "outputs": [],
     "prompt_number": 32
    },
    {
     "cell_type": "code",
     "collapsed": false,
     "input": [
      "np.round(es.tail())"
     ],
     "language": "python",
     "metadata": {},
     "outputs": [
      {
       "html": [
        "<div style=\"max-height:1000px;max-width:1500px;overflow:auto;\">\n",
        "<table border=\"1\" class=\"dataframe\">\n",
        "  <thead>\n",
        "    <tr style=\"text-align: right;\">\n",
        "      <th></th>\n",
        "      <th>SX5P</th>\n",
        "      <th>SX5E</th>\n",
        "      <th>SXXP</th>\n",
        "      <th>SXXE</th>\n",
        "      <th>SXXF</th>\n",
        "      <th>SXXA</th>\n",
        "      <th>DK5F</th>\n",
        "      <th>DKXF</th>\n",
        "      <th>DEL</th>\n",
        "    </tr>\n",
        "    <tr>\n",
        "      <th>date</th>\n",
        "      <th></th>\n",
        "      <th></th>\n",
        "      <th></th>\n",
        "      <th></th>\n",
        "      <th></th>\n",
        "      <th></th>\n",
        "      <th></th>\n",
        "      <th></th>\n",
        "      <th></th>\n",
        "    </tr>\n",
        "  </thead>\n",
        "  <tbody>\n",
        "    <tr>\n",
        "      <th>2015-06-11</th>\n",
        "      <td> 3383</td>\n",
        "      <td> 3552</td>\n",
        "      <td> 393</td>\n",
        "      <td> 367</td>\n",
        "      <td> 460</td>\n",
        "      <td> 407</td>\n",
        "      <td> 10723</td>\n",
        "      <td> 641</td>\n",
        "      <td>NaN</td>\n",
        "    </tr>\n",
        "    <tr>\n",
        "      <th>2015-06-12</th>\n",
        "      <td> 3351</td>\n",
        "      <td> 3503</td>\n",
        "      <td> 389</td>\n",
        "      <td> 362</td>\n",
        "      <td> 456</td>\n",
        "      <td> 404</td>\n",
        "      <td> 10670</td>\n",
        "      <td> 638</td>\n",
        "      <td>NaN</td>\n",
        "    </tr>\n",
        "    <tr>\n",
        "      <th>2015-06-15</th>\n",
        "      <td> 3298</td>\n",
        "      <td> 3438</td>\n",
        "      <td> 383</td>\n",
        "      <td> 356</td>\n",
        "      <td> 447</td>\n",
        "      <td> 398</td>\n",
        "      <td> 10469</td>\n",
        "      <td> 625</td>\n",
        "      <td>NaN</td>\n",
        "    </tr>\n",
        "    <tr>\n",
        "      <th>2015-06-16</th>\n",
        "      <td> 3320</td>\n",
        "      <td> 3454</td>\n",
        "      <td> 385</td>\n",
        "      <td> 357</td>\n",
        "      <td> 450</td>\n",
        "      <td> 401</td>\n",
        "      <td> 10531</td>\n",
        "      <td> 629</td>\n",
        "      <td>NaN</td>\n",
        "    </tr>\n",
        "    <tr>\n",
        "      <th>2015-06-17</th>\n",
        "      <td> 3313</td>\n",
        "      <td> 3429</td>\n",
        "      <td> 384</td>\n",
        "      <td> 355</td>\n",
        "      <td> 447</td>\n",
        "      <td> 401</td>\n",
        "      <td> 10447</td>\n",
        "      <td> 624</td>\n",
        "      <td>NaN</td>\n",
        "    </tr>\n",
        "  </tbody>\n",
        "</table>\n",
        "</div>"
       ],
       "metadata": {},
       "output_type": "pyout",
       "prompt_number": 33,
       "text": [
        "            SX5P  SX5E  SXXP  SXXE  SXXF  SXXA   DK5F  DKXF  DEL\n",
        "date                                                            \n",
        "2015-06-11  3383  3552   393   367   460   407  10723   641  NaN\n",
        "2015-06-12  3351  3503   389   362   456   404  10670   638  NaN\n",
        "2015-06-15  3298  3438   383   356   447   398  10469   625  NaN\n",
        "2015-06-16  3320  3454   385   357   450   401  10531   629  NaN\n",
        "2015-06-17  3313  3429   384   355   447   401  10447   624  NaN"
       ]
      }
     ],
     "prompt_number": 33
    },
    {
     "cell_type": "code",
     "collapsed": false,
     "input": [
      "del es['DEL']\n",
      "es.info()"
     ],
     "language": "python",
     "metadata": {},
     "outputs": [
      {
       "output_type": "stream",
       "stream": "stdout",
       "text": [
        "<class 'pandas.core.frame.DataFrame'>\n",
        "DatetimeIndex: 7336 entries, 1986-12-31 00:00:00 to 2015-06-17 00:00:00\n",
        "Data columns (total 8 columns):\n",
        "SX5P    7336 non-null float64\n",
        "SX5E    7336 non-null float64\n",
        "SXXP    7336 non-null float64\n",
        "SXXE    7336 non-null float64\n",
        "SXXF    7336 non-null float64\n",
        "SXXA    7336 non-null float64\n",
        "DK5F    7336 non-null float64\n",
        "DKXF    7336 non-null float64\n",
        "dtypes: float64(8)"
       ]
      }
     ],
     "prompt_number": 34
    },
    {
     "cell_type": "code",
     "collapsed": false,
     "input": [
      "cols = ['SX5P', 'SX5E', 'SXXP', 'SXXE', 'SXXF', 'SXXA', 'DK5F', 'DKXF']\n",
      "es = pd.read_csv(es_url, index_col=0, parse_dates=True, sep=';', dayfirst=True, header=None,\n",
      "                 skiprows=4, names=cols)"
     ],
     "language": "python",
     "metadata": {},
     "outputs": [],
     "prompt_number": 37
    },
    {
     "cell_type": "code",
     "collapsed": false,
     "input": [
      "es.tail()"
     ],
     "language": "python",
     "metadata": {},
     "outputs": [
      {
       "html": [
        "<div style=\"max-height:1000px;max-width:1500px;overflow:auto;\">\n",
        "<table border=\"1\" class=\"dataframe\">\n",
        "  <thead>\n",
        "    <tr style=\"text-align: right;\">\n",
        "      <th></th>\n",
        "      <th>SX5P</th>\n",
        "      <th>SX5E</th>\n",
        "      <th>SXXP</th>\n",
        "      <th>SXXE</th>\n",
        "      <th>SXXF</th>\n",
        "      <th>SXXA</th>\n",
        "      <th>DK5F</th>\n",
        "      <th>DKXF</th>\n",
        "    </tr>\n",
        "  </thead>\n",
        "  <tbody>\n",
        "    <tr>\n",
        "      <th>2015-06-11</th>\n",
        "      <td> 3383.11</td>\n",
        "      <td> 3551.91</td>\n",
        "      <td> 393.00</td>\n",
        "      <td> 366.85</td>\n",
        "      <td> 460.21</td>\n",
        "      <td> 407.01</td>\n",
        "      <td> 10722.71</td>\n",
        "      <td> 640.88</td>\n",
        "    </tr>\n",
        "    <tr>\n",
        "      <th>2015-06-12</th>\n",
        "      <td> 3350.67</td>\n",
        "      <td> 3502.77</td>\n",
        "      <td> 389.38</td>\n",
        "      <td> 362.18</td>\n",
        "      <td> 455.54</td>\n",
        "      <td> 404.49</td>\n",
        "      <td> 10670.35</td>\n",
        "      <td> 637.61</td>\n",
        "    </tr>\n",
        "    <tr>\n",
        "      <th>2015-06-15</th>\n",
        "      <td> 3298.34</td>\n",
        "      <td> 3438.07</td>\n",
        "      <td> 383.02</td>\n",
        "      <td> 355.69</td>\n",
        "      <td> 447.08</td>\n",
        "      <td> 398.41</td>\n",
        "      <td> 10468.74</td>\n",
        "      <td> 625.16</td>\n",
        "    </tr>\n",
        "    <tr>\n",
        "      <th>2015-06-16</th>\n",
        "      <td> 3320.25</td>\n",
        "      <td> 3454.09</td>\n",
        "      <td> 385.49</td>\n",
        "      <td> 357.49</td>\n",
        "      <td> 449.87</td>\n",
        "      <td> 401.46</td>\n",
        "      <td> 10530.97</td>\n",
        "      <td> 629.23</td>\n",
        "    </tr>\n",
        "    <tr>\n",
        "      <th>2015-06-17</th>\n",
        "      <td> 3313.12</td>\n",
        "      <td> 3428.76</td>\n",
        "      <td> 383.74</td>\n",
        "      <td> 354.70</td>\n",
        "      <td> 446.58</td>\n",
        "      <td> 400.74</td>\n",
        "      <td> 10447.10</td>\n",
        "      <td> 623.90</td>\n",
        "    </tr>\n",
        "  </tbody>\n",
        "</table>\n",
        "</div>"
       ],
       "metadata": {},
       "output_type": "pyout",
       "prompt_number": 38,
       "text": [
        "               SX5P     SX5E    SXXP    SXXE    SXXF    SXXA      DK5F    DKXF\n",
        "2015-06-11  3383.11  3551.91  393.00  366.85  460.21  407.01  10722.71  640.88\n",
        "2015-06-12  3350.67  3502.77  389.38  362.18  455.54  404.49  10670.35  637.61\n",
        "2015-06-15  3298.34  3438.07  383.02  355.69  447.08  398.41  10468.74  625.16\n",
        "2015-06-16  3320.25  3454.09  385.49  357.49  449.87  401.46  10530.97  629.23\n",
        "2015-06-17  3313.12  3428.76  383.74  354.70  446.58  400.74  10447.10  623.90"
       ]
      }
     ],
     "prompt_number": 38
    },
    {
     "cell_type": "code",
     "collapsed": false,
     "input": [
      "\n"
     ],
     "language": "python",
     "metadata": {},
     "outputs": [],
     "prompt_number": 54
    },
    {
     "cell_type": "code",
     "collapsed": false,
     "input": [
      "vs = pd.read_csv('vs.txt', index_col=0, header=2, parse_dates=True, sep=',', dayfirst=True)\n",
      "vs.info()"
     ],
     "language": "python",
     "metadata": {},
     "outputs": [
      {
       "output_type": "stream",
       "stream": "stdout",
       "text": [
        "<class 'pandas.core.frame.DataFrame'>\n",
        "DatetimeIndex: 4189 entries, 1999-01-04 00:00:00 to 2015-06-17 00:00:00\n",
        "Data columns (total 9 columns):\n",
        "V2TX    4189 non-null float64\n",
        "V6I1    3754 non-null float64\n",
        "V6I2    4189 non-null float64\n",
        "V6I3    4133 non-null float64\n",
        "V6I4    4189 non-null float64\n",
        "V6I5    4189 non-null float64\n",
        "V6I6    4173 non-null float64\n",
        "V6I7    4189 non-null float64\n",
        "V6I8    4177 non-null float64\n",
        "dtypes: float64(9)"
       ]
      }
     ],
     "prompt_number": 60
    },
    {
     "cell_type": "code",
     "collapsed": false,
     "input": [
      "import datetime as dt\n",
      "data = pd.DataFrame({'EUROSTOXX' : es['SX5E'][es.index > dt.datetime(1999, 1, 1)]})\n",
      "data = data.join(pd.DataFrame({'VSTOXX' : vs['V2TX'][vs.index > dt.datetime(1999, 1, 1)]}))\n",
      "    "
     ],
     "language": "python",
     "metadata": {},
     "outputs": [],
     "prompt_number": 61
    },
    {
     "cell_type": "code",
     "collapsed": false,
     "input": [
      "data=data.fillna(method='ffill')"
     ],
     "language": "python",
     "metadata": {},
     "outputs": [],
     "prompt_number": 62
    },
    {
     "cell_type": "code",
     "collapsed": false,
     "input": [
      "data.info()"
     ],
     "language": "python",
     "metadata": {},
     "outputs": [
      {
       "output_type": "stream",
       "stream": "stdout",
       "text": [
        "<class 'pandas.core.frame.DataFrame'>\n",
        "DatetimeIndex: 4217 entries, 1999-01-04 00:00:00 to 2015-06-17 00:00:00\n",
        "Data columns (total 2 columns):\n",
        "EUROSTOXX    4217 non-null float64\n",
        "VSTOXX       4217 non-null float64\n",
        "dtypes: float64(2)"
       ]
      }
     ],
     "prompt_number": 63
    },
    {
     "cell_type": "code",
     "collapsed": false,
     "input": [
      "import matplotlib.pyplot as plt\n",
      "%matplotlib inline"
     ],
     "language": "python",
     "metadata": {},
     "outputs": [],
     "prompt_number": 67
    },
    {
     "cell_type": "code",
     "collapsed": false,
     "input": [
      "#data.plot(subplots=True,gird=True,style='b',figsize=(8,6))\n",
      "data.plot(subplots=True, grid=True, style='b', figsize=(8, 6))\n",
      "# tag: es50_vs\n",
      "# title: The EURO STOXX 50 Index and the VSTOXX volatility index"
     ],
     "language": "python",
     "metadata": {},
     "outputs": [
      {
       "metadata": {},
       "output_type": "pyout",
       "prompt_number": 68,
       "text": [
        "array([<matplotlib.axes.AxesSubplot object at 0xabeac20c>,\n",
        "       <matplotlib.axes.AxesSubplot object at 0xabece4ac>], dtype=object)"
       ]
      },
      {
       "metadata": {},
       "output_type": "display_data",
       "png": "[encoded data removed]",
       "text": [
        "<matplotlib.figure.Figure at 0xab707a0c>"
       ]
      }
     ],
     "prompt_number": 68
    },
    {
     "cell_type": "code",
     "collapsed": false,
     "input": [
      "rets=np.log(data/ data.shift(1))"
     ],
     "language": "python",
     "metadata": {},
     "outputs": [],
     "prompt_number": 69
    },
    {
     "cell_type": "code",
     "collapsed": false,
     "input": [
      "rets.head()"
     ],
     "language": "python",
     "metadata": {},
     "outputs": [
      {
       "html": [
        "<div style=\"max-height:1000px;max-width:1500px;overflow:auto;\">\n",
        "<table border=\"1\" class=\"dataframe\">\n",
        "  <thead>\n",
        "    <tr style=\"text-align: right;\">\n",
        "      <th></th>\n",
        "      <th>EUROSTOXX</th>\n",
        "      <th>VSTOXX</th>\n",
        "    </tr>\n",
        "  </thead>\n",
        "  <tbody>\n",
        "    <tr>\n",
        "      <th>1999-01-04</th>\n",
        "      <td>      NaN</td>\n",
        "      <td>      NaN</td>\n",
        "    </tr>\n",
        "    <tr>\n",
        "      <th>1999-01-05</th>\n",
        "      <td> 0.017228</td>\n",
        "      <td> 0.489248</td>\n",
        "    </tr>\n",
        "    <tr>\n",
        "      <th>1999-01-06</th>\n",
        "      <td> 0.022138</td>\n",
        "      <td>-0.165317</td>\n",
        "    </tr>\n",
        "    <tr>\n",
        "      <th>1999-01-07</th>\n",
        "      <td>-0.015723</td>\n",
        "      <td> 0.256337</td>\n",
        "    </tr>\n",
        "    <tr>\n",
        "      <th>1999-01-08</th>\n",
        "      <td>-0.003120</td>\n",
        "      <td> 0.021570</td>\n",
        "    </tr>\n",
        "  </tbody>\n",
        "</table>\n",
        "</div>"
       ],
       "metadata": {},
       "output_type": "pyout",
       "prompt_number": 70,
       "text": [
        "            EUROSTOXX    VSTOXX\n",
        "1999-01-04        NaN       NaN\n",
        "1999-01-05   0.017228  0.489248\n",
        "1999-01-06   0.022138 -0.165317\n",
        "1999-01-07  -0.015723  0.256337\n",
        "1999-01-08  -0.003120  0.021570"
       ]
      }
     ],
     "prompt_number": 70
    },
    {
     "cell_type": "code",
     "collapsed": false,
     "input": [
      "rets.plot(subplots=True,grid=True,style='b',figsize=(8,6))"
     ],
     "language": "python",
     "metadata": {},
     "outputs": [
      {
       "metadata": {},
       "output_type": "pyout",
       "prompt_number": 71,
       "text": [
        "array([<matplotlib.axes.AxesSubplot object at 0xae22a8ec>,\n",
        "       <matplotlib.axes.AxesSubplot object at 0xabe5bb2c>], dtype=object)"
       ]
      },
      {
       "metadata": {},
       "output_type": "display_data",
       "png": "[encoded data removed]",
       "text": [
        "<matplotlib.figure.Figure at 0xae1f8a0c>"
       ]
      }
     ],
     "prompt_number": 71
    },
    {
     "cell_type": "code",
     "collapsed": false,
     "input": [
      "xdat=rets['EUROSTOXX']\n",
      "ydat=rets['VSTOXX']\n",
      "model=pd.ols(y=ydat,x=xdat)\n",
      "model"
     ],
     "language": "python",
     "metadata": {},
     "outputs": [
      {
       "metadata": {},
       "output_type": "pyout",
       "prompt_number": 72,
       "text": [
        "\n",
        "-------------------------Summary of Regression Analysis-------------------------\n",
        "\n",
        "Formula: Y ~ <x> + <intercept>\n",
        "\n",
        "Number of Observations:         4216\n",
        "Number of Degrees of Freedom:   2\n",
        "\n",
        "R-squared:         0.5333\n",
        "Adj R-squared:     0.5332\n",
        "\n",
        "Rmse:              0.0393\n",
        "\n",
        "F-stat (1, 4214):  4815.1505, p-value:     0.0000\n",
        "\n",
        "Degrees of Freedom: model 1, resid 4214\n",
        "\n",
        "-----------------------Summary of Estimated Coefficients------------------------\n",
        "      Variable       Coef    Std Err     t-stat    p-value    CI 2.5%   CI 97.5%\n",
        "--------------------------------------------------------------------------------\n",
        "             x    -2.8010     0.0404     -69.39     0.0000    -2.8801    -2.7219\n",
        "     intercept     0.0001     0.0006       0.14     0.8914    -0.0011     0.0013\n",
        "---------------------------------End of Summary---------------------------------"
       ]
      }
     ],
     "prompt_number": 72
    },
    {
     "cell_type": "code",
     "collapsed": false,
     "input": [
      "model.beta"
     ],
     "language": "python",
     "metadata": {},
     "outputs": [
      {
       "metadata": {},
       "output_type": "pyout",
       "prompt_number": 73,
       "text": [
        "x           -2.801014\n",
        "intercept    0.000083\n",
        "dtype: float64"
       ]
      }
     ],
     "prompt_number": 73
    },
    {
     "cell_type": "code",
     "collapsed": false,
     "input": [
      "plt.plot(xdat, ydat, 'r.')\n",
      "ax = plt.axis()  # grab axis values\n",
      "x = np.linspace(ax[0], ax[1] + 0.01)\n",
      "plt.plot(x, model.beta[1] + model.beta[0] * x, 'b', lw=2)\n",
      "plt.grid(True)\n",
      "plt.axis('tight')\n",
      "plt.xlabel('EURO STOXX 50 returns')\n",
      "plt.ylabel('VSTOXX returns')\n",
      "# tag: scatter_rets\n",
      "# title: Scatter plot of log returns and regression line"
     ],
     "language": "python",
     "metadata": {},
     "outputs": [
      {
       "metadata": {},
       "output_type": "pyout",
       "prompt_number": 74,
       "text": [
        "<matplotlib.text.Text at 0xaa9a18ec>"
       ]
      },
      {
       "metadata": {},
       "output_type": "display_data",
       "png": "[encoded data removed]",
       "text": [
        "<matplotlib.figure.Figure at 0xaa98072c>"
       ]
      }
     ],
     "prompt_number": 74
    },
    {
     "cell_type": "code",
     "collapsed": false,
     "input": [
      "rets.corr()"
     ],
     "language": "python",
     "metadata": {},
     "outputs": [
      {
       "html": [
        "<div style=\"max-height:1000px;max-width:1500px;overflow:auto;\">\n",
        "<table border=\"1\" class=\"dataframe\">\n",
        "  <thead>\n",
        "    <tr style=\"text-align: right;\">\n",
        "      <th></th>\n",
        "      <th>EUROSTOXX</th>\n",
        "      <th>VSTOXX</th>\n",
        "    </tr>\n",
        "  </thead>\n",
        "  <tbody>\n",
        "    <tr>\n",
        "      <th>EUROSTOXX</th>\n",
        "      <td> 1.000000</td>\n",
        "      <td>-0.730267</td>\n",
        "    </tr>\n",
        "    <tr>\n",
        "      <th>VSTOXX</th>\n",
        "      <td>-0.730267</td>\n",
        "      <td> 1.000000</td>\n",
        "    </tr>\n",
        "  </tbody>\n",
        "</table>\n",
        "</div>"
       ],
       "metadata": {},
       "output_type": "pyout",
       "prompt_number": 75,
       "text": [
        "           EUROSTOXX    VSTOXX\n",
        "EUROSTOXX   1.000000 -0.730267\n",
        "VSTOXX     -0.730267  1.000000"
       ]
      }
     ],
     "prompt_number": 75
    },
    {
     "cell_type": "code",
     "collapsed": false,
     "input": [
      "pd.rolling_corr(rets['EUROSTOXX'], rets['VSTOXX'],\n",
      "                window=252).plot(grid=True, style='b')\n",
      "# tag: roll_corr\n",
      "# title: Rolling correlation between EURO STOXX 50 and VSTOXX"
     ],
     "language": "python",
     "metadata": {},
     "outputs": [
      {
       "metadata": {},
       "output_type": "pyout",
       "prompt_number": 76,
       "text": [
        "<matplotlib.axes.AxesSubplot at 0xaa9a69cc>"
       ]
      },
      {
       "metadata": {},
       "output_type": "display_data",
       "png": "[encoded data removed]",
       "text": [
        "<matplotlib.figure.Figure at 0xaa9ab64c>"
       ]
      }
     ],
     "prompt_number": 76
    },
    {
     "cell_type": "code",
     "collapsed": false,
     "input": [],
     "language": "python",
     "metadata": {},
     "outputs": []
    }
   ],
   "metadata": {}
  }
 ]
}