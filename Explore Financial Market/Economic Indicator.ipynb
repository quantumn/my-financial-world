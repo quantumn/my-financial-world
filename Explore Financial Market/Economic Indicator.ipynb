{
 "metadata": {
  "name": "",
  "signature": "sha256:a0f095a0045597946a3503b9bf8ab94285504e72a7e1ef06fe6486b36b08478e"
 },
 "nbformat": 3,
 "nbformat_minor": 0,
 "worksheets": [
  {
   "cells": [
    {
     "cell_type": "heading",
     "level": 2,
     "metadata": {},
     "source": [
      "Using the World Banks World Development Indicators by using the wb I/O functions"
     ]
    },
    {
     "cell_type": "code",
     "collapsed": false,
     "input": [
      "from pandas.io import wb #wb means world bank API"
     ],
     "language": "python",
     "metadata": {},
     "outputs": [],
     "prompt_number": 106
    },
    {
     "cell_type": "code",
     "collapsed": false,
     "input": [
      "wb.search('gdp.*capita.*const').iloc[:,:2]"
     ],
     "language": "python",
     "metadata": {},
     "outputs": [
      {
       "html": [
        "<div style=\"max-height:1000px;max-width:1500px;overflow:auto;\">\n",
        "<table border=\"1\" class=\"dataframe\">\n",
        "  <thead>\n",
        "    <tr style=\"text-align: right;\">\n",
        "      <th></th>\n",
        "      <th>id</th>\n",
        "      <th>name</th>\n",
        "    </tr>\n",
        "  </thead>\n",
        "  <tbody>\n",
        "    <tr>\n",
        "      <th>687 </th>\n",
        "      <td> 6.0.GDPpc_constant</td>\n",
        "      <td> GDP per capita, PPP (constant 2011 internation...</td>\n",
        "    </tr>\n",
        "    <tr>\n",
        "      <th>4670</th>\n",
        "      <td>            GDPPCKD</td>\n",
        "      <td>            GDP per Capita, constant US$, millions</td>\n",
        "    </tr>\n",
        "    <tr>\n",
        "      <th>6693</th>\n",
        "      <td>     NY.GDP.PCAP.KD</td>\n",
        "      <td>                GDP per capita (constant 2005 US$)</td>\n",
        "    </tr>\n",
        "    <tr>\n",
        "      <th>6695</th>\n",
        "      <td>     NY.GDP.PCAP.KN</td>\n",
        "      <td>                     GDP per capita (constant LCU)</td>\n",
        "    </tr>\n",
        "    <tr>\n",
        "      <th>6697</th>\n",
        "      <td>  NY.GDP.PCAP.PP.KD</td>\n",
        "      <td> GDP per capita, PPP (constant 2011 internation...</td>\n",
        "    </tr>\n",
        "  </tbody>\n",
        "</table>\n",
        "</div>"
       ],
       "metadata": {},
       "output_type": "pyout",
       "prompt_number": 107,
       "text": [
        "                      id                                               name\n",
        "687   6.0.GDPpc_constant  GDP per capita, PPP (constant 2011 internation...\n",
        "4670             GDPPCKD             GDP per Capita, constant US$, millions\n",
        "6693      NY.GDP.PCAP.KD                 GDP per capita (constant 2005 US$)\n",
        "6695      NY.GDP.PCAP.KN                      GDP per capita (constant LCU)\n",
        "6697   NY.GDP.PCAP.PP.KD  GDP per capita, PPP (constant 2011 internation..."
       ]
      }
     ],
     "prompt_number": 107
    },
    {
     "cell_type": "code",
     "collapsed": false,
     "input": [
      "dat = wb.download(indicator='NY.GDP.PCAP.KD', country=['US', 'CA', 'MX'], start=2005, end=2008)"
     ],
     "language": "python",
     "metadata": {},
     "outputs": [],
     "prompt_number": 108
    },
    {
     "cell_type": "code",
     "collapsed": false,
     "input": [
      "print(dat)"
     ],
     "language": "python",
     "metadata": {},
     "outputs": [
      {
       "output_type": "stream",
       "stream": "stdout",
       "text": [
        "                    NY.GDP.PCAP.KD\n",
        "country       year                \n",
        "Canada        2008    37088.020369\n",
        "              2007    37055.999529\n",
        "              2006    36680.478802\n",
        "              2005    36029.322666\n",
        "Mexico        2008     8275.809458\n",
        "              2007     8264.916370\n",
        "              2006     8113.651753\n",
        "              2005     7823.825498\n",
        "United States 2008    44873.014359\n",
        "              2007    45417.401418\n",
        "              2006    45052.496711\n",
        "              2005    44307.832603\n"
       ]
      }
     ],
     "prompt_number": 109
    },
    {
     "cell_type": "code",
     "collapsed": false,
     "input": [
      "dat['NY.GDP.PCAP.KD'].groupby(level=0).mean()"
     ],
     "language": "python",
     "metadata": {},
     "outputs": [
      {
       "metadata": {},
       "output_type": "pyout",
       "prompt_number": 110,
       "text": [
        "country\n",
        "Canada           36713.455341\n",
        "Mexico            8119.550770\n",
        "United States    44912.686273\n",
        "Name: NY.GDP.PCAP.KD, dtype: float64"
       ]
      }
     ],
     "prompt_number": 110
    },
    {
     "cell_type": "code",
     "collapsed": false,
     "input": [
      "dat['NY.GDP.PCAP.KD'].groupby(level=0).std()"
     ],
     "language": "python",
     "metadata": {},
     "outputs": [
      {
       "metadata": {},
       "output_type": "pyout",
       "prompt_number": 111,
       "text": [
        "country\n",
        "Canada           492.192526\n",
        "Mexico           210.583452\n",
        "United States    462.495463\n",
        "Name: NY.GDP.PCAP.KD, dtype: float64"
       ]
      }
     ],
     "prompt_number": 111
    },
    {
     "cell_type": "heading",
     "level": 2,
     "metadata": {},
     "source": [
      "Compare GDP to the share of people with cellphone contracts around the world"
     ]
    },
    {
     "cell_type": "code",
     "collapsed": false,
     "input": [
      "wb.search('cell.*%').iloc[:,:2]"
     ],
     "language": "python",
     "metadata": {},
     "outputs": [
      {
       "html": [
        "<div style=\"max-height:1000px;max-width:1500px;overflow:auto;\">\n",
        "<table border=\"1\" class=\"dataframe\">\n",
        "  <thead>\n",
        "    <tr style=\"text-align: right;\">\n",
        "      <th></th>\n",
        "      <th>id</th>\n",
        "      <th>name</th>\n",
        "    </tr>\n",
        "  </thead>\n",
        "  <tbody>\n",
        "    <tr>\n",
        "      <th>5527</th>\n",
        "      <td> IT.CEL.SETS.FE.ZS</td>\n",
        "      <td> Mobile cellular telephone users, female (% of ...</td>\n",
        "    </tr>\n",
        "    <tr>\n",
        "      <th>5528</th>\n",
        "      <td> IT.CEL.SETS.MA.ZS</td>\n",
        "      <td> Mobile cellular telephone users, male (% of po...</td>\n",
        "    </tr>\n",
        "    <tr>\n",
        "      <th>5564</th>\n",
        "      <td>     IT.MOB.COV.ZS</td>\n",
        "      <td> Population coverage of mobile cellular telepho...</td>\n",
        "    </tr>\n",
        "  </tbody>\n",
        "</table>\n",
        "</div>"
       ],
       "metadata": {},
       "output_type": "pyout",
       "prompt_number": 112,
       "text": [
        "                     id                                               name\n",
        "5527  IT.CEL.SETS.FE.ZS  Mobile cellular telephone users, female (% of ...\n",
        "5528  IT.CEL.SETS.MA.ZS  Mobile cellular telephone users, male (% of po...\n",
        "5564      IT.MOB.COV.ZS  Population coverage of mobile cellular telepho..."
       ]
      }
     ],
     "prompt_number": 112
    },
    {
     "cell_type": "code",
     "collapsed": false,
     "input": [
      "ind = ['NY.GDP.PCAP.KD', 'IT.MOB.COV.ZS']"
     ],
     "language": "python",
     "metadata": {},
     "outputs": [],
     "prompt_number": 113
    },
    {
     "cell_type": "code",
     "collapsed": false,
     "input": [
      "dat = wb.download(indicator=ind, country='all', start=2011, end=2011).dropna()\n",
      "dat.columns = ['gdp', 'cellphone']"
     ],
     "language": "python",
     "metadata": {},
     "outputs": [],
     "prompt_number": 114
    },
    {
     "cell_type": "code",
     "collapsed": false,
     "input": [
      "print(dat.tail())"
     ],
     "language": "python",
     "metadata": {},
     "outputs": [
      {
       "output_type": "stream",
       "stream": "stdout",
       "text": [
        "                        gdp  cellphone\n",
        "country   year                        \n",
        "Swaziland 2011  2390.750829       94.9\n",
        "Tunisia   2011  3783.852456      100.0\n",
        "Uganda    2011   414.216276      100.0\n",
        "Zambia    2011   986.452717       62.0\n",
        "Zimbabwe  2011   435.794144       72.4\n"
       ]
      }
     ],
     "prompt_number": 115
    },
    {
     "cell_type": "code",
     "collapsed": false,
     "input": [
      "import numpy as np\n",
      "import statsmodels.formula.api as smf"
     ],
     "language": "python",
     "metadata": {},
     "outputs": [],
     "prompt_number": 116
    },
    {
     "cell_type": "code",
     "collapsed": false,
     "input": [
      "mod = smf.ols(\"cellphone ~ np.log(gdp)\", dat).fit()"
     ],
     "language": "python",
     "metadata": {},
     "outputs": [],
     "prompt_number": 117
    },
    {
     "cell_type": "code",
     "collapsed": false,
     "input": [
      "print(mod.summary())"
     ],
     "language": "python",
     "metadata": {},
     "outputs": [
      {
       "output_type": "stream",
       "stream": "stdout",
       "text": [
        "                            OLS Regression Results                            \n",
        "==============================================================================\n",
        "Dep. Variable:              cellphone   R-squared:                       0.262\n",
        "Model:                            OLS   Adj. R-squared:                  0.237\n",
        "Method:                 Least Squares   F-statistic:                     10.65\n",
        "Date:                Sat, 20 Jun 2015   Prob (F-statistic):            0.00275\n",
        "Time:                        18:59:01   Log-Likelihood:                -136.04\n",
        "No. Observations:                  32   AIC:                             276.1\n",
        "Df Residuals:                      30   BIC:                             279.0\n",
        "Df Model:                           1                                         \n",
        "===============================================================================\n",
        "                  coef    std err          t      P>|t|      [95.0% Conf. Int.]\n",
        "-------------------------------------------------------------------------------\n",
        "Intercept      16.6862     20.949      0.797      0.432       -26.097    59.469\n",
        "np.log(gdp)     9.8240      3.011      3.263      0.003         3.676    15.972\n",
        "==============================================================================\n",
        "Omnibus:                       32.135   Durbin-Watson:                   2.020\n",
        "Prob(Omnibus):                  0.000   Jarque-Bera (JB):               86.883\n",
        "Skew:                          -2.148   Prob(JB):                     1.36e-19\n",
        "Kurtosis:                       9.835   Cond. No.                         48.0\n",
        "==============================================================================\n"
       ]
      }
     ],
     "prompt_number": 118
    },
    {
     "cell_type": "heading",
     "level": 1,
     "metadata": {},
     "source": [
      "Data import From St.Louis FED (FRED)"
     ]
    },
    {
     "cell_type": "code",
     "collapsed": false,
     "input": [
      "import pandas.io.data as web\n",
      "import datetime\n",
      "                            "
     ],
     "language": "python",
     "metadata": {},
     "outputs": [],
     "prompt_number": 119
    },
    {
     "cell_type": "code",
     "collapsed": false,
     "input": [
      "start = datetime.datetime(2010, 1, 1)\n",
      "end = datetime.datetime(2013, 1, 27)"
     ],
     "language": "python",
     "metadata": {},
     "outputs": [],
     "prompt_number": 120
    },
    {
     "cell_type": "code",
     "collapsed": false,
     "input": [
      " gdp=web.DataReader(\"GDP\", \"fred\", start, end) #from St.Louis reserve bank---'fred'"
     ],
     "language": "python",
     "metadata": {},
     "outputs": [],
     "prompt_number": 121
    },
    {
     "cell_type": "code",
     "collapsed": false,
     "input": [
      "gdp.ix['2013-01-01']"
     ],
     "language": "python",
     "metadata": {},
     "outputs": [
      {
       "metadata": {},
       "output_type": "pyout",
       "prompt_number": 122,
       "text": [
        "GDP    16502.4\n",
        "Name: 2013-01-01 00:00:00, dtype: float64"
       ]
      }
     ],
     "prompt_number": 122
    },
    {
     "cell_type": "code",
     "collapsed": false,
     "input": [
      "# Multiple series:"
     ],
     "language": "python",
     "metadata": {},
     "outputs": [],
     "prompt_number": 123
    },
    {
     "cell_type": "code",
     "collapsed": false,
     "input": [
      "inflation = web.DataReader([\"CPIAUCSL\", \"CPILFESL\"], \"fred\", start, end)"
     ],
     "language": "python",
     "metadata": {},
     "outputs": [],
     "prompt_number": 124
    },
    {
     "cell_type": "code",
     "collapsed": false,
     "input": [
      "inflation"
     ],
     "language": "python",
     "metadata": {},
     "outputs": [
      {
       "html": [
        "<div style=\"max-height:1000px;max-width:1500px;overflow:auto;\">\n",
        "<table border=\"1\" class=\"dataframe\">\n",
        "  <thead>\n",
        "    <tr style=\"text-align: right;\">\n",
        "      <th></th>\n",
        "      <th>CPIAUCSL</th>\n",
        "      <th>CPILFESL</th>\n",
        "    </tr>\n",
        "    <tr>\n",
        "      <th>DATE</th>\n",
        "      <th></th>\n",
        "      <th></th>\n",
        "    </tr>\n",
        "  </thead>\n",
        "  <tbody>\n",
        "    <tr>\n",
        "      <th>2010-01-01</th>\n",
        "      <td> 217.488</td>\n",
        "      <td> 220.633</td>\n",
        "    </tr>\n",
        "    <tr>\n",
        "      <th>2010-02-01</th>\n",
        "      <td> 217.281</td>\n",
        "      <td> 220.731</td>\n",
        "    </tr>\n",
        "    <tr>\n",
        "      <th>2010-03-01</th>\n",
        "      <td> 217.353</td>\n",
        "      <td> 220.783</td>\n",
        "    </tr>\n",
        "    <tr>\n",
        "      <th>2010-04-01</th>\n",
        "      <td> 217.403</td>\n",
        "      <td> 220.822</td>\n",
        "    </tr>\n",
        "    <tr>\n",
        "      <th>2010-05-01</th>\n",
        "      <td> 217.290</td>\n",
        "      <td> 220.962</td>\n",
        "    </tr>\n",
        "    <tr>\n",
        "      <th>2010-06-01</th>\n",
        "      <td> 217.199</td>\n",
        "      <td> 221.194</td>\n",
        "    </tr>\n",
        "    <tr>\n",
        "      <th>2010-07-01</th>\n",
        "      <td> 217.605</td>\n",
        "      <td> 221.363</td>\n",
        "    </tr>\n",
        "    <tr>\n",
        "      <th>2010-08-01</th>\n",
        "      <td> 217.923</td>\n",
        "      <td> 221.509</td>\n",
        "    </tr>\n",
        "    <tr>\n",
        "      <th>2010-09-01</th>\n",
        "      <td> 218.275</td>\n",
        "      <td> 221.711</td>\n",
        "    </tr>\n",
        "    <tr>\n",
        "      <th>2010-10-01</th>\n",
        "      <td> 219.035</td>\n",
        "      <td> 221.830</td>\n",
        "    </tr>\n",
        "    <tr>\n",
        "      <th>2010-11-01</th>\n",
        "      <td> 219.590</td>\n",
        "      <td> 222.149</td>\n",
        "    </tr>\n",
        "    <tr>\n",
        "      <th>2010-12-01</th>\n",
        "      <td> 220.472</td>\n",
        "      <td> 222.343</td>\n",
        "    </tr>\n",
        "    <tr>\n",
        "      <th>2011-01-01</th>\n",
        "      <td> 221.148</td>\n",
        "      <td> 222.747</td>\n",
        "    </tr>\n",
        "    <tr>\n",
        "      <th>2011-02-01</th>\n",
        "      <td> 221.904</td>\n",
        "      <td> 223.159</td>\n",
        "    </tr>\n",
        "    <tr>\n",
        "      <th>2011-03-01</th>\n",
        "      <td> 223.044</td>\n",
        "      <td> 223.437</td>\n",
        "    </tr>\n",
        "    <tr>\n",
        "      <th>2011-04-01</th>\n",
        "      <td> 224.060</td>\n",
        "      <td> 223.777</td>\n",
        "    </tr>\n",
        "    <tr>\n",
        "      <th>2011-05-01</th>\n",
        "      <td> 224.869</td>\n",
        "      <td> 224.278</td>\n",
        "    </tr>\n",
        "    <tr>\n",
        "      <th>2011-06-01</th>\n",
        "      <td> 224.841</td>\n",
        "      <td> 224.776</td>\n",
        "    </tr>\n",
        "    <tr>\n",
        "      <th>2011-07-01</th>\n",
        "      <td> 225.419</td>\n",
        "      <td> 225.235</td>\n",
        "    </tr>\n",
        "    <tr>\n",
        "      <th>2011-08-01</th>\n",
        "      <td> 226.082</td>\n",
        "      <td> 225.821</td>\n",
        "    </tr>\n",
        "    <tr>\n",
        "      <th>2011-09-01</th>\n",
        "      <td> 226.676</td>\n",
        "      <td> 226.089</td>\n",
        "    </tr>\n",
        "    <tr>\n",
        "      <th>2011-10-01</th>\n",
        "      <td> 226.811</td>\n",
        "      <td> 226.476</td>\n",
        "    </tr>\n",
        "    <tr>\n",
        "      <th>2011-11-01</th>\n",
        "      <td> 227.157</td>\n",
        "      <td> 226.943</td>\n",
        "    </tr>\n",
        "    <tr>\n",
        "      <th>2011-12-01</th>\n",
        "      <td> 227.145</td>\n",
        "      <td> 227.332</td>\n",
        "    </tr>\n",
        "    <tr>\n",
        "      <th>2012-01-01</th>\n",
        "      <td> 227.759</td>\n",
        "      <td> 227.840</td>\n",
        "    </tr>\n",
        "    <tr>\n",
        "      <th>2012-02-01</th>\n",
        "      <td> 228.285</td>\n",
        "      <td> 228.012</td>\n",
        "    </tr>\n",
        "    <tr>\n",
        "      <th>2012-03-01</th>\n",
        "      <td> 228.866</td>\n",
        "      <td> 228.476</td>\n",
        "    </tr>\n",
        "    <tr>\n",
        "      <th>2012-04-01</th>\n",
        "      <td> 229.172</td>\n",
        "      <td> 228.943</td>\n",
        "    </tr>\n",
        "    <tr>\n",
        "      <th>2012-05-01</th>\n",
        "      <td> 228.785</td>\n",
        "      <td> 229.312</td>\n",
        "    </tr>\n",
        "    <tr>\n",
        "      <th>2012-06-01</th>\n",
        "      <td> 228.626</td>\n",
        "      <td> 229.752</td>\n",
        "    </tr>\n",
        "    <tr>\n",
        "      <th>2012-07-01</th>\n",
        "      <td> 228.584</td>\n",
        "      <td> 229.980</td>\n",
        "    </tr>\n",
        "    <tr>\n",
        "      <th>2012-08-01</th>\n",
        "      <td> 229.911</td>\n",
        "      <td> 230.175</td>\n",
        "    </tr>\n",
        "    <tr>\n",
        "      <th>2012-09-01</th>\n",
        "      <td> 231.104</td>\n",
        "      <td> 230.598</td>\n",
        "    </tr>\n",
        "    <tr>\n",
        "      <th>2012-10-01</th>\n",
        "      <td> 231.741</td>\n",
        "      <td> 230.989</td>\n",
        "    </tr>\n",
        "    <tr>\n",
        "      <th>2012-11-01</th>\n",
        "      <td> 231.202</td>\n",
        "      <td> 231.335</td>\n",
        "    </tr>\n",
        "    <tr>\n",
        "      <th>2012-12-01</th>\n",
        "      <td> 231.165</td>\n",
        "      <td> 231.634</td>\n",
        "    </tr>\n",
        "    <tr>\n",
        "      <th>2013-01-01</th>\n",
        "      <td> 231.444</td>\n",
        "      <td> 232.223</td>\n",
        "    </tr>\n",
        "  </tbody>\n",
        "</table>\n",
        "</div>"
       ],
       "metadata": {},
       "output_type": "pyout",
       "prompt_number": 125,
       "text": [
        "            CPIAUCSL  CPILFESL\n",
        "DATE                          \n",
        "2010-01-01   217.488   220.633\n",
        "2010-02-01   217.281   220.731\n",
        "2010-03-01   217.353   220.783\n",
        "2010-04-01   217.403   220.822\n",
        "2010-05-01   217.290   220.962\n",
        "2010-06-01   217.199   221.194\n",
        "2010-07-01   217.605   221.363\n",
        "2010-08-01   217.923   221.509\n",
        "2010-09-01   218.275   221.711\n",
        "2010-10-01   219.035   221.830\n",
        "2010-11-01   219.590   222.149\n",
        "2010-12-01   220.472   222.343\n",
        "2011-01-01   221.148   222.747\n",
        "2011-02-01   221.904   223.159\n",
        "2011-03-01   223.044   223.437\n",
        "2011-04-01   224.060   223.777\n",
        "2011-05-01   224.869   224.278\n",
        "2011-06-01   224.841   224.776\n",
        "2011-07-01   225.419   225.235\n",
        "2011-08-01   226.082   225.821\n",
        "2011-09-01   226.676   226.089\n",
        "2011-10-01   226.811   226.476\n",
        "2011-11-01   227.157   226.943\n",
        "2011-12-01   227.145   227.332\n",
        "2012-01-01   227.759   227.840\n",
        "2012-02-01   228.285   228.012\n",
        "2012-03-01   228.866   228.476\n",
        "2012-04-01   229.172   228.943\n",
        "2012-05-01   228.785   229.312\n",
        "2012-06-01   228.626   229.752\n",
        "2012-07-01   228.584   229.980\n",
        "2012-08-01   229.911   230.175\n",
        "2012-09-01   231.104   230.598\n",
        "2012-10-01   231.741   230.989\n",
        "2012-11-01   231.202   231.335\n",
        "2012-12-01   231.165   231.634\n",
        "2013-01-01   231.444   232.223"
       ]
      }
     ],
     "prompt_number": 125
    }
   ],
   "metadata": {}
  }
 ]
}