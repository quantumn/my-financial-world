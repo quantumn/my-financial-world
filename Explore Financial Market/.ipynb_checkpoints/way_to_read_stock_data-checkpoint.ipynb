{
 "metadata": {
  "name": "",
  "signature": "sha256:d7c45ef4c207dbff9ff61c5dfc9bfd53c7fb3709c714a7afa9f57be57b8d7dd1"
 },
 "nbformat": 3,
 "nbformat_minor": 0,
 "worksheets": [
  {
   "cells": [
    {
     "cell_type": "code",
     "collapsed": false,
     "input": [
      "import QSTK.qstkutil.qsdateutil as du\n",
      "import QSTK.qstkutil.tsutil as tsu\n",
      "import QSTK.qstkutil.DataAccess as da\n",
      "\n"
     ],
     "language": "python",
     "metadata": {},
     "outputs": [],
     "prompt_number": 14
    },
    {
     "cell_type": "code",
     "collapsed": false,
     "input": [
      "import datetime as dt\n",
      "import matplotlib.pyplot as plt\n",
      "import pandas as pd\n"
     ],
     "language": "python",
     "metadata": {},
     "outputs": [],
     "prompt_number": 15
    },
    {
     "cell_type": "code",
     "collapsed": false,
     "input": [
      "ls_symbols = [\"AAPL\", \"GLD\", \"GOOG\", \"$SPX\", \"XOM\"]\n",
      "dt_start = dt.datetime(2006, 1, 1)\n",
      "dt_end = dt.datetime(2010, 12, 31)\n",
      "dt_timeofday = dt.timedelta(hours=16)\n",
      "ldt_timestamps = du.getNYSEdays(dt_start, dt_end, dt_timeofday)"
     ],
     "language": "python",
     "metadata": {},
     "outputs": [],
     "prompt_number": 16
    },
    {
     "cell_type": "code",
     "collapsed": false,
     "input": [
      "c_dataobj = da.DataAccess('Yahoo')\n",
      "ls_keys = ['open', 'high', 'low', 'close', 'volume', 'actual_close']\n",
      "ldf_data = c_dataobj.get_data(ldt_timestamps, ls_symbols, ls_keys)\n",
      "d_data = dict(zip(ls_keys, ldf_data))"
     ],
     "language": "python",
     "metadata": {},
     "outputs": [],
     "prompt_number": 17
    },
    {
     "cell_type": "code",
     "collapsed": false,
     "input": [
      "na_price = d_data['close'].values\n",
      "plt.clf()\n",
      "plt.plot(ldt_timestamps, na_price)\n",
      "plt.legend(ls_symbols)\n",
      "plt.ylabel('Adjusted Close')\n",
      "plt.xlabel('Date')\n",
      "plt.show()"
     ],
     "language": "python",
     "metadata": {},
     "outputs": [],
     "prompt_number": 18
    },
    {
     "cell_type": "code",
     "collapsed": false,
     "input": [
      "na_normalized_price = na_price / na_price[0, :]"
     ],
     "language": "python",
     "metadata": {},
     "outputs": [],
     "prompt_number": 19
    },
    {
     "cell_type": "code",
     "collapsed": false,
     "input": [
      "plt.plot(na_normalized_price)\n",
      "plt.show()"
     ],
     "language": "python",
     "metadata": {},
     "outputs": [],
     "prompt_number": 20
    },
    {
     "cell_type": "code",
     "collapsed": false,
     "input": [
      "\n",
      "na_rets = na_normalized_price.copy()\n",
      "tsu.returnize0(na_rets)"
     ],
     "language": "python",
     "metadata": {},
     "outputs": [
      {
       "metadata": {},
       "output_type": "pyout",
       "prompt_number": 24,
       "text": [
        "array([[  0.00000000e+00,   0.00000000e+00,   0.00000000e+00,\n",
        "          0.00000000e+00,   0.00000000e+00],\n",
        "       [  2.95579739e-03,   3.38855422e-03,   2.29993337e-02,\n",
        "          3.67276166e-03,   1.78323757e-03],\n",
        "       [ -7.90354990e-03,  -1.80112570e-02,   1.34758782e-02,\n",
        "          1.57052440e-05,  -4.94462025e-03],\n",
        "       ..., \n",
        "       [  2.44362647e-03,   1.62938824e-02,  -5.74388260e-03,\n",
        "          7.71347233e-04,   5.57222460e-03],\n",
        "       [ -5.55418415e-04,   3.57090803e-03,   3.47291792e-03,\n",
        "          1.00912984e-03,  -5.68343279e-04],\n",
        "       [ -5.00154369e-03,  -4.93791301e-03,  -3.56073211e-03,\n",
        "         -1.50819984e-03,  -1.42166619e-04]])"
       ]
      }
     ],
     "prompt_number": 24
    },
    {
     "cell_type": "code",
     "collapsed": false,
     "input": [],
     "language": "python",
     "metadata": {},
     "outputs": [],
     "prompt_number": 26
    },
    {
     "cell_type": "code",
     "collapsed": false,
     "input": [
      "plt.plot(na_rets)\n",
      "plt.show()"
     ],
     "language": "python",
     "metadata": {},
     "outputs": [],
     "prompt_number": 27
    },
    {
     "cell_type": "code",
     "collapsed": false,
     "input": [],
     "language": "python",
     "metadata": {},
     "outputs": []
    }
   ],
   "metadata": {}
  }
 ]
}