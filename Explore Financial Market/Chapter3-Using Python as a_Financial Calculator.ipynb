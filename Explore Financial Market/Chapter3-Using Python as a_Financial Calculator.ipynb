{
 "metadata": {
  "name": "",
  "signature": "sha256:af903bab6a2ffc26f5d18283ef58d946bd7a368ec99587b25b5106f4d06b91a8"
 },
 "nbformat": 3,
 "nbformat_minor": 0,
 "worksheets": [
  {
   "cells": [
    {
     "cell_type": "code",
     "collapsed": false,
     "input": [
      "def present_value(future_value=0,risk_free_rate=0,period=0):\n",
      "    \"\"\"\n",
      "Objective: estimate present value\n",
      "fv: fture value\n",
      "r : discount periodic rate\n",
      "n : number of periods\n",
      "formula : fv/(1+r)**n\n",
      "e.g.,\n",
      ">>>pv_f(100,0.1,1)\n",
      "90.9090909090909\n",
      ">>>pv_f(r=0.1,fv=100,n=1)\n",
      "90.9090909090909\n",
      ">>>pv_f(n=1,fv=100,r=0.1)\n",
      "90.9090909090909\n",
      "\"\"\"\n",
      "    present_value=  future_value/((1+risk_free_rate)**period)\n",
      "    return present_value"
     ],
     "language": "python",
     "metadata": {},
     "outputs": [],
     "prompt_number": 39
    },
    {
     "cell_type": "code",
     "collapsed": false,
     "input": [
      "result=present_value(future_value=10000000,risk_free_rate=0.03,period=5)\n",
      "print 'Years of Present value is :',round(result,1),'Yen'"
     ],
     "language": "python",
     "metadata": {},
     "outputs": [
      {
       "output_type": "stream",
       "stream": "stdout",
       "text": [
        "Years of Present value is : 8626087.8 Yen\n"
       ]
      }
     ],
     "prompt_number": 40
    },
    {
     "cell_type": "code",
     "collapsed": false,
     "input": [
      "help( present_value)"
     ],
     "language": "python",
     "metadata": {},
     "outputs": [
      {
       "output_type": "stream",
       "stream": "stdout",
       "text": [
        "Help on function present_value in module __main__:\n",
        "\n",
        "present_value(future_value=0, risk_free_rate=0, period=0)\n",
        "    Objective: estimate present value\n",
        "    fv: fture value\n",
        "    r : discount periodic rate\n",
        "    n : number of periods\n",
        "    formula : fv/(1+r)**n\n",
        "    e.g.,\n",
        "    >>>pv_f(100,0.1,1)\n",
        "    90.9090909090909\n",
        "    >>>pv_f(r=0.1,fv=100,n=1)\n",
        "    90.9090909090909\n",
        "    >>>pv_f(n=1,fv=100,r=0.1)\n",
        "    90.9090909090909\n",
        "\n"
       ]
      }
     ],
     "prompt_number": 43
    },
    {
     "cell_type": "heading",
     "level": 3,
     "metadata": {},
     "source": [
      "Net present value and the NPV rule"
     ]
    },
    {
     "cell_type": "code",
     "collapsed": false,
     "input": [
      "def net_present_value(rate=0,cashflows=0):\n",
      "    total=.0\n",
      "    for i,cashflow in enumerate(cashflows):\n",
      "        total+=cashflow/(1+rate)**i\n",
      "    \n",
      "    return total"
     ],
     "language": "python",
     "metadata": {},
     "outputs": [],
     "prompt_number": 6
    },
    {
     "cell_type": "code",
     "collapsed": false,
     "input": [
      "r=.05\n",
      "cashflows=[-100,20,40,50,20,10]"
     ],
     "language": "python",
     "metadata": {},
     "outputs": [],
     "prompt_number": 7
    },
    {
     "cell_type": "code",
     "collapsed": false,
     "input": [
      "net_present_value(r,cashflows)"
     ],
     "language": "python",
     "metadata": {},
     "outputs": [
      {
       "metadata": {},
       "output_type": "pyout",
       "prompt_number": 8,
       "text": [
        "22.80998927303707"
       ]
      }
     ],
     "prompt_number": 8
    },
    {
     "cell_type": "code",
     "collapsed": false,
     "input": [
      "def IRR(cashflows,interations=100):\n",
      "    rate=1.0\n",
      "    investment=cashflows[0]\n",
      "    for i in range(1,interations+1):\n",
      "        rate*=(1-net_present_value(rate,cashflows)/investment)\n",
      "    \n",
      "    return rate"
     ],
     "language": "python",
     "metadata": {},
     "outputs": [],
     "prompt_number": 9
    },
    {
     "cell_type": "code",
     "collapsed": false,
     "input": [
      "from net_present_value import *"
     ],
     "language": "python",
     "metadata": {},
     "outputs": [
      {
       "ename": "ImportError",
       "evalue": "No module named net_present_value",
       "output_type": "pyerr",
       "traceback": [
        "\u001b[0;31m---------------------------------------------------------------------------\u001b[0m\n\u001b[0;31mImportError\u001b[0m                               Traceback (most recent call last)",
        "\u001b[0;32m<ipython-input-5-4127d065f0b1>\u001b[0m in \u001b[0;36m<module>\u001b[0;34m()\u001b[0m\n\u001b[0;32m----> 1\u001b[0;31m \u001b[0;32mfrom\u001b[0m \u001b[0mnet_present_value\u001b[0m \u001b[0;32mimport\u001b[0m \u001b[0;34m*\u001b[0m\u001b[0;34m\u001b[0m\u001b[0m\n\u001b[0m",
        "\u001b[0;31mImportError\u001b[0m: No module named net_present_value"
       ]
      }
     ],
     "prompt_number": 5
    },
    {
     "cell_type": "code",
     "collapsed": false,
     "input": [],
     "language": "python",
     "metadata": {},
     "outputs": []
    }
   ],
   "metadata": {}
  }
 ]
}