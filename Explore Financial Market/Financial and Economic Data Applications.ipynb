{
 "metadata": {
  "name": "",
  "signature": "sha256:07b3440d0695cdda95deae07b63a0110254829367efa99338981ea90a33a8be6"
 },
 "nbformat": 3,
 "nbformat_minor": 0,
 "worksheets": [
  {
   "cells": [
    {
     "cell_type": "markdown",
     "metadata": {},
     "source": [
      "\n",
      "Financial and Economic Data Applications\n"
     ]
    },
    {
     "cell_type": "code",
     "collapsed": false,
     "input": [
      "from __future__ import division\n",
      "from pandas import Series,DataFrame\n",
      "import pandas as pd\n",
      "from numpy.random import randn\n",
      "import numpy as np\n",
      "pd.options.display.max_rows = 12\n",
      "np.set_printoptions(precision=4,suppress=True)\n",
      "import matplotlib.pyplot as plt\n",
      "plt.rc('figure',figsize=(12,6))"
     ],
     "language": "python",
     "metadata": {},
     "outputs": [],
     "prompt_number": 155
    },
    {
     "cell_type": "code",
     "collapsed": false,
     "input": [
      "%matplotlib inline"
     ],
     "language": "python",
     "metadata": {},
     "outputs": [],
     "prompt_number": 156
    },
    {
     "cell_type": "markdown",
     "metadata": {},
     "source": [
      "Data munging topics\n",
      "Time series and cross-section alignment"
     ]
    },
    {
     "cell_type": "code",
     "collapsed": false,
     "input": [
      "close_px = pd.read_csv('stock_px.csv', parse_dates=True, index_col=0)\n",
      "volume = pd.read_csv('volume.csv', parse_dates=True, index_col=0)"
     ],
     "language": "python",
     "metadata": {},
     "outputs": [],
     "prompt_number": 158
    },
    {
     "cell_type": "code",
     "collapsed": false,
     "input": [
      "prices = close_px.ix['2011-09-05':'2011-09-14', ['AAPL', 'JNJ', 'SPX', 'XOM']]\n",
      "volume = volume.ix['2011-09-05':'2011-09-12', ['AAPL', 'JNJ', 'XOM']]"
     ],
     "language": "python",
     "metadata": {},
     "outputs": [],
     "prompt_number": 159
    },
    {
     "cell_type": "code",
     "collapsed": false,
     "input": [
      "prices"
     ],
     "language": "python",
     "metadata": {},
     "outputs": [
      {
       "html": [
        "<div style=\"max-height:1000px;max-width:1500px;overflow:auto;\">\n",
        "<table border=\"1\" class=\"dataframe\">\n",
        "  <thead>\n",
        "    <tr style=\"text-align: right;\">\n",
        "      <th></th>\n",
        "      <th>AAPL</th>\n",
        "      <th>JNJ</th>\n",
        "      <th>SPX</th>\n",
        "      <th>XOM</th>\n",
        "    </tr>\n",
        "  </thead>\n",
        "  <tbody>\n",
        "    <tr>\n",
        "      <th>2011-09-06</th>\n",
        "      <td> 379.74</td>\n",
        "      <td> 64.64</td>\n",
        "      <td> 1165.24</td>\n",
        "      <td> 71.15</td>\n",
        "    </tr>\n",
        "    <tr>\n",
        "      <th>2011-09-07</th>\n",
        "      <td> 383.93</td>\n",
        "      <td> 65.43</td>\n",
        "      <td> 1198.62</td>\n",
        "      <td> 73.65</td>\n",
        "    </tr>\n",
        "    <tr>\n",
        "      <th>2011-09-08</th>\n",
        "      <td> 384.14</td>\n",
        "      <td> 64.95</td>\n",
        "      <td> 1185.90</td>\n",
        "      <td> 72.82</td>\n",
        "    </tr>\n",
        "    <tr>\n",
        "      <th>2011-09-09</th>\n",
        "      <td> 377.48</td>\n",
        "      <td> 63.64</td>\n",
        "      <td> 1154.23</td>\n",
        "      <td> 71.01</td>\n",
        "    </tr>\n",
        "    <tr>\n",
        "      <th>2011-09-12</th>\n",
        "      <td> 379.94</td>\n",
        "      <td> 63.59</td>\n",
        "      <td> 1162.27</td>\n",
        "      <td> 71.84</td>\n",
        "    </tr>\n",
        "    <tr>\n",
        "      <th>2011-09-13</th>\n",
        "      <td> 384.62</td>\n",
        "      <td> 63.61</td>\n",
        "      <td> 1172.87</td>\n",
        "      <td> 71.65</td>\n",
        "    </tr>\n",
        "    <tr>\n",
        "      <th>2011-09-14</th>\n",
        "      <td> 389.30</td>\n",
        "      <td> 63.73</td>\n",
        "      <td> 1188.68</td>\n",
        "      <td> 72.64</td>\n",
        "    </tr>\n",
        "  </tbody>\n",
        "</table>\n",
        "</div>"
       ],
       "metadata": {},
       "output_type": "pyout",
       "prompt_number": 160,
       "text": [
        "              AAPL    JNJ      SPX    XOM\n",
        "2011-09-06  379.74  64.64  1165.24  71.15\n",
        "2011-09-07  383.93  65.43  1198.62  73.65\n",
        "2011-09-08  384.14  64.95  1185.90  72.82\n",
        "2011-09-09  377.48  63.64  1154.23  71.01\n",
        "2011-09-12  379.94  63.59  1162.27  71.84\n",
        "2011-09-13  384.62  63.61  1172.87  71.65\n",
        "2011-09-14  389.30  63.73  1188.68  72.64"
       ]
      }
     ],
     "prompt_number": 160
    },
    {
     "cell_type": "code",
     "collapsed": false,
     "input": [
      "volume"
     ],
     "language": "python",
     "metadata": {},
     "outputs": [
      {
       "html": [
        "<div style=\"max-height:1000px;max-width:1500px;overflow:auto;\">\n",
        "<table border=\"1\" class=\"dataframe\">\n",
        "  <thead>\n",
        "    <tr style=\"text-align: right;\">\n",
        "      <th></th>\n",
        "      <th>AAPL</th>\n",
        "      <th>JNJ</th>\n",
        "      <th>XOM</th>\n",
        "    </tr>\n",
        "  </thead>\n",
        "  <tbody>\n",
        "    <tr>\n",
        "      <th>2011-09-06</th>\n",
        "      <td> 18173500</td>\n",
        "      <td> 15848300</td>\n",
        "      <td> 25416300</td>\n",
        "    </tr>\n",
        "    <tr>\n",
        "      <th>2011-09-07</th>\n",
        "      <td> 12492000</td>\n",
        "      <td> 10759700</td>\n",
        "      <td> 23108400</td>\n",
        "    </tr>\n",
        "    <tr>\n",
        "      <th>2011-09-08</th>\n",
        "      <td> 14839800</td>\n",
        "      <td> 15551500</td>\n",
        "      <td> 22434800</td>\n",
        "    </tr>\n",
        "    <tr>\n",
        "      <th>2011-09-09</th>\n",
        "      <td> 20171900</td>\n",
        "      <td> 17008200</td>\n",
        "      <td> 27969100</td>\n",
        "    </tr>\n",
        "    <tr>\n",
        "      <th>2011-09-12</th>\n",
        "      <td> 16697300</td>\n",
        "      <td> 13448200</td>\n",
        "      <td> 26205800</td>\n",
        "    </tr>\n",
        "  </tbody>\n",
        "</table>\n",
        "</div>"
       ],
       "metadata": {},
       "output_type": "pyout",
       "prompt_number": 161,
       "text": [
        "                AAPL       JNJ       XOM\n",
        "2011-09-06  18173500  15848300  25416300\n",
        "2011-09-07  12492000  10759700  23108400\n",
        "2011-09-08  14839800  15551500  22434800\n",
        "2011-09-09  20171900  17008200  27969100\n",
        "2011-09-12  16697300  13448200  26205800"
       ]
      }
     ],
     "prompt_number": 161
    },
    {
     "cell_type": "code",
     "collapsed": false,
     "input": [
      "prices * volume"
     ],
     "language": "python",
     "metadata": {},
     "outputs": [
      {
       "html": [
        "<div style=\"max-height:1000px;max-width:1500px;overflow:auto;\">\n",
        "<table border=\"1\" class=\"dataframe\">\n",
        "  <thead>\n",
        "    <tr style=\"text-align: right;\">\n",
        "      <th></th>\n",
        "      <th>AAPL</th>\n",
        "      <th>JNJ</th>\n",
        "      <th>SPX</th>\n",
        "      <th>XOM</th>\n",
        "    </tr>\n",
        "  </thead>\n",
        "  <tbody>\n",
        "    <tr>\n",
        "      <th>2011-09-06</th>\n",
        "      <td> 6901204890</td>\n",
        "      <td> 1024434112</td>\n",
        "      <td>NaN</td>\n",
        "      <td> 1808369745</td>\n",
        "    </tr>\n",
        "    <tr>\n",
        "      <th>2011-09-07</th>\n",
        "      <td> 4796053560</td>\n",
        "      <td>  704007171</td>\n",
        "      <td>NaN</td>\n",
        "      <td> 1701933660</td>\n",
        "    </tr>\n",
        "    <tr>\n",
        "      <th>2011-09-08</th>\n",
        "      <td> 5700560772</td>\n",
        "      <td> 1010069925</td>\n",
        "      <td>NaN</td>\n",
        "      <td> 1633702136</td>\n",
        "    </tr>\n",
        "    <tr>\n",
        "      <th>2011-09-09</th>\n",
        "      <td> 7614488812</td>\n",
        "      <td> 1082401848</td>\n",
        "      <td>NaN</td>\n",
        "      <td> 1986085791</td>\n",
        "    </tr>\n",
        "    <tr>\n",
        "      <th>2011-09-12</th>\n",
        "      <td> 6343972162</td>\n",
        "      <td>  855171038</td>\n",
        "      <td>NaN</td>\n",
        "      <td> 1882624672</td>\n",
        "    </tr>\n",
        "    <tr>\n",
        "      <th>2011-09-13</th>\n",
        "      <td>        NaN</td>\n",
        "      <td>        NaN</td>\n",
        "      <td>NaN</td>\n",
        "      <td>        NaN</td>\n",
        "    </tr>\n",
        "    <tr>\n",
        "      <th>2011-09-14</th>\n",
        "      <td>        NaN</td>\n",
        "      <td>        NaN</td>\n",
        "      <td>NaN</td>\n",
        "      <td>        NaN</td>\n",
        "    </tr>\n",
        "  </tbody>\n",
        "</table>\n",
        "</div>"
       ],
       "metadata": {},
       "output_type": "pyout",
       "prompt_number": 162,
       "text": [
        "                  AAPL         JNJ  SPX         XOM\n",
        "2011-09-06  6901204890  1024434112  NaN  1808369745\n",
        "2011-09-07  4796053560   704007171  NaN  1701933660\n",
        "2011-09-08  5700560772  1010069925  NaN  1633702136\n",
        "2011-09-09  7614488812  1082401848  NaN  1986085791\n",
        "2011-09-12  6343972162   855171038  NaN  1882624672\n",
        "2011-09-13         NaN         NaN  NaN         NaN\n",
        "2011-09-14         NaN         NaN  NaN         NaN"
       ]
      }
     ],
     "prompt_number": 162
    },
    {
     "cell_type": "code",
     "collapsed": false,
     "input": [
      "vwap=(prices*volume).sum()/volume.sum()"
     ],
     "language": "python",
     "metadata": {},
     "outputs": [],
     "prompt_number": 163
    },
    {
     "cell_type": "code",
     "collapsed": false,
     "input": [
      "vwap"
     ],
     "language": "python",
     "metadata": {},
     "outputs": [
      {
       "metadata": {},
       "output_type": "pyout",
       "prompt_number": 164,
       "text": [
        "AAPL    380.655181\n",
        "JNJ      64.394769\n",
        "SPX            NaN\n",
        "XOM      72.024288\n",
        "dtype: float64"
       ]
      }
     ],
     "prompt_number": 164
    },
    {
     "cell_type": "code",
     "collapsed": false,
     "input": [
      "vwap.dropna()"
     ],
     "language": "python",
     "metadata": {},
     "outputs": [
      {
       "metadata": {},
       "output_type": "pyout",
       "prompt_number": 165,
       "text": [
        "AAPL    380.655181\n",
        "JNJ      64.394769\n",
        "XOM      72.024288\n",
        "dtype: float64"
       ]
      }
     ],
     "prompt_number": 165
    },
    {
     "cell_type": "code",
     "collapsed": false,
     "input": [
      "prices.align(volume,join='inner')"
     ],
     "language": "python",
     "metadata": {},
     "outputs": [
      {
       "metadata": {},
       "output_type": "pyout",
       "prompt_number": 166,
       "text": [
        "(              AAPL    JNJ    XOM\n",
        " 2011-09-06  379.74  64.64  71.15\n",
        " 2011-09-07  383.93  65.43  73.65\n",
        " 2011-09-08  384.14  64.95  72.82\n",
        " 2011-09-09  377.48  63.64  71.01\n",
        " 2011-09-12  379.94  63.59  71.84,                 AAPL       JNJ       XOM\n",
        " 2011-09-06  18173500  15848300  25416300\n",
        " 2011-09-07  12492000  10759700  23108400\n",
        " 2011-09-08  14839800  15551500  22434800\n",
        " 2011-09-09  20171900  17008200  27969100\n",
        " 2011-09-12  16697300  13448200  26205800)"
       ]
      }
     ],
     "prompt_number": 166
    },
    {
     "cell_type": "code",
     "collapsed": false,
     "input": [
      "s1 = Series(range(3), index=['a', 'b', 'c'])\n",
      "s2 = Series(range(4), index=['d', 'b', 'c', 'e'])\n",
      "s3 = Series(range(3), index=['f', 'a', 'c'])\n",
      "DataFrame({'one': s1, 'two': s2, 'three': s3})"
     ],
     "language": "python",
     "metadata": {},
     "outputs": [
      {
       "html": [
        "<div style=\"max-height:1000px;max-width:1500px;overflow:auto;\">\n",
        "<table border=\"1\" class=\"dataframe\">\n",
        "  <thead>\n",
        "    <tr style=\"text-align: right;\">\n",
        "      <th></th>\n",
        "      <th>one</th>\n",
        "      <th>three</th>\n",
        "      <th>two</th>\n",
        "    </tr>\n",
        "  </thead>\n",
        "  <tbody>\n",
        "    <tr>\n",
        "      <th>a</th>\n",
        "      <td>  0</td>\n",
        "      <td>  1</td>\n",
        "      <td>NaN</td>\n",
        "    </tr>\n",
        "    <tr>\n",
        "      <th>b</th>\n",
        "      <td>  1</td>\n",
        "      <td>NaN</td>\n",
        "      <td>  1</td>\n",
        "    </tr>\n",
        "    <tr>\n",
        "      <th>c</th>\n",
        "      <td>  2</td>\n",
        "      <td>  2</td>\n",
        "      <td>  2</td>\n",
        "    </tr>\n",
        "    <tr>\n",
        "      <th>d</th>\n",
        "      <td>NaN</td>\n",
        "      <td>NaN</td>\n",
        "      <td>  0</td>\n",
        "    </tr>\n",
        "    <tr>\n",
        "      <th>e</th>\n",
        "      <td>NaN</td>\n",
        "      <td>NaN</td>\n",
        "      <td>  3</td>\n",
        "    </tr>\n",
        "    <tr>\n",
        "      <th>f</th>\n",
        "      <td>NaN</td>\n",
        "      <td>  0</td>\n",
        "      <td>NaN</td>\n",
        "    </tr>\n",
        "  </tbody>\n",
        "</table>\n",
        "</div>"
       ],
       "metadata": {},
       "output_type": "pyout",
       "prompt_number": 167,
       "text": [
        "   one  three  two\n",
        "a    0      1  NaN\n",
        "b    1    NaN    1\n",
        "c    2      2    2\n",
        "d  NaN    NaN    0\n",
        "e  NaN    NaN    3\n",
        "f  NaN      0  NaN"
       ]
      }
     ],
     "prompt_number": 167
    },
    {
     "cell_type": "code",
     "collapsed": false,
     "input": [
      "DataFrame({'one': s1, 'two': s2, 'three': s3}, index=list('face'))\n"
     ],
     "language": "python",
     "metadata": {},
     "outputs": [
      {
       "html": [
        "<div style=\"max-height:1000px;max-width:1500px;overflow:auto;\">\n",
        "<table border=\"1\" class=\"dataframe\">\n",
        "  <thead>\n",
        "    <tr style=\"text-align: right;\">\n",
        "      <th></th>\n",
        "      <th>one</th>\n",
        "      <th>three</th>\n",
        "      <th>two</th>\n",
        "    </tr>\n",
        "  </thead>\n",
        "  <tbody>\n",
        "    <tr>\n",
        "      <th>f</th>\n",
        "      <td>NaN</td>\n",
        "      <td>  0</td>\n",
        "      <td>NaN</td>\n",
        "    </tr>\n",
        "    <tr>\n",
        "      <th>a</th>\n",
        "      <td>  0</td>\n",
        "      <td>  1</td>\n",
        "      <td>NaN</td>\n",
        "    </tr>\n",
        "    <tr>\n",
        "      <th>c</th>\n",
        "      <td>  2</td>\n",
        "      <td>  2</td>\n",
        "      <td>  2</td>\n",
        "    </tr>\n",
        "    <tr>\n",
        "      <th>e</th>\n",
        "      <td>NaN</td>\n",
        "      <td>NaN</td>\n",
        "      <td>  3</td>\n",
        "    </tr>\n",
        "  </tbody>\n",
        "</table>\n",
        "</div>"
       ],
       "metadata": {},
       "output_type": "pyout",
       "prompt_number": 168,
       "text": [
        "   one  three  two\n",
        "f  NaN      0  NaN\n",
        "a    0      1  NaN\n",
        "c    2      2    2\n",
        "e  NaN    NaN    3"
       ]
      }
     ],
     "prompt_number": 168
    },
    {
     "cell_type": "markdown",
     "metadata": {},
     "source": [
      "Operations with time series of different frequencies"
     ]
    },
    {
     "cell_type": "code",
     "collapsed": false,
     "input": [
      "ts1 = Series(np.random.randn(3),\n",
      "             index=pd.date_range('2012-6-13', periods=3, freq='W-WED'))\n"
     ],
     "language": "python",
     "metadata": {},
     "outputs": [],
     "prompt_number": 169
    },
    {
     "cell_type": "code",
     "collapsed": false,
     "input": [
      "ts1"
     ],
     "language": "python",
     "metadata": {},
     "outputs": [
      {
       "metadata": {},
       "output_type": "pyout",
       "prompt_number": 170,
       "text": [
        "2012-06-13   -0.871903\n",
        "2012-06-20    0.519593\n",
        "2012-06-27   -0.413622\n",
        "Freq: W-WED, dtype: float64"
       ]
      }
     ],
     "prompt_number": 170
    },
    {
     "cell_type": "code",
     "collapsed": false,
     "input": [
      "ts1.resample('B')"
     ],
     "language": "python",
     "metadata": {},
     "outputs": [
      {
       "metadata": {},
       "output_type": "pyout",
       "prompt_number": 171,
       "text": [
        "2012-06-13   -0.871903\n",
        "2012-06-14         NaN\n",
        "2012-06-15         NaN\n",
        "2012-06-18         NaN\n",
        "2012-06-19         NaN\n",
        "2012-06-20    0.519593\n",
        "2012-06-21         NaN\n",
        "2012-06-22         NaN\n",
        "2012-06-25         NaN\n",
        "2012-06-26         NaN\n",
        "2012-06-27   -0.413622\n",
        "Freq: B, dtype: float64"
       ]
      }
     ],
     "prompt_number": 171
    },
    {
     "cell_type": "code",
     "collapsed": false,
     "input": [
      "ts1.resample('B', fill_method='ffill')"
     ],
     "language": "python",
     "metadata": {},
     "outputs": [
      {
       "metadata": {},
       "output_type": "pyout",
       "prompt_number": 172,
       "text": [
        "2012-06-13   -0.871903\n",
        "2012-06-14   -0.871903\n",
        "2012-06-15   -0.871903\n",
        "2012-06-18   -0.871903\n",
        "2012-06-19   -0.871903\n",
        "2012-06-20    0.519593\n",
        "2012-06-21    0.519593\n",
        "2012-06-22    0.519593\n",
        "2012-06-25    0.519593\n",
        "2012-06-26    0.519593\n",
        "2012-06-27   -0.413622\n",
        "Freq: B, dtype: float64"
       ]
      }
     ],
     "prompt_number": 172
    },
    {
     "cell_type": "code",
     "collapsed": false,
     "input": [
      "dates = pd.DatetimeIndex(['2012-6-12', '2012-6-17', '2012-6-18',\n",
      "                          '2012-6-21', '2012-6-22', '2012-6-29'])\n",
      "ts2 = Series(np.random.randn(6), index=dates)\n",
      "ts2"
     ],
     "language": "python",
     "metadata": {},
     "outputs": [
      {
       "metadata": {},
       "output_type": "pyout",
       "prompt_number": 173,
       "text": [
        "2012-06-12   -2.810509\n",
        "2012-06-17   -1.887290\n",
        "2012-06-18    1.538569\n",
        "2012-06-21    0.152026\n",
        "2012-06-22    0.483591\n",
        "2012-06-29   -1.143373\n",
        "dtype: float64"
       ]
      }
     ],
     "prompt_number": 173
    },
    {
     "cell_type": "code",
     "collapsed": false,
     "input": [
      "ts1.reindex(ts2.index, method='ffill')"
     ],
     "language": "python",
     "metadata": {},
     "outputs": [
      {
       "metadata": {},
       "output_type": "pyout",
       "prompt_number": 174,
       "text": [
        "2012-06-12         NaN\n",
        "2012-06-17   -0.871903\n",
        "2012-06-18   -0.871903\n",
        "2012-06-21    0.519593\n",
        "2012-06-22    0.519593\n",
        "2012-06-29   -0.413622\n",
        "dtype: float64"
       ]
      }
     ],
     "prompt_number": 174
    },
    {
     "cell_type": "code",
     "collapsed": false,
     "input": [
      "ts2 + ts1.reindex(ts2.index, method='ffill')"
     ],
     "language": "python",
     "metadata": {},
     "outputs": [
      {
       "metadata": {},
       "output_type": "pyout",
       "prompt_number": 175,
       "text": [
        "2012-06-12         NaN\n",
        "2012-06-17   -2.759194\n",
        "2012-06-18    0.666666\n",
        "2012-06-21    0.671619\n",
        "2012-06-22    1.003184\n",
        "2012-06-29   -1.556996\n",
        "dtype: float64"
       ]
      }
     ],
     "prompt_number": 175
    },
    {
     "cell_type": "heading",
     "level": 4,
     "metadata": {},
     "source": [
      "Using periods instead of timestamps"
     ]
    },
    {
     "cell_type": "code",
     "collapsed": false,
     "input": [
      "gdp = Series([1.78, 1.94, 2.08, 2.01, 2.15, 2.31, 2.46],\n",
      "             index=pd.period_range('1984Q2', periods=7, freq='Q-SEP'))\n",
      "infl = Series([0.025, 0.045, 0.037, 0.04],\n",
      "              index=pd.period_range('1982', periods=4, freq='A-DEC'))\n",
      "gdp"
     ],
     "language": "python",
     "metadata": {},
     "outputs": [
      {
       "metadata": {},
       "output_type": "pyout",
       "prompt_number": 176,
       "text": [
        "1984Q2    1.78\n",
        "1984Q3    1.94\n",
        "1984Q4    2.08\n",
        "1985Q1    2.01\n",
        "1985Q2    2.15\n",
        "1985Q3    2.31\n",
        "1985Q4    2.46\n",
        "Freq: Q-SEP, dtype: float64"
       ]
      }
     ],
     "prompt_number": 176
    },
    {
     "cell_type": "code",
     "collapsed": false,
     "input": [
      "infl"
     ],
     "language": "python",
     "metadata": {},
     "outputs": [
      {
       "metadata": {},
       "output_type": "pyout",
       "prompt_number": 177,
       "text": [
        "1982    0.025\n",
        "1983    0.045\n",
        "1984    0.037\n",
        "1985    0.040\n",
        "Freq: A-DEC, dtype: float64"
       ]
      }
     ],
     "prompt_number": 177
    },
    {
     "cell_type": "code",
     "collapsed": false,
     "input": [
      "infl_q = infl.asfreq('Q-SEP', how='end')"
     ],
     "language": "python",
     "metadata": {},
     "outputs": [],
     "prompt_number": 178
    },
    {
     "cell_type": "code",
     "collapsed": false,
     "input": [
      "infl_q"
     ],
     "language": "python",
     "metadata": {},
     "outputs": [
      {
       "metadata": {},
       "output_type": "pyout",
       "prompt_number": 179,
       "text": [
        "1983Q1    0.025\n",
        "1984Q1    0.045\n",
        "1985Q1    0.037\n",
        "1986Q1    0.040\n",
        "Freq: Q-SEP, dtype: float64"
       ]
      }
     ],
     "prompt_number": 179
    },
    {
     "cell_type": "code",
     "collapsed": false,
     "input": [
      "infl_q.reindex(gdp.index, method='ffill')"
     ],
     "language": "python",
     "metadata": {},
     "outputs": [
      {
       "metadata": {},
       "output_type": "pyout",
       "prompt_number": 180,
       "text": [
        "1984Q2    0.045\n",
        "1984Q3    0.045\n",
        "1984Q4    0.045\n",
        "1985Q1    0.037\n",
        "1985Q2    0.037\n",
        "1985Q3    0.037\n",
        "1985Q4    0.037\n",
        "Freq: Q-SEP, dtype: float64"
       ]
      }
     ],
     "prompt_number": 180
    },
    {
     "cell_type": "heading",
     "level": 3,
     "metadata": {},
     "source": [
      "Time of day and \"as of\" data selection"
     ]
    },
    {
     "cell_type": "code",
     "collapsed": false,
     "input": [
      "# Make an intraday date range and time series\n",
      "rng = pd.date_range('2012-06-01 09:30', '2012-06-01 15:59', freq='T')\n",
      "# Make a 5-day series of 9:30-15:59 values\n",
      "rng = rng.append([rng + pd.offsets.BDay(i) for i in range(1, 4)])\n",
      "ts = Series(np.arange(len(rng), dtype=float), index=rng)\n",
      "ts"
     ],
     "language": "python",
     "metadata": {},
     "outputs": [
      {
       "metadata": {},
       "output_type": "pyout",
       "prompt_number": 181,
       "text": [
        "2012-06-01 09:30:00    0\n",
        "2012-06-01 09:31:00    1\n",
        "2012-06-01 09:32:00    2\n",
        "2012-06-01 09:33:00    3\n",
        "...\n",
        "2012-06-06 15:56:00    1556\n",
        "2012-06-06 15:57:00    1557\n",
        "2012-06-06 15:58:00    1558\n",
        "2012-06-06 15:59:00    1559\n",
        "Length: 1560"
       ]
      }
     ],
     "prompt_number": 181
    },
    {
     "cell_type": "code",
     "collapsed": false,
     "input": [
      "from datetime import time\n",
      "ts[time(10, 0)]"
     ],
     "language": "python",
     "metadata": {},
     "outputs": [
      {
       "metadata": {},
       "output_type": "pyout",
       "prompt_number": 182,
       "text": [
        "2012-06-01 10:00:00      30\n",
        "2012-06-04 10:00:00     420\n",
        "2012-06-05 10:00:00     810\n",
        "2012-06-06 10:00:00    1200\n",
        "dtype: float64"
       ]
      }
     ],
     "prompt_number": 182
    },
    {
     "cell_type": "code",
     "collapsed": false,
     "input": [
      "ts.at_time(time(10, 0))"
     ],
     "language": "python",
     "metadata": {},
     "outputs": [
      {
       "metadata": {},
       "output_type": "pyout",
       "prompt_number": 183,
       "text": [
        "2012-06-01 10:00:00      30\n",
        "2012-06-04 10:00:00     420\n",
        "2012-06-05 10:00:00     810\n",
        "2012-06-06 10:00:00    1200\n",
        "dtype: float64"
       ]
      }
     ],
     "prompt_number": 183
    },
    {
     "cell_type": "code",
     "collapsed": false,
     "input": [
      "ts.between_time(time(10, 0), time(10, 1))"
     ],
     "language": "python",
     "metadata": {},
     "outputs": [
      {
       "metadata": {},
       "output_type": "pyout",
       "prompt_number": 184,
       "text": [
        "2012-06-01 10:00:00      30\n",
        "2012-06-01 10:01:00      31\n",
        "2012-06-04 10:00:00     420\n",
        "2012-06-04 10:01:00     421\n",
        "2012-06-05 10:00:00     810\n",
        "2012-06-05 10:01:00     811\n",
        "2012-06-06 10:00:00    1200\n",
        "2012-06-06 10:01:00    1201\n",
        "dtype: float64"
       ]
      }
     ],
     "prompt_number": 184
    },
    {
     "cell_type": "code",
     "collapsed": false,
     "input": [
      "ts.between_time(time(10, 0), time(10, 1))"
     ],
     "language": "python",
     "metadata": {},
     "outputs": [
      {
       "metadata": {},
       "output_type": "pyout",
       "prompt_number": 185,
       "text": [
        "2012-06-01 10:00:00      30\n",
        "2012-06-01 10:01:00      31\n",
        "2012-06-04 10:00:00     420\n",
        "2012-06-04 10:01:00     421\n",
        "2012-06-05 10:00:00     810\n",
        "2012-06-05 10:01:00     811\n",
        "2012-06-06 10:00:00    1200\n",
        "2012-06-06 10:01:00    1201\n",
        "dtype: float64"
       ]
      }
     ],
     "prompt_number": 185
    },
    {
     "cell_type": "code",
     "collapsed": false,
     "input": [
      "np.random.seed(12346)"
     ],
     "language": "python",
     "metadata": {},
     "outputs": [],
     "prompt_number": 186
    },
    {
     "cell_type": "code",
     "collapsed": false,
     "input": [
      "# Set most of the time series randomly to NA\n",
      "indexer = np.sort(np.random.permutation(len(ts))[700:])\n",
      "irr_ts = ts.copy()\n",
      "irr_ts[indexer] = np.nan\n",
      "irr_ts['2012-06-01 09:50':'2012-06-01 10:00']"
     ],
     "language": "python",
     "metadata": {},
     "outputs": [
      {
       "metadata": {},
       "output_type": "pyout",
       "prompt_number": 187,
       "text": [
        "2012-06-01 09:50:00    20\n",
        "2012-06-01 09:51:00   NaN\n",
        "2012-06-01 09:52:00    22\n",
        "2012-06-01 09:53:00    23\n",
        "2012-06-01 09:54:00   NaN\n",
        "2012-06-01 09:55:00    25\n",
        "2012-06-01 09:56:00   NaN\n",
        "2012-06-01 09:57:00   NaN\n",
        "2012-06-01 09:58:00   NaN\n",
        "2012-06-01 09:59:00   NaN\n",
        "2012-06-01 10:00:00   NaN\n",
        "dtype: float64"
       ]
      }
     ],
     "prompt_number": 187
    },
    {
     "cell_type": "code",
     "collapsed": false,
     "input": [
      "selection = pd.date_range('2012-06-01 10:00', periods=4, freq='B')\n",
      "irr_ts.asof(selection)"
     ],
     "language": "python",
     "metadata": {},
     "outputs": [
      {
       "metadata": {},
       "output_type": "pyout",
       "prompt_number": 188,
       "text": [
        "2012-06-01 10:00:00      25\n",
        "2012-06-04 10:00:00     420\n",
        "2012-06-05 10:00:00     810\n",
        "2012-06-06 10:00:00    1197\n",
        "Freq: B, dtype: float64"
       ]
      }
     ],
     "prompt_number": 188
    },
    {
     "cell_type": "heading",
     "level": 3,
     "metadata": {},
     "source": [
      "Splicing together data sources"
     ]
    },
    {
     "cell_type": "code",
     "collapsed": false,
     "input": [
      "data1 = DataFrame(np.ones((6, 3), dtype=float), columns=['a', 'b', 'c'], index=pd.date_range('6/12/2012', periods=6))\n",
      "data2 = DataFrame(np.ones((6, 3), dtype=float) * 2, columns=['a', 'b', 'c'], index=pd.date_range('6/13/2012', periods=6))\n",
      "spliced = pd.concat([data1.ix[:'2012-06-14'], data2.ix['2012-06-15':]])\n",
      "spliced"
     ],
     "language": "python",
     "metadata": {},
     "outputs": [
      {
       "html": [
        "<div style=\"max-height:1000px;max-width:1500px;overflow:auto;\">\n",
        "<table border=\"1\" class=\"dataframe\">\n",
        "  <thead>\n",
        "    <tr style=\"text-align: right;\">\n",
        "      <th></th>\n",
        "      <th>a</th>\n",
        "      <th>b</th>\n",
        "      <th>c</th>\n",
        "    </tr>\n",
        "  </thead>\n",
        "  <tbody>\n",
        "    <tr>\n",
        "      <th>2012-06-12</th>\n",
        "      <td> 1</td>\n",
        "      <td> 1</td>\n",
        "      <td> 1</td>\n",
        "    </tr>\n",
        "    <tr>\n",
        "      <th>2012-06-13</th>\n",
        "      <td> 1</td>\n",
        "      <td> 1</td>\n",
        "      <td> 1</td>\n",
        "    </tr>\n",
        "    <tr>\n",
        "      <th>2012-06-14</th>\n",
        "      <td> 1</td>\n",
        "      <td> 1</td>\n",
        "      <td> 1</td>\n",
        "    </tr>\n",
        "    <tr>\n",
        "      <th>2012-06-15</th>\n",
        "      <td> 2</td>\n",
        "      <td> 2</td>\n",
        "      <td> 2</td>\n",
        "    </tr>\n",
        "    <tr>\n",
        "      <th>2012-06-16</th>\n",
        "      <td> 2</td>\n",
        "      <td> 2</td>\n",
        "      <td> 2</td>\n",
        "    </tr>\n",
        "    <tr>\n",
        "      <th>2012-06-17</th>\n",
        "      <td> 2</td>\n",
        "      <td> 2</td>\n",
        "      <td> 2</td>\n",
        "    </tr>\n",
        "    <tr>\n",
        "      <th>2012-06-18</th>\n",
        "      <td> 2</td>\n",
        "      <td> 2</td>\n",
        "      <td> 2</td>\n",
        "    </tr>\n",
        "  </tbody>\n",
        "</table>\n",
        "</div>"
       ],
       "metadata": {},
       "output_type": "pyout",
       "prompt_number": 189,
       "text": [
        "            a  b  c\n",
        "2012-06-12  1  1  1\n",
        "2012-06-13  1  1  1\n",
        "2012-06-14  1  1  1\n",
        "2012-06-15  2  2  2\n",
        "2012-06-16  2  2  2\n",
        "2012-06-17  2  2  2\n",
        "2012-06-18  2  2  2"
       ]
      }
     ],
     "prompt_number": 189
    },
    {
     "cell_type": "code",
     "collapsed": false,
     "input": [
      "data2 = DataFrame(np.ones((6, 4), dtype=float) * 2,\n",
      "                  columns=['a', 'b', 'c', 'd'],\n",
      "                  index=pd.date_range('6/13/2012', periods=6))\n",
      "spliced = pd.concat([data1.ix[:'2012-06-14'], data2.ix['2012-06-15':]])\n",
      "spliced"
     ],
     "language": "python",
     "metadata": {},
     "outputs": [
      {
       "html": [
        "<div style=\"max-height:1000px;max-width:1500px;overflow:auto;\">\n",
        "<table border=\"1\" class=\"dataframe\">\n",
        "  <thead>\n",
        "    <tr style=\"text-align: right;\">\n",
        "      <th></th>\n",
        "      <th>a</th>\n",
        "      <th>b</th>\n",
        "      <th>c</th>\n",
        "      <th>d</th>\n",
        "    </tr>\n",
        "  </thead>\n",
        "  <tbody>\n",
        "    <tr>\n",
        "      <th>2012-06-12</th>\n",
        "      <td> 1</td>\n",
        "      <td> 1</td>\n",
        "      <td> 1</td>\n",
        "      <td>NaN</td>\n",
        "    </tr>\n",
        "    <tr>\n",
        "      <th>2012-06-13</th>\n",
        "      <td> 1</td>\n",
        "      <td> 1</td>\n",
        "      <td> 1</td>\n",
        "      <td>NaN</td>\n",
        "    </tr>\n",
        "    <tr>\n",
        "      <th>2012-06-14</th>\n",
        "      <td> 1</td>\n",
        "      <td> 1</td>\n",
        "      <td> 1</td>\n",
        "      <td>NaN</td>\n",
        "    </tr>\n",
        "    <tr>\n",
        "      <th>2012-06-15</th>\n",
        "      <td> 2</td>\n",
        "      <td> 2</td>\n",
        "      <td> 2</td>\n",
        "      <td>  2</td>\n",
        "    </tr>\n",
        "    <tr>\n",
        "      <th>2012-06-16</th>\n",
        "      <td> 2</td>\n",
        "      <td> 2</td>\n",
        "      <td> 2</td>\n",
        "      <td>  2</td>\n",
        "    </tr>\n",
        "    <tr>\n",
        "      <th>2012-06-17</th>\n",
        "      <td> 2</td>\n",
        "      <td> 2</td>\n",
        "      <td> 2</td>\n",
        "      <td>  2</td>\n",
        "    </tr>\n",
        "    <tr>\n",
        "      <th>2012-06-18</th>\n",
        "      <td> 2</td>\n",
        "      <td> 2</td>\n",
        "      <td> 2</td>\n",
        "      <td>  2</td>\n",
        "    </tr>\n",
        "  </tbody>\n",
        "</table>\n",
        "</div>"
       ],
       "metadata": {},
       "output_type": "pyout",
       "prompt_number": 190,
       "text": [
        "            a  b  c   d\n",
        "2012-06-12  1  1  1 NaN\n",
        "2012-06-13  1  1  1 NaN\n",
        "2012-06-14  1  1  1 NaN\n",
        "2012-06-15  2  2  2   2\n",
        "2012-06-16  2  2  2   2\n",
        "2012-06-17  2  2  2   2\n",
        "2012-06-18  2  2  2   2"
       ]
      }
     ],
     "prompt_number": 190
    },
    {
     "cell_type": "code",
     "collapsed": false,
     "input": [
      "spliced_filled = spliced.combine_first(data2)\n",
      "spliced_filled"
     ],
     "language": "python",
     "metadata": {},
     "outputs": [
      {
       "html": [
        "<div style=\"max-height:1000px;max-width:1500px;overflow:auto;\">\n",
        "<table border=\"1\" class=\"dataframe\">\n",
        "  <thead>\n",
        "    <tr style=\"text-align: right;\">\n",
        "      <th></th>\n",
        "      <th>a</th>\n",
        "      <th>b</th>\n",
        "      <th>c</th>\n",
        "      <th>d</th>\n",
        "    </tr>\n",
        "  </thead>\n",
        "  <tbody>\n",
        "    <tr>\n",
        "      <th>2012-06-12</th>\n",
        "      <td> 1</td>\n",
        "      <td> 1</td>\n",
        "      <td> 1</td>\n",
        "      <td>NaN</td>\n",
        "    </tr>\n",
        "    <tr>\n",
        "      <th>2012-06-13</th>\n",
        "      <td> 1</td>\n",
        "      <td> 1</td>\n",
        "      <td> 1</td>\n",
        "      <td>  2</td>\n",
        "    </tr>\n",
        "    <tr>\n",
        "      <th>2012-06-14</th>\n",
        "      <td> 1</td>\n",
        "      <td> 1</td>\n",
        "      <td> 1</td>\n",
        "      <td>  2</td>\n",
        "    </tr>\n",
        "    <tr>\n",
        "      <th>2012-06-15</th>\n",
        "      <td> 2</td>\n",
        "      <td> 2</td>\n",
        "      <td> 2</td>\n",
        "      <td>  2</td>\n",
        "    </tr>\n",
        "    <tr>\n",
        "      <th>2012-06-16</th>\n",
        "      <td> 2</td>\n",
        "      <td> 2</td>\n",
        "      <td> 2</td>\n",
        "      <td>  2</td>\n",
        "    </tr>\n",
        "    <tr>\n",
        "      <th>2012-06-17</th>\n",
        "      <td> 2</td>\n",
        "      <td> 2</td>\n",
        "      <td> 2</td>\n",
        "      <td>  2</td>\n",
        "    </tr>\n",
        "    <tr>\n",
        "      <th>2012-06-18</th>\n",
        "      <td> 2</td>\n",
        "      <td> 2</td>\n",
        "      <td> 2</td>\n",
        "      <td>  2</td>\n",
        "    </tr>\n",
        "  </tbody>\n",
        "</table>\n",
        "</div>"
       ],
       "metadata": {},
       "output_type": "pyout",
       "prompt_number": 191,
       "text": [
        "            a  b  c   d\n",
        "2012-06-12  1  1  1 NaN\n",
        "2012-06-13  1  1  1   2\n",
        "2012-06-14  1  1  1   2\n",
        "2012-06-15  2  2  2   2\n",
        "2012-06-16  2  2  2   2\n",
        "2012-06-17  2  2  2   2\n",
        "2012-06-18  2  2  2   2"
       ]
      }
     ],
     "prompt_number": 191
    },
    {
     "cell_type": "code",
     "collapsed": false,
     "input": [
      "spliced.update(data2, overwrite=False)"
     ],
     "language": "python",
     "metadata": {},
     "outputs": [],
     "prompt_number": 192
    },
    {
     "cell_type": "code",
     "collapsed": false,
     "input": [
      "spliced"
     ],
     "language": "python",
     "metadata": {},
     "outputs": [
      {
       "html": [
        "<div style=\"max-height:1000px;max-width:1500px;overflow:auto;\">\n",
        "<table border=\"1\" class=\"dataframe\">\n",
        "  <thead>\n",
        "    <tr style=\"text-align: right;\">\n",
        "      <th></th>\n",
        "      <th>a</th>\n",
        "      <th>b</th>\n",
        "      <th>c</th>\n",
        "      <th>d</th>\n",
        "    </tr>\n",
        "  </thead>\n",
        "  <tbody>\n",
        "    <tr>\n",
        "      <th>2012-06-12</th>\n",
        "      <td> 1</td>\n",
        "      <td> 1</td>\n",
        "      <td> 1</td>\n",
        "      <td>NaN</td>\n",
        "    </tr>\n",
        "    <tr>\n",
        "      <th>2012-06-13</th>\n",
        "      <td> 1</td>\n",
        "      <td> 1</td>\n",
        "      <td> 1</td>\n",
        "      <td>  2</td>\n",
        "    </tr>\n",
        "    <tr>\n",
        "      <th>2012-06-14</th>\n",
        "      <td> 1</td>\n",
        "      <td> 1</td>\n",
        "      <td> 1</td>\n",
        "      <td>  2</td>\n",
        "    </tr>\n",
        "    <tr>\n",
        "      <th>2012-06-15</th>\n",
        "      <td> 2</td>\n",
        "      <td> 2</td>\n",
        "      <td> 2</td>\n",
        "      <td>  2</td>\n",
        "    </tr>\n",
        "    <tr>\n",
        "      <th>2012-06-16</th>\n",
        "      <td> 2</td>\n",
        "      <td> 2</td>\n",
        "      <td> 2</td>\n",
        "      <td>  2</td>\n",
        "    </tr>\n",
        "    <tr>\n",
        "      <th>2012-06-17</th>\n",
        "      <td> 2</td>\n",
        "      <td> 2</td>\n",
        "      <td> 2</td>\n",
        "      <td>  2</td>\n",
        "    </tr>\n",
        "    <tr>\n",
        "      <th>2012-06-18</th>\n",
        "      <td> 2</td>\n",
        "      <td> 2</td>\n",
        "      <td> 2</td>\n",
        "      <td>  2</td>\n",
        "    </tr>\n",
        "  </tbody>\n",
        "</table>\n",
        "</div>"
       ],
       "metadata": {},
       "output_type": "pyout",
       "prompt_number": 193,
       "text": [
        "            a  b  c   d\n",
        "2012-06-12  1  1  1 NaN\n",
        "2012-06-13  1  1  1   2\n",
        "2012-06-14  1  1  1   2\n",
        "2012-06-15  2  2  2   2\n",
        "2012-06-16  2  2  2   2\n",
        "2012-06-17  2  2  2   2\n",
        "2012-06-18  2  2  2   2"
       ]
      }
     ],
     "prompt_number": 193
    },
    {
     "cell_type": "code",
     "collapsed": false,
     "input": [
      "cp_spliced = spliced.copy()\n",
      "cp_spliced[['a', 'c']] = data1[['a', 'c']]\n",
      "cp_spliced"
     ],
     "language": "python",
     "metadata": {},
     "outputs": [
      {
       "html": [
        "<div style=\"max-height:1000px;max-width:1500px;overflow:auto;\">\n",
        "<table border=\"1\" class=\"dataframe\">\n",
        "  <thead>\n",
        "    <tr style=\"text-align: right;\">\n",
        "      <th></th>\n",
        "      <th>a</th>\n",
        "      <th>b</th>\n",
        "      <th>c</th>\n",
        "      <th>d</th>\n",
        "    </tr>\n",
        "  </thead>\n",
        "  <tbody>\n",
        "    <tr>\n",
        "      <th>2012-06-12</th>\n",
        "      <td>  1</td>\n",
        "      <td> 1</td>\n",
        "      <td>  1</td>\n",
        "      <td>NaN</td>\n",
        "    </tr>\n",
        "    <tr>\n",
        "      <th>2012-06-13</th>\n",
        "      <td>  1</td>\n",
        "      <td> 1</td>\n",
        "      <td>  1</td>\n",
        "      <td>  2</td>\n",
        "    </tr>\n",
        "    <tr>\n",
        "      <th>2012-06-14</th>\n",
        "      <td>  1</td>\n",
        "      <td> 1</td>\n",
        "      <td>  1</td>\n",
        "      <td>  2</td>\n",
        "    </tr>\n",
        "    <tr>\n",
        "      <th>2012-06-15</th>\n",
        "      <td>  1</td>\n",
        "      <td> 2</td>\n",
        "      <td>  1</td>\n",
        "      <td>  2</td>\n",
        "    </tr>\n",
        "    <tr>\n",
        "      <th>2012-06-16</th>\n",
        "      <td>  1</td>\n",
        "      <td> 2</td>\n",
        "      <td>  1</td>\n",
        "      <td>  2</td>\n",
        "    </tr>\n",
        "    <tr>\n",
        "      <th>2012-06-17</th>\n",
        "      <td>  1</td>\n",
        "      <td> 2</td>\n",
        "      <td>  1</td>\n",
        "      <td>  2</td>\n",
        "    </tr>\n",
        "    <tr>\n",
        "      <th>2012-06-18</th>\n",
        "      <td>NaN</td>\n",
        "      <td> 2</td>\n",
        "      <td>NaN</td>\n",
        "      <td>  2</td>\n",
        "    </tr>\n",
        "  </tbody>\n",
        "</table>\n",
        "</div>"
       ],
       "metadata": {},
       "output_type": "pyout",
       "prompt_number": 194,
       "text": [
        "             a  b   c   d\n",
        "2012-06-12   1  1   1 NaN\n",
        "2012-06-13   1  1   1   2\n",
        "2012-06-14   1  1   1   2\n",
        "2012-06-15   1  2   1   2\n",
        "2012-06-16   1  2   1   2\n",
        "2012-06-17   1  2   1   2\n",
        "2012-06-18 NaN  2 NaN   2"
       ]
      }
     ],
     "prompt_number": 194
    },
    {
     "cell_type": "heading",
     "level": 2,
     "metadata": {},
     "source": [
      "Return indexes and cumulative returns"
     ]
    },
    {
     "cell_type": "code",
     "collapsed": false,
     "input": [
      "import pandas.io.data as web"
     ],
     "language": "python",
     "metadata": {},
     "outputs": [],
     "prompt_number": 195
    },
    {
     "cell_type": "raw",
     "metadata": {},
     "source": []
    },
    {
     "cell_type": "code",
     "collapsed": false,
     "input": [
      "price=web.get_data_yahoo('AAPL','2011-01-01')['Adj Close']"
     ],
     "language": "python",
     "metadata": {},
     "outputs": [],
     "prompt_number": 196
    },
    {
     "cell_type": "code",
     "collapsed": false,
     "input": [
      "price"
     ],
     "language": "python",
     "metadata": {},
     "outputs": [
      {
       "metadata": {},
       "output_type": "pyout",
       "prompt_number": 197,
       "text": [
        "Date\n",
        "2011-01-03    44.225135\n",
        "2011-01-04    44.455941\n",
        "2011-01-05    44.819603\n",
        "2011-01-06    44.783362\n",
        "...\n",
        "2015-06-09    127.419998\n",
        "2015-06-10    128.880005\n",
        "2015-06-11    128.589996\n",
        "2015-06-12    127.169998\n",
        "Name: Adj Close, Length: 1118"
       ]
      }
     ],
     "prompt_number": 197
    },
    {
     "cell_type": "code",
     "collapsed": false,
     "input": [
      "price[-5:]"
     ],
     "language": "python",
     "metadata": {},
     "outputs": [
      {
       "metadata": {},
       "output_type": "pyout",
       "prompt_number": 198,
       "text": [
        "Date\n",
        "2015-06-08    127.800003\n",
        "2015-06-09    127.419998\n",
        "2015-06-10    128.880005\n",
        "2015-06-11    128.589996\n",
        "2015-06-12    127.169998\n",
        "Name: Adj Close, dtype: float64"
       ]
      }
     ],
     "prompt_number": 198
    },
    {
     "cell_type": "code",
     "collapsed": false,
     "input": [
      "price[5:]"
     ],
     "language": "python",
     "metadata": {},
     "outputs": [
      {
       "metadata": {},
       "output_type": "pyout",
       "prompt_number": 199,
       "text": [
        "Date\n",
        "2011-01-10    45.953508\n",
        "2011-01-11    45.844809\n",
        "2011-01-12    46.217867\n",
        "2011-01-13    46.386944\n",
        "...\n",
        "2015-06-09    127.419998\n",
        "2015-06-10    128.880005\n",
        "2015-06-11    128.589996\n",
        "2015-06-12    127.169998\n",
        "Name: Adj Close, Length: 1113"
       ]
      }
     ],
     "prompt_number": 199
    },
    {
     "cell_type": "heading",
     "level": 6,
     "metadata": {},
     "source": [
      "computing the cumulative percent return between two points in time"
     ]
    },
    {
     "cell_type": "code",
     "collapsed": false,
     "input": [
      "price['2011-10-03'] / price['2011-3-01']-1"
     ],
     "language": "python",
     "metadata": {},
     "outputs": [
      {
       "metadata": {},
       "output_type": "pyout",
       "prompt_number": 200,
       "text": [
        "0.072399969339113746"
       ]
      }
     ],
     "prompt_number": 200
    },
    {
     "cell_type": "code",
     "collapsed": false,
     "input": [],
     "language": "python",
     "metadata": {},
     "outputs": [],
     "prompt_number": 200
    },
    {
     "cell_type": "code",
     "collapsed": false,
     "input": [
      "returns=price.pct_change()"
     ],
     "language": "python",
     "metadata": {},
     "outputs": [],
     "prompt_number": 201
    },
    {
     "cell_type": "code",
     "collapsed": false,
     "input": [
      "ret_index=(1+returns).cumprod()"
     ],
     "language": "python",
     "metadata": {},
     "outputs": [],
     "prompt_number": 202
    },
    {
     "cell_type": "code",
     "collapsed": false,
     "input": [
      "ret_index[0]=1 #Set firsrt value to 1"
     ],
     "language": "python",
     "metadata": {},
     "outputs": [],
     "prompt_number": 203
    },
    {
     "cell_type": "code",
     "collapsed": false,
     "input": [
      "ret_index"
     ],
     "language": "python",
     "metadata": {},
     "outputs": [
      {
       "metadata": {},
       "output_type": "pyout",
       "prompt_number": 204,
       "text": [
        "Date\n",
        "2011-01-03    1.000000\n",
        "2011-01-04    1.005219\n",
        "2011-01-05    1.013442\n",
        "2011-01-06    1.012622\n",
        "...\n",
        "2015-06-09    2.881167\n",
        "2015-06-10    2.914180\n",
        "2015-06-11    2.907622\n",
        "2015-06-12    2.875514\n",
        "Name: Adj Close, Length: 1118"
       ]
      }
     ],
     "prompt_number": 204
    },
    {
     "cell_type": "code",
     "collapsed": false,
     "input": [
      "m_returns=ret_index.resample('BM',how='last').pct_change()"
     ],
     "language": "python",
     "metadata": {},
     "outputs": [],
     "prompt_number": 205
    },
    {
     "cell_type": "code",
     "collapsed": false,
     "input": [
      "m_returns['2012']"
     ],
     "language": "python",
     "metadata": {},
     "outputs": [
      {
       "metadata": {},
       "output_type": "pyout",
       "prompt_number": 206,
       "text": [
        "Date\n",
        "2012-01-31    0.127111\n",
        "2012-02-29    0.188311\n",
        "2012-03-30    0.105284\n",
        "2012-04-30   -0.025970\n",
        "2012-05-31   -0.010702\n",
        "2012-06-29    0.010853\n",
        "2012-07-31    0.045822\n",
        "2012-08-31    0.093877\n",
        "2012-09-28    0.002796\n",
        "2012-10-31   -0.107600\n",
        "2012-11-30   -0.012374\n",
        "2012-12-31   -0.090743\n",
        "Freq: BM, Name: Adj Close, dtype: float64"
       ]
      }
     ],
     "prompt_number": 206
    },
    {
     "cell_type": "heading",
     "level": 2,
     "metadata": {},
     "source": [
      "Group transforms and analysis"
     ]
    },
    {
     "cell_type": "code",
     "collapsed": false,
     "input": [
      "import random\n",
      "random.seed(0)"
     ],
     "language": "python",
     "metadata": {},
     "outputs": [],
     "prompt_number": 207
    },
    {
     "cell_type": "code",
     "collapsed": false,
     "input": [
      "import string"
     ],
     "language": "python",
     "metadata": {},
     "outputs": [],
     "prompt_number": 208
    },
    {
     "cell_type": "code",
     "collapsed": false,
     "input": [
      "N = 1000\n",
      "def rands(n):\n",
      "    choices = string.ascii_uppercase\n",
      "    return ''.join([random.choice(choices) for _ in xrange(n)])\n",
      "tickers = np.array([rands(5) for _ in xrange(N)])"
     ],
     "language": "python",
     "metadata": {},
     "outputs": [],
     "prompt_number": 209
    },
    {
     "cell_type": "code",
     "collapsed": false,
     "input": [
      "M = 500\n",
      "df = DataFrame({'Momentum' : np.random.randn(M) / 200 + 0.03,\n",
      "                'Value' : np.random.randn(M) / 200 + 0.08,\n",
      "                'ShortInterest' : np.random.randn(M) / 200 - 0.02},\n",
      "                index=tickers[:M])"
     ],
     "language": "python",
     "metadata": {},
     "outputs": [],
     "prompt_number": 210
    },
    {
     "cell_type": "code",
     "collapsed": false,
     "input": [
      "ind_names = np.array(['FINANCIAL', 'TECH'])\n",
      "sampler = np.random.randint(0, len(ind_names), N)\n",
      "industries = Series(ind_names[sampler], index=tickers,\n",
      "                    name='industry')\n"
     ],
     "language": "python",
     "metadata": {},
     "outputs": [],
     "prompt_number": 211
    },
    {
     "cell_type": "code",
     "collapsed": false,
     "input": [
      "by_industry= df.groupby(industries)"
     ],
     "language": "python",
     "metadata": {},
     "outputs": [],
     "prompt_number": 212
    },
    {
     "cell_type": "code",
     "collapsed": false,
     "input": [
      "by_industry.mean()"
     ],
     "language": "python",
     "metadata": {},
     "outputs": [
      {
       "html": [
        "<div style=\"max-height:1000px;max-width:1500px;overflow:auto;\">\n",
        "<table border=\"1\" class=\"dataframe\">\n",
        "  <thead>\n",
        "    <tr style=\"text-align: right;\">\n",
        "      <th></th>\n",
        "      <th>Momentum</th>\n",
        "      <th>ShortInterest</th>\n",
        "      <th>Value</th>\n",
        "    </tr>\n",
        "    <tr>\n",
        "      <th>industry</th>\n",
        "      <th></th>\n",
        "      <th></th>\n",
        "      <th></th>\n",
        "    </tr>\n",
        "  </thead>\n",
        "  <tbody>\n",
        "    <tr>\n",
        "      <th>FINANCIAL</th>\n",
        "      <td> 0.029994</td>\n",
        "      <td>-0.019729</td>\n",
        "      <td> 0.080241</td>\n",
        "    </tr>\n",
        "    <tr>\n",
        "      <th>TECH</th>\n",
        "      <td> 0.030227</td>\n",
        "      <td>-0.020296</td>\n",
        "      <td> 0.080365</td>\n",
        "    </tr>\n",
        "  </tbody>\n",
        "</table>\n",
        "</div>"
       ],
       "metadata": {},
       "output_type": "pyout",
       "prompt_number": 213,
       "text": [
        "           Momentum  ShortInterest     Value\n",
        "industry                                    \n",
        "FINANCIAL  0.029994      -0.019729  0.080241\n",
        "TECH       0.030227      -0.020296  0.080365"
       ]
      }
     ],
     "prompt_number": 213
    },
    {
     "cell_type": "code",
     "collapsed": false,
     "input": [
      "by_industry.describe()"
     ],
     "language": "python",
     "metadata": {},
     "outputs": [
      {
       "html": [
        "<div style=\"max-height:1000px;max-width:1500px;overflow:auto;\">\n",
        "<table border=\"1\" class=\"dataframe\">\n",
        "  <thead>\n",
        "    <tr style=\"text-align: right;\">\n",
        "      <th></th>\n",
        "      <th></th>\n",
        "      <th>Momentum</th>\n",
        "      <th>ShortInterest</th>\n",
        "      <th>Value</th>\n",
        "    </tr>\n",
        "    <tr>\n",
        "      <th>industry</th>\n",
        "      <th></th>\n",
        "      <th></th>\n",
        "      <th></th>\n",
        "      <th></th>\n",
        "    </tr>\n",
        "  </thead>\n",
        "  <tbody>\n",
        "    <tr>\n",
        "      <th rowspan=\"6\" valign=\"top\">FINANCIAL</th>\n",
        "      <th>count</th>\n",
        "      <td> 235.000000</td>\n",
        "      <td> 235.000000</td>\n",
        "      <td> 235.000000</td>\n",
        "    </tr>\n",
        "    <tr>\n",
        "      <th>mean</th>\n",
        "      <td>   0.029994</td>\n",
        "      <td>  -0.019729</td>\n",
        "      <td>   0.080241</td>\n",
        "    </tr>\n",
        "    <tr>\n",
        "      <th>std</th>\n",
        "      <td>   0.005116</td>\n",
        "      <td>   0.005204</td>\n",
        "      <td>   0.004779</td>\n",
        "    </tr>\n",
        "    <tr>\n",
        "      <th>min</th>\n",
        "      <td>   0.015524</td>\n",
        "      <td>  -0.035881</td>\n",
        "      <td>   0.065172</td>\n",
        "    </tr>\n",
        "    <tr>\n",
        "      <th>25%</th>\n",
        "      <td>   0.026558</td>\n",
        "      <td>  -0.023544</td>\n",
        "      <td>   0.077404</td>\n",
        "    </tr>\n",
        "    <tr>\n",
        "      <th>50%</th>\n",
        "      <td>   0.029831</td>\n",
        "      <td>  -0.019601</td>\n",
        "      <td>   0.080184</td>\n",
        "    </tr>\n",
        "    <tr>\n",
        "      <th>...</th>\n",
        "      <th>...</th>\n",
        "      <td>...</td>\n",
        "      <td>...</td>\n",
        "      <td>...</td>\n",
        "    </tr>\n",
        "    <tr>\n",
        "      <th rowspan=\"6\" valign=\"top\">TECH</th>\n",
        "      <th>std</th>\n",
        "      <td>   0.004751</td>\n",
        "      <td>   0.004843</td>\n",
        "      <td>   0.005064</td>\n",
        "    </tr>\n",
        "    <tr>\n",
        "      <th>min</th>\n",
        "      <td>   0.017822</td>\n",
        "      <td>  -0.035051</td>\n",
        "      <td>   0.064883</td>\n",
        "    </tr>\n",
        "    <tr>\n",
        "      <th>25%</th>\n",
        "      <td>   0.027127</td>\n",
        "      <td>  -0.023637</td>\n",
        "      <td>   0.077294</td>\n",
        "    </tr>\n",
        "    <tr>\n",
        "      <th>50%</th>\n",
        "      <td>   0.030050</td>\n",
        "      <td>  -0.020266</td>\n",
        "      <td>   0.080601</td>\n",
        "    </tr>\n",
        "    <tr>\n",
        "      <th>75%</th>\n",
        "      <td>   0.033275</td>\n",
        "      <td>  -0.016634</td>\n",
        "      <td>   0.083768</td>\n",
        "    </tr>\n",
        "    <tr>\n",
        "      <th>max</th>\n",
        "      <td>   0.043905</td>\n",
        "      <td>  -0.006910</td>\n",
        "      <td>   0.096478</td>\n",
        "    </tr>\n",
        "  </tbody>\n",
        "</table>\n",
        "<p>16 rows \u00d7 3 columns</p>\n",
        "</div>"
       ],
       "metadata": {},
       "output_type": "pyout",
       "prompt_number": 214,
       "text": [
        "                   Momentum  ShortInterest       Value\n",
        "industry                                              \n",
        "FINANCIAL count  235.000000     235.000000  235.000000\n",
        "          mean     0.029994      -0.019729    0.080241\n",
        "          std      0.005116       0.005204    0.004779\n",
        "          min      0.015524      -0.035881    0.065172\n",
        "          25%      0.026558      -0.023544    0.077404\n",
        "          50%      0.029831      -0.019601    0.080184\n",
        "...                     ...            ...         ...\n",
        "TECH      std      0.004751       0.004843    0.005064\n",
        "          min      0.017822      -0.035051    0.064883\n",
        "          25%      0.027127      -0.023637    0.077294\n",
        "          50%      0.030050      -0.020266    0.080601\n",
        "          75%      0.033275      -0.016634    0.083768\n",
        "          max      0.043905      -0.006910    0.096478\n",
        "\n",
        "[16 rows x 3 columns]"
       ]
      }
     ],
     "prompt_number": 214
    },
    {
     "cell_type": "code",
     "collapsed": false,
     "input": [
      "# Within-Industry Standardize\n",
      "def zscore(group):\n",
      "    return (group - group.mean()) / group.std()\n",
      "\n",
      "df_stand = by_industry.apply(zscore)"
     ],
     "language": "python",
     "metadata": {},
     "outputs": [],
     "prompt_number": 215
    },
    {
     "cell_type": "code",
     "collapsed": false,
     "input": [
      "df_stand.groupby(industries).agg(['mean','std'])"
     ],
     "language": "python",
     "metadata": {},
     "outputs": [
      {
       "html": [
        "<div style=\"max-height:1000px;max-width:1500px;overflow:auto;\">\n",
        "<table border=\"1\" class=\"dataframe\">\n",
        "  <thead>\n",
        "    <tr>\n",
        "      <th></th>\n",
        "      <th colspan=\"2\" halign=\"left\">Momentum</th>\n",
        "      <th colspan=\"2\" halign=\"left\">ShortInterest</th>\n",
        "      <th colspan=\"2\" halign=\"left\">Value</th>\n",
        "    </tr>\n",
        "    <tr>\n",
        "      <th></th>\n",
        "      <th>mean</th>\n",
        "      <th>std</th>\n",
        "      <th>mean</th>\n",
        "      <th>std</th>\n",
        "      <th>mean</th>\n",
        "      <th>std</th>\n",
        "    </tr>\n",
        "    <tr>\n",
        "      <th>industry</th>\n",
        "      <th></th>\n",
        "      <th></th>\n",
        "      <th></th>\n",
        "      <th></th>\n",
        "      <th></th>\n",
        "      <th></th>\n",
        "    </tr>\n",
        "  </thead>\n",
        "  <tbody>\n",
        "    <tr>\n",
        "      <th>FINANCIAL</th>\n",
        "      <td> 6.666063e-16</td>\n",
        "      <td> 1</td>\n",
        "      <td> 1.704547e-15</td>\n",
        "      <td> 1</td>\n",
        "      <td> 7.617075e-15</td>\n",
        "      <td> 1</td>\n",
        "    </tr>\n",
        "    <tr>\n",
        "      <th>TECH</th>\n",
        "      <td>-1.511998e-15</td>\n",
        "      <td> 1</td>\n",
        "      <td>-4.315206e-15</td>\n",
        "      <td> 1</td>\n",
        "      <td> 2.499468e-15</td>\n",
        "      <td> 1</td>\n",
        "    </tr>\n",
        "  </tbody>\n",
        "</table>\n",
        "</div>"
       ],
       "metadata": {},
       "output_type": "pyout",
       "prompt_number": 216,
       "text": [
        "               Momentum       ShortInterest              Value     \n",
        "                   mean  std           mean  std          mean  std\n",
        "industry                                                           \n",
        "FINANCIAL  6.666063e-16    1   1.704547e-15    1  7.617075e-15    1\n",
        "TECH      -1.511998e-15    1  -4.315206e-15    1  2.499468e-15    1"
       ]
      }
     ],
     "prompt_number": 216
    },
    {
     "cell_type": "code",
     "collapsed": false,
     "input": [
      "ind_rank=by_industry.rank(ascending=False)"
     ],
     "language": "python",
     "metadata": {},
     "outputs": [],
     "prompt_number": 217
    },
    {
     "cell_type": "heading",
     "level": 5,
     "metadata": {},
     "source": [
      "#industry rank and standardrize"
     ]
    },
    {
     "cell_type": "code",
     "collapsed": false,
     "input": [
      "by_industry.apply(lambda x: zscore(x.rank()))"
     ],
     "language": "python",
     "metadata": {},
     "outputs": [
      {
       "html": [
        "<div style=\"max-height:1000px;max-width:1500px;overflow:auto;\">\n",
        "<table border=\"1\" class=\"dataframe\">\n",
        "  <thead>\n",
        "    <tr style=\"text-align: right;\">\n",
        "      <th></th>\n",
        "      <th>Momentum</th>\n",
        "      <th>ShortInterest</th>\n",
        "      <th>Value</th>\n",
        "    </tr>\n",
        "  </thead>\n",
        "  <tbody>\n",
        "    <tr>\n",
        "      <th>VTKGN</th>\n",
        "      <td> 0.130475</td>\n",
        "      <td> 0.652374</td>\n",
        "      <td> 1.174274</td>\n",
        "    </tr>\n",
        "    <tr>\n",
        "      <th>KUHMP</th>\n",
        "      <td>-1.095989</td>\n",
        "      <td>-0.808944</td>\n",
        "      <td> 1.161226</td>\n",
        "    </tr>\n",
        "    <tr>\n",
        "      <th>XNHTQ</th>\n",
        "      <td> 0.835039</td>\n",
        "      <td>-0.926372</td>\n",
        "      <td> 0.717612</td>\n",
        "    </tr>\n",
        "    <tr>\n",
        "      <th>GXZVX</th>\n",
        "      <td> 0.058838</td>\n",
        "      <td> 1.500379</td>\n",
        "      <td> 1.456250</td>\n",
        "    </tr>\n",
        "    <tr>\n",
        "      <th>ISXRM</th>\n",
        "      <td> 1.000252</td>\n",
        "      <td> 0.911995</td>\n",
        "      <td> 1.515088</td>\n",
        "    </tr>\n",
        "    <tr>\n",
        "      <th>CLPXZ</th>\n",
        "      <td> 0.521899</td>\n",
        "      <td>-1.174274</td>\n",
        "      <td> 0.913324</td>\n",
        "    </tr>\n",
        "    <tr>\n",
        "      <th>...</th>\n",
        "      <td>...</td>\n",
        "      <td>...</td>\n",
        "      <td>...</td>\n",
        "    </tr>\n",
        "    <tr>\n",
        "      <th>CJYCG</th>\n",
        "      <td> 0.691517</td>\n",
        "      <td>-0.182665</td>\n",
        "      <td> 1.500461</td>\n",
        "    </tr>\n",
        "    <tr>\n",
        "      <th>BWRPM</th>\n",
        "      <td> 1.422176</td>\n",
        "      <td> 0.808944</td>\n",
        "      <td> 0.808944</td>\n",
        "    </tr>\n",
        "    <tr>\n",
        "      <th>GPSUE</th>\n",
        "      <td> 1.632765</td>\n",
        "      <td>-0.941414</td>\n",
        "      <td>-0.367740</td>\n",
        "    </tr>\n",
        "    <tr>\n",
        "      <th>QRPSN</th>\n",
        "      <td>-1.721023</td>\n",
        "      <td> 0.720770</td>\n",
        "      <td> 1.412121</td>\n",
        "    </tr>\n",
        "    <tr>\n",
        "      <th>YQQAD</th>\n",
        "      <td> 0.652374</td>\n",
        "      <td>-0.861134</td>\n",
        "      <td>-1.056846</td>\n",
        "    </tr>\n",
        "    <tr>\n",
        "      <th>PTDQE</th>\n",
        "      <td> 0.558965</td>\n",
        "      <td> 1.397411</td>\n",
        "      <td> 1.147348</td>\n",
        "    </tr>\n",
        "  </tbody>\n",
        "</table>\n",
        "<p>500 rows \u00d7 3 columns</p>\n",
        "</div>"
       ],
       "metadata": {},
       "output_type": "pyout",
       "prompt_number": 218,
       "text": [
        "       Momentum  ShortInterest     Value\n",
        "VTKGN  0.130475       0.652374  1.174274\n",
        "KUHMP -1.095989      -0.808944  1.161226\n",
        "XNHTQ  0.835039      -0.926372  0.717612\n",
        "GXZVX  0.058838       1.500379  1.456250\n",
        "ISXRM  1.000252       0.911995  1.515088\n",
        "CLPXZ  0.521899      -1.174274  0.913324\n",
        "...         ...            ...       ...\n",
        "CJYCG  0.691517      -0.182665  1.500461\n",
        "BWRPM  1.422176       0.808944  0.808944\n",
        "GPSUE  1.632765      -0.941414 -0.367740\n",
        "QRPSN -1.721023       0.720770  1.412121\n",
        "YQQAD  0.652374      -0.861134 -1.056846\n",
        "PTDQE  0.558965       1.397411  1.147348\n",
        "\n",
        "[500 rows x 3 columns]"
       ]
      }
     ],
     "prompt_number": 218
    },
    {
     "cell_type": "heading",
     "level": 2,
     "metadata": {},
     "source": [
      "Group factor exposures"
     ]
    },
    {
     "cell_type": "code",
     "collapsed": false,
     "input": [
      "from numpy.random import rand"
     ],
     "language": "python",
     "metadata": {},
     "outputs": [],
     "prompt_number": 219
    },
    {
     "cell_type": "code",
     "collapsed": false,
     "input": [
      "fac1,fac2,fac3= np.random.rand(3,1000)"
     ],
     "language": "python",
     "metadata": {},
     "outputs": [],
     "prompt_number": 220
    },
    {
     "cell_type": "code",
     "collapsed": false,
     "input": [
      "ticker_subset= tickers.take(np.random.permutation(N)[:1000])\n"
     ],
     "language": "python",
     "metadata": {},
     "outputs": [],
     "prompt_number": 221
    },
    {
     "cell_type": "code",
     "collapsed": false,
     "input": [
      "# Weighted sum of factors plus noise\n",
      "port = Series(0.7 * fac1 - 1.2 * fac2 + 0.3 * fac3 + rand(1000),\n",
      "              index=ticker_subset)\n",
      "factors = DataFrame({'f1': fac1, 'f2': fac2, 'f3': fac3},\n",
      "                    index=ticker_subset)"
     ],
     "language": "python",
     "metadata": {},
     "outputs": [],
     "prompt_number": 222
    },
    {
     "cell_type": "code",
     "collapsed": false,
     "input": [
      "factors.corrwith(port)"
     ],
     "language": "python",
     "metadata": {},
     "outputs": [
      {
       "metadata": {},
       "output_type": "pyout",
       "prompt_number": 223,
       "text": [
        "f1    0.432539\n",
        "f2   -0.695195\n",
        "f3    0.158409\n",
        "dtype: float64"
       ]
      }
     ],
     "prompt_number": 223
    },
    {
     "cell_type": "code",
     "collapsed": false,
     "input": [
      "pd.ols(y=port,x=factors).beta"
     ],
     "language": "python",
     "metadata": {},
     "outputs": [
      {
       "metadata": {},
       "output_type": "pyout",
       "prompt_number": 224,
       "text": [
        "f1           0.725675\n",
        "f2          -1.187307\n",
        "f3           0.266023\n",
        "intercept    0.503133\n",
        "dtype: float64"
       ]
      }
     ],
     "prompt_number": 224
    },
    {
     "cell_type": "code",
     "collapsed": false,
     "input": [
      "def beta_exposure(chunk,factors=None):\n",
      "    return pd.ols(y=chunk,x=factors).beta"
     ],
     "language": "python",
     "metadata": {},
     "outputs": [],
     "prompt_number": 225
    },
    {
     "cell_type": "code",
     "collapsed": false,
     "input": [
      "by_ind=port.groupby(industries)"
     ],
     "language": "python",
     "metadata": {},
     "outputs": [],
     "prompt_number": 226
    },
    {
     "cell_type": "code",
     "collapsed": false,
     "input": [
      "exposures=by_ind.apply(beta_exposure,factors=factors)"
     ],
     "language": "python",
     "metadata": {},
     "outputs": [],
     "prompt_number": 227
    },
    {
     "cell_type": "code",
     "collapsed": false,
     "input": [
      "exposures.unstack()"
     ],
     "language": "python",
     "metadata": {},
     "outputs": [
      {
       "html": [
        "<div style=\"max-height:1000px;max-width:1500px;overflow:auto;\">\n",
        "<table border=\"1\" class=\"dataframe\">\n",
        "  <thead>\n",
        "    <tr style=\"text-align: right;\">\n",
        "      <th></th>\n",
        "      <th>f1</th>\n",
        "      <th>f2</th>\n",
        "      <th>f3</th>\n",
        "      <th>intercept</th>\n",
        "    </tr>\n",
        "    <tr>\n",
        "      <th>industry</th>\n",
        "      <th></th>\n",
        "      <th></th>\n",
        "      <th></th>\n",
        "      <th></th>\n",
        "    </tr>\n",
        "  </thead>\n",
        "  <tbody>\n",
        "    <tr>\n",
        "      <th>FINANCIAL</th>\n",
        "      <td> 0.699781</td>\n",
        "      <td>-1.143079</td>\n",
        "      <td> 0.291137</td>\n",
        "      <td> 0.488939</td>\n",
        "    </tr>\n",
        "    <tr>\n",
        "      <th>TECH</th>\n",
        "      <td> 0.753851</td>\n",
        "      <td>-1.228247</td>\n",
        "      <td> 0.244369</td>\n",
        "      <td> 0.512605</td>\n",
        "    </tr>\n",
        "  </tbody>\n",
        "</table>\n",
        "</div>"
       ],
       "metadata": {},
       "output_type": "pyout",
       "prompt_number": 228,
       "text": [
        "                 f1        f2        f3  intercept\n",
        "industry                                          \n",
        "FINANCIAL  0.699781 -1.143079  0.291137   0.488939\n",
        "TECH       0.753851 -1.228247  0.244369   0.512605"
       ]
      }
     ],
     "prompt_number": 228
    },
    {
     "cell_type": "heading",
     "level": 3,
     "metadata": {},
     "source": [
      "Decile and quartile analysis"
     ]
    },
    {
     "cell_type": "code",
     "collapsed": false,
     "input": [
      "import pandas.io.data as web"
     ],
     "language": "python",
     "metadata": {},
     "outputs": [],
     "prompt_number": 229
    },
    {
     "cell_type": "code",
     "collapsed": false,
     "input": [
      "data= web.get_data_yahoo('SPY','2006-01-01')"
     ],
     "language": "python",
     "metadata": {},
     "outputs": [],
     "prompt_number": 230
    },
    {
     "cell_type": "code",
     "collapsed": false,
     "input": [
      "data.info()"
     ],
     "language": "python",
     "metadata": {},
     "outputs": [
      {
       "output_type": "stream",
       "stream": "stdout",
       "text": [
        "<class 'pandas.core.frame.DataFrame'>\n",
        "DatetimeIndex: 2377 entries, 2006-01-03 00:00:00 to 2015-06-12 00:00:00\n",
        "Data columns (total 6 columns):\n",
        "Open         2377 non-null float64\n",
        "High         2377 non-null float64\n",
        "Low          2377 non-null float64\n",
        "Close        2377 non-null float64\n",
        "Volume       2377 non-null int64\n",
        "Adj Close    2377 non-null float64\n",
        "dtypes: float64(5), int64(1)"
       ]
      }
     ],
     "prompt_number": 231
    },
    {
     "cell_type": "code",
     "collapsed": false,
     "input": [
      "px = data['Adj Close']\n",
      "returns = px.pct_change()\n",
      "\n",
      "def to_index(rets):\n",
      "    index = (1 + rets).cumprod()\n",
      "    first_loc = max(index.index.get_loc(index.idxmax()) - 1, 0)\n",
      "    index.values[first_loc] = 1\n",
      "    return index\n",
      "\n",
      "def trend_signal(rets, lookback, lag):\n",
      "    signal = pd.rolling_sum(rets, lookback, min_periods=lookback - 5)\n",
      "    return signal.shift(lag)"
     ],
     "language": "python",
     "metadata": {},
     "outputs": [],
     "prompt_number": 232
    },
    {
     "cell_type": "code",
     "collapsed": false,
     "input": [
      "signal = trend_signal(returns, 100, 3)\n",
      "trade_friday = signal.resample('W-FRI').resample('B', fill_method='ffill')\n",
      "trade_rets = trade_friday.shift(1) * returns\n",
      "trade_rets = trade_rets[:len(returns)]"
     ],
     "language": "python",
     "metadata": {},
     "outputs": [],
     "prompt_number": 233
    },
    {
     "cell_type": "code",
     "collapsed": false,
     "input": [
      "to_index(trade_rets).plot()"
     ],
     "language": "python",
     "metadata": {},
     "outputs": [
      {
       "metadata": {},
       "output_type": "pyout",
       "prompt_number": 234,
       "text": [
        "<matplotlib.axes.AxesSubplot at 0xac3abbec>"
       ]
      },
      {
       "metadata": {},
       "output_type": "display_data",
       "png": "[encoded data removed]",
       "text": [
        "<matplotlib.figure.Figure at 0xac3c188c>"
       ]
      }
     ],
     "prompt_number": 234
    },
    {
     "cell_type": "code",
     "collapsed": false,
     "input": [
      "vol = pd.rolling_std(returns, 250, min_periods=200) * np.sqrt(250)\n",
      "\n",
      "def sharpe(rets, ann=250):\n",
      "    return rets.mean() / rets.std()  * np.sqrt(ann)"
     ],
     "language": "python",
     "metadata": {},
     "outputs": [],
     "prompt_number": 235
    },
    {
     "cell_type": "code",
     "collapsed": false,
     "input": [
      "cats = pd.qcut(vol, 4)\n",
      "print('cats: %d, trade_rets: %d, vol: %d' % (len(cats), len(trade_rets), len(vol)))"
     ],
     "language": "python",
     "metadata": {},
     "outputs": [
      {
       "output_type": "stream",
       "stream": "stdout",
       "text": [
        "cats: 2377, trade_rets: 2377, vol: 2377\n"
       ]
      }
     ],
     "prompt_number": 236
    },
    {
     "cell_type": "code",
     "collapsed": false,
     "input": [
      "trade_rets.groupby(cats).agg(sharpe)"
     ],
     "language": "python",
     "metadata": {},
     "outputs": [
      {
       "metadata": {},
       "output_type": "pyout",
       "prompt_number": 237,
       "text": [
        "[0.0954, 0.115]    1.004454\n",
        "(0.115, 0.171]     0.448416\n",
        "(0.171, 0.219]    -0.586708\n",
        "(0.219, 0.457]     0.476389\n",
        "dtype: float64"
       ]
      }
     ],
     "prompt_number": 237
    },
    {
     "cell_type": "heading",
     "level": 2,
     "metadata": {},
     "source": [
      "More Example Applications"
     ]
    },
    {
     "cell_type": "code",
     "collapsed": false,
     "input": [
      "names=[ 'AAPL', 'GOOG', 'MSFT', 'DELL', 'GS', 'MS', 'BAC', 'C']\n"
     ],
     "language": "python",
     "metadata": {},
     "outputs": [],
     "prompt_number": 238
    },
    {
     "cell_type": "code",
     "collapsed": false,
     "input": [
      "def get_px(stock, start, end):\n",
      "    return web.get_data_yahoo(stock, start, end)['Adj Close']\n"
     ],
     "language": "python",
     "metadata": {},
     "outputs": [],
     "prompt_number": 239
    },
    {
     "cell_type": "code",
     "collapsed": false,
     "input": [
      "px_new = DataFrame({n: get_px(n, '1/1/2009', '6/1/2012') for n in names})\n"
     ],
     "language": "python",
     "metadata": {},
     "outputs": [
      {
       "ename": "IOError",
       "evalue": "after 3 tries, Yahoo! did not return a 200 for url 'http://ichart.finance.yahoo.com/table.csv?s=GOOG&a=0&b=1&c=2009&d=5&e=1&f=2012&g=d&ignore=.csv'",
       "output_type": "pyerr",
       "traceback": [
        "\u001b[0;31m---------------------------------------------------------------------------\u001b[0m\n\u001b[0;31mIOError\u001b[0m                                   Traceback (most recent call last)",
        "\u001b[0;32m<ipython-input-240-5fd424778dbc>\u001b[0m in \u001b[0;36m<module>\u001b[0;34m()\u001b[0m\n\u001b[0;32m----> 1\u001b[0;31m \u001b[0mpx_new\u001b[0m \u001b[0;34m=\u001b[0m \u001b[0mDataFrame\u001b[0m\u001b[0;34m(\u001b[0m\u001b[0;34m{\u001b[0m\u001b[0mn\u001b[0m\u001b[0;34m:\u001b[0m \u001b[0mget_px\u001b[0m\u001b[0;34m(\u001b[0m\u001b[0mn\u001b[0m\u001b[0;34m,\u001b[0m \u001b[0;34m'1/1/2009'\u001b[0m\u001b[0;34m,\u001b[0m \u001b[0;34m'6/1/2012'\u001b[0m\u001b[0;34m)\u001b[0m \u001b[0;32mfor\u001b[0m \u001b[0mn\u001b[0m \u001b[0;32min\u001b[0m \u001b[0mnames\u001b[0m\u001b[0;34m}\u001b[0m\u001b[0;34m)\u001b[0m\u001b[0;34m\u001b[0m\u001b[0m\n\u001b[0m",
        "\u001b[0;32m<ipython-input-240-5fd424778dbc>\u001b[0m in \u001b[0;36m<dictcomp>\u001b[0;34m((n,))\u001b[0m\n\u001b[0;32m----> 1\u001b[0;31m \u001b[0mpx_new\u001b[0m \u001b[0;34m=\u001b[0m \u001b[0mDataFrame\u001b[0m\u001b[0;34m(\u001b[0m\u001b[0;34m{\u001b[0m\u001b[0mn\u001b[0m\u001b[0;34m:\u001b[0m \u001b[0mget_px\u001b[0m\u001b[0;34m(\u001b[0m\u001b[0mn\u001b[0m\u001b[0;34m,\u001b[0m \u001b[0;34m'1/1/2009'\u001b[0m\u001b[0;34m,\u001b[0m \u001b[0;34m'6/1/2012'\u001b[0m\u001b[0;34m)\u001b[0m \u001b[0;32mfor\u001b[0m \u001b[0mn\u001b[0m \u001b[0;32min\u001b[0m \u001b[0mnames\u001b[0m\u001b[0;34m}\u001b[0m\u001b[0;34m)\u001b[0m\u001b[0;34m\u001b[0m\u001b[0m\n\u001b[0m",
        "\u001b[0;32m<ipython-input-239-28e0fc0dfcb4>\u001b[0m in \u001b[0;36mget_px\u001b[0;34m(stock, start, end)\u001b[0m\n\u001b[1;32m      1\u001b[0m \u001b[0;32mdef\u001b[0m \u001b[0mget_px\u001b[0m\u001b[0;34m(\u001b[0m\u001b[0mstock\u001b[0m\u001b[0;34m,\u001b[0m \u001b[0mstart\u001b[0m\u001b[0;34m,\u001b[0m \u001b[0mend\u001b[0m\u001b[0;34m)\u001b[0m\u001b[0;34m:\u001b[0m\u001b[0;34m\u001b[0m\u001b[0m\n\u001b[0;32m----> 2\u001b[0;31m     \u001b[0;32mreturn\u001b[0m \u001b[0mweb\u001b[0m\u001b[0;34m.\u001b[0m\u001b[0mget_data_yahoo\u001b[0m\u001b[0;34m(\u001b[0m\u001b[0mstock\u001b[0m\u001b[0;34m,\u001b[0m \u001b[0mstart\u001b[0m\u001b[0;34m,\u001b[0m \u001b[0mend\u001b[0m\u001b[0;34m)\u001b[0m\u001b[0;34m[\u001b[0m\u001b[0;34m'Adj Close'\u001b[0m\u001b[0;34m]\u001b[0m\u001b[0;34m\u001b[0m\u001b[0m\n\u001b[0m",
        "\u001b[0;32m/usr/lib/python2.7/dist-packages/pandas/io/data.pyc\u001b[0m in \u001b[0;36mget_data_yahoo\u001b[0;34m(symbols, start, end, retry_count, pause, adjust_price, ret_index, chunksize)\u001b[0m\n\u001b[1;32m    400\u001b[0m     \"\"\"\n\u001b[1;32m    401\u001b[0m     return _get_data_from(symbols, start, end, retry_count, pause,\n\u001b[0;32m--> 402\u001b[0;31m                           adjust_price, ret_index, chunksize, 'yahoo')\n\u001b[0m\u001b[1;32m    403\u001b[0m \u001b[0;34m\u001b[0m\u001b[0m\n\u001b[1;32m    404\u001b[0m \u001b[0;34m\u001b[0m\u001b[0m\n",
        "\u001b[0;32m/usr/lib/python2.7/dist-packages/pandas/io/data.pyc\u001b[0m in \u001b[0;36m_get_data_from\u001b[0;34m(symbols, start, end, retry_count, pause, adjust_price, ret_index, chunksize, source)\u001b[0m\n\u001b[1;32m    346\u001b[0m     \u001b[0;31m# If a single symbol, (e.g., 'GOOG')\u001b[0m\u001b[0;34m\u001b[0m\u001b[0;34m\u001b[0m\u001b[0m\n\u001b[1;32m    347\u001b[0m     \u001b[0;32mif\u001b[0m \u001b[0misinstance\u001b[0m\u001b[0;34m(\u001b[0m\u001b[0msymbols\u001b[0m\u001b[0;34m,\u001b[0m \u001b[0;34m(\u001b[0m\u001b[0mcompat\u001b[0m\u001b[0;34m.\u001b[0m\u001b[0mstring_types\u001b[0m\u001b[0;34m,\u001b[0m \u001b[0mint\u001b[0m\u001b[0;34m)\u001b[0m\u001b[0;34m)\u001b[0m\u001b[0;34m:\u001b[0m\u001b[0;34m\u001b[0m\u001b[0m\n\u001b[0;32m--> 348\u001b[0;31m         \u001b[0mhist_data\u001b[0m \u001b[0;34m=\u001b[0m \u001b[0msrc_fn\u001b[0m\u001b[0;34m(\u001b[0m\u001b[0msymbols\u001b[0m\u001b[0;34m,\u001b[0m \u001b[0mstart\u001b[0m\u001b[0;34m,\u001b[0m \u001b[0mend\u001b[0m\u001b[0;34m,\u001b[0m \u001b[0mretry_count\u001b[0m\u001b[0;34m,\u001b[0m \u001b[0mpause\u001b[0m\u001b[0;34m)\u001b[0m\u001b[0;34m\u001b[0m\u001b[0m\n\u001b[0m\u001b[1;32m    349\u001b[0m     \u001b[0;31m# Or multiple symbols, (e.g., ['GOOG', 'AAPL', 'MSFT'])\u001b[0m\u001b[0;34m\u001b[0m\u001b[0;34m\u001b[0m\u001b[0m\n\u001b[1;32m    350\u001b[0m     \u001b[0;32melif\u001b[0m \u001b[0misinstance\u001b[0m\u001b[0;34m(\u001b[0m\u001b[0msymbols\u001b[0m\u001b[0;34m,\u001b[0m \u001b[0mDataFrame\u001b[0m\u001b[0;34m)\u001b[0m\u001b[0;34m:\u001b[0m\u001b[0;34m\u001b[0m\u001b[0m\n",
        "\u001b[0;32m/usr/lib/python2.7/dist-packages/pandas/io/data.pyc\u001b[0m in \u001b[0;36m_get_hist_yahoo\u001b[0;34m(sym, start, end, retry_count, pause)\u001b[0m\n\u001b[1;32m    199\u001b[0m            \u001b[0;34m'&g=d'\u001b[0m \u001b[0;34m+\u001b[0m\u001b[0;34m\u001b[0m\u001b[0m\n\u001b[1;32m    200\u001b[0m            '&ignore=.csv')\n\u001b[0;32m--> 201\u001b[0;31m     \u001b[0;32mreturn\u001b[0m \u001b[0m_retry_read_url\u001b[0m\u001b[0;34m(\u001b[0m\u001b[0murl\u001b[0m\u001b[0;34m,\u001b[0m \u001b[0mretry_count\u001b[0m\u001b[0;34m,\u001b[0m \u001b[0mpause\u001b[0m\u001b[0;34m,\u001b[0m \u001b[0;34m'Yahoo!'\u001b[0m\u001b[0;34m)\u001b[0m\u001b[0;34m\u001b[0m\u001b[0m\n\u001b[0m\u001b[1;32m    202\u001b[0m \u001b[0;34m\u001b[0m\u001b[0m\n\u001b[1;32m    203\u001b[0m \u001b[0;34m\u001b[0m\u001b[0m\n",
        "\u001b[0;32m/usr/lib/python2.7/dist-packages/pandas/io/data.pyc\u001b[0m in \u001b[0;36m_retry_read_url\u001b[0;34m(url, retry_count, pause, name)\u001b[0m\n\u001b[1;32m    176\u001b[0m \u001b[0;34m\u001b[0m\u001b[0m\n\u001b[1;32m    177\u001b[0m     raise IOError(\"after %d tries, %s did not \"\n\u001b[0;32m--> 178\u001b[0;31m                   \"return a 200 for url %r\" % (retry_count, name, url))\n\u001b[0m\u001b[1;32m    179\u001b[0m \u001b[0;34m\u001b[0m\u001b[0m\n\u001b[1;32m    180\u001b[0m \u001b[0;34m\u001b[0m\u001b[0m\n",
        "\u001b[0;31mIOError\u001b[0m: after 3 tries, Yahoo! did not return a 200 for url 'http://ichart.finance.yahoo.com/table.csv?s=GOOG&a=0&b=1&c=2009&d=5&e=1&f=2012&g=d&ignore=.csv'"
       ]
      }
     ],
     "prompt_number": 240
    },
    {
     "cell_type": "code",
     "collapsed": false,
     "input": [
      "px_new=px_new.asfreq('B').fillna(method='pad')"
     ],
     "language": "python",
     "metadata": {},
     "outputs": [
      {
       "ename": "NameError",
       "evalue": "name 'px_new' is not defined",
       "output_type": "pyerr",
       "traceback": [
        "\u001b[0;31m---------------------------------------------------------------------------\u001b[0m\n\u001b[0;31mNameError\u001b[0m                                 Traceback (most recent call last)",
        "\u001b[0;32m<ipython-input-241-6eee06b70e43>\u001b[0m in \u001b[0;36m<module>\u001b[0;34m()\u001b[0m\n\u001b[0;32m----> 1\u001b[0;31m \u001b[0mpx_new\u001b[0m\u001b[0;34m=\u001b[0m\u001b[0mpx_new\u001b[0m\u001b[0;34m.\u001b[0m\u001b[0masfreq\u001b[0m\u001b[0;34m(\u001b[0m\u001b[0;34m'B'\u001b[0m\u001b[0;34m)\u001b[0m\u001b[0;34m.\u001b[0m\u001b[0mfillna\u001b[0m\u001b[0;34m(\u001b[0m\u001b[0mmethod\u001b[0m\u001b[0;34m=\u001b[0m\u001b[0;34m'pad'\u001b[0m\u001b[0;34m)\u001b[0m\u001b[0;34m\u001b[0m\u001b[0m\n\u001b[0m",
        "\u001b[0;31mNameError\u001b[0m: name 'px_new' is not defined"
       ]
      }
     ],
     "prompt_number": 241
    },
    {
     "cell_type": "code",
     "collapsed": false,
     "input": [
      "px_new"
     ],
     "language": "python",
     "metadata": {},
     "outputs": [
      {
       "ename": "NameError",
       "evalue": "name 'px_new' is not defined",
       "output_type": "pyerr",
       "traceback": [
        "\u001b[0;31m---------------------------------------------------------------------------\u001b[0m\n\u001b[0;31mNameError\u001b[0m                                 Traceback (most recent call last)",
        "\u001b[0;32m<ipython-input-242-46f5f8728d9e>\u001b[0m in \u001b[0;36m<module>\u001b[0;34m()\u001b[0m\n\u001b[0;32m----> 1\u001b[0;31m \u001b[0mpx_new\u001b[0m\u001b[0;34m\u001b[0m\u001b[0m\n\u001b[0m",
        "\u001b[0;31mNameError\u001b[0m: name 'px_new' is not defined"
       ]
      }
     ],
     "prompt_number": 242
    },
    {
     "cell_type": "code",
     "collapsed": false,
     "input": [
      "rets=px_new.pct_change()"
     ],
     "language": "python",
     "metadata": {},
     "outputs": [
      {
       "ename": "NameError",
       "evalue": "name 'px_new' is not defined",
       "output_type": "pyerr",
       "traceback": [
        "\u001b[0;31m---------------------------------------------------------------------------\u001b[0m\n\u001b[0;31mNameError\u001b[0m                                 Traceback (most recent call last)",
        "\u001b[0;32m<ipython-input-243-7c3ff70d1c07>\u001b[0m in \u001b[0;36m<module>\u001b[0;34m()\u001b[0m\n\u001b[0;32m----> 1\u001b[0;31m \u001b[0mrets\u001b[0m\u001b[0;34m=\u001b[0m\u001b[0mpx_new\u001b[0m\u001b[0;34m.\u001b[0m\u001b[0mpct_change\u001b[0m\u001b[0;34m(\u001b[0m\u001b[0;34m)\u001b[0m\u001b[0;34m\u001b[0m\u001b[0m\n\u001b[0m",
        "\u001b[0;31mNameError\u001b[0m: name 'px_new' is not defined"
       ]
      }
     ],
     "prompt_number": 243
    },
    {
     "cell_type": "code",
     "collapsed": false,
     "input": [
      "((1+rets).cumprod()-1).plot()"
     ],
     "language": "python",
     "metadata": {},
     "outputs": [
      {
       "metadata": {},
       "output_type": "pyout",
       "prompt_number": 244,
       "text": [
        "<matplotlib.axes.AxesSubplot at 0xac2fd6cc>"
       ]
      },
      {
       "metadata": {},
       "output_type": "display_data",
       "png": "[encoded data removed]",
       "text": [
        "<matplotlib.figure.Figure at 0xac30558c>"
       ]
      }
     ],
     "prompt_number": 244
    },
    {
     "cell_type": "code",
     "collapsed": false,
     "input": [
      "def calc_mom(price,lookback,lag):\n",
      "    mom_ret= price.shift(lag).pct_change(lookback)\n",
      "    ranks= mom_ret.rank(axis=1,ascending=Fales)\n",
      "    demeaned=ranks-ranks.mean(axis=1)\n",
      "    return demeaned/demeaned.std(axis=1)"
     ],
     "language": "python",
     "metadata": {},
     "outputs": [],
     "prompt_number": 245
    },
    {
     "cell_type": "code",
     "collapsed": false,
     "input": [
      "compound=lambda x :(1+x).prob()-1\n",
      "daily_sr= lambda x : x.mean()/x.std()"
     ],
     "language": "python",
     "metadata": {},
     "outputs": [],
     "prompt_number": 246
    },
    {
     "cell_type": "code",
     "collapsed": false,
     "input": [
      "def strat_sr(prices, lb, hold):\n",
      "# Compute portfolio weights\n",
      "    freq = '%dB' % hold\n",
      "    port = calc_mom(prices, lb, lag=1)\n",
      "    daily_rets = prices.pct_change()\n",
      "# Compute portfolio returns\n",
      "    port = port.shift(1).resample(freq, how='first')\n",
      "    returns = daily_rets.resample(freq, how=compound)\n",
      "    port_rets = (port * returns).sum(axis=1)\n",
      "    \n",
      "    return daily_sr(port_rets) * np.sqrt(252 / hold)"
     ],
     "language": "python",
     "metadata": {},
     "outputs": [],
     "prompt_number": 247
    },
    {
     "cell_type": "code",
     "collapsed": false,
     "input": [
      "strat_sr(px, 70, 30)"
     ],
     "language": "python",
     "metadata": {},
     "outputs": [
      {
       "ename": "NameError",
       "evalue": "global name 'Fales' is not defined",
       "output_type": "pyerr",
       "traceback": [
        "\u001b[0;31m---------------------------------------------------------------------------\u001b[0m\n\u001b[0;31mNameError\u001b[0m                                 Traceback (most recent call last)",
        "\u001b[0;32m<ipython-input-248-bcb9edfd5c62>\u001b[0m in \u001b[0;36m<module>\u001b[0;34m()\u001b[0m\n\u001b[0;32m----> 1\u001b[0;31m \u001b[0mstrat_sr\u001b[0m\u001b[0;34m(\u001b[0m\u001b[0mpx\u001b[0m\u001b[0;34m,\u001b[0m \u001b[0;36m70\u001b[0m\u001b[0;34m,\u001b[0m \u001b[0;36m30\u001b[0m\u001b[0;34m)\u001b[0m\u001b[0;34m\u001b[0m\u001b[0m\n\u001b[0m",
        "\u001b[0;32m<ipython-input-247-e3060ac7ea50>\u001b[0m in \u001b[0;36mstrat_sr\u001b[0;34m(prices, lb, hold)\u001b[0m\n\u001b[1;32m      2\u001b[0m \u001b[0;31m# Compute portfolio weights\u001b[0m\u001b[0;34m\u001b[0m\u001b[0;34m\u001b[0m\u001b[0m\n\u001b[1;32m      3\u001b[0m     \u001b[0mfreq\u001b[0m \u001b[0;34m=\u001b[0m \u001b[0;34m'%dB'\u001b[0m \u001b[0;34m%\u001b[0m \u001b[0mhold\u001b[0m\u001b[0;34m\u001b[0m\u001b[0m\n\u001b[0;32m----> 4\u001b[0;31m     \u001b[0mport\u001b[0m \u001b[0;34m=\u001b[0m \u001b[0mcalc_mom\u001b[0m\u001b[0;34m(\u001b[0m\u001b[0mprices\u001b[0m\u001b[0;34m,\u001b[0m \u001b[0mlb\u001b[0m\u001b[0;34m,\u001b[0m \u001b[0mlag\u001b[0m\u001b[0;34m=\u001b[0m\u001b[0;36m1\u001b[0m\u001b[0;34m)\u001b[0m\u001b[0;34m\u001b[0m\u001b[0m\n\u001b[0m\u001b[1;32m      5\u001b[0m     \u001b[0mdaily_rets\u001b[0m \u001b[0;34m=\u001b[0m \u001b[0mprices\u001b[0m\u001b[0;34m.\u001b[0m\u001b[0mpct_change\u001b[0m\u001b[0;34m(\u001b[0m\u001b[0;34m)\u001b[0m\u001b[0;34m\u001b[0m\u001b[0m\n\u001b[1;32m      6\u001b[0m \u001b[0;31m# Compute portfolio returns\u001b[0m\u001b[0;34m\u001b[0m\u001b[0;34m\u001b[0m\u001b[0m\n",
        "\u001b[0;32m<ipython-input-245-110e37403a92>\u001b[0m in \u001b[0;36mcalc_mom\u001b[0;34m(price, lookback, lag)\u001b[0m\n\u001b[1;32m      1\u001b[0m \u001b[0;32mdef\u001b[0m \u001b[0mcalc_mom\u001b[0m\u001b[0;34m(\u001b[0m\u001b[0mprice\u001b[0m\u001b[0;34m,\u001b[0m\u001b[0mlookback\u001b[0m\u001b[0;34m,\u001b[0m\u001b[0mlag\u001b[0m\u001b[0;34m)\u001b[0m\u001b[0;34m:\u001b[0m\u001b[0;34m\u001b[0m\u001b[0m\n\u001b[1;32m      2\u001b[0m     \u001b[0mmom_ret\u001b[0m\u001b[0;34m=\u001b[0m \u001b[0mprice\u001b[0m\u001b[0;34m.\u001b[0m\u001b[0mshift\u001b[0m\u001b[0;34m(\u001b[0m\u001b[0mlag\u001b[0m\u001b[0;34m)\u001b[0m\u001b[0;34m.\u001b[0m\u001b[0mpct_change\u001b[0m\u001b[0;34m(\u001b[0m\u001b[0mlookback\u001b[0m\u001b[0;34m)\u001b[0m\u001b[0;34m\u001b[0m\u001b[0m\n\u001b[0;32m----> 3\u001b[0;31m     \u001b[0mranks\u001b[0m\u001b[0;34m=\u001b[0m \u001b[0mmom_ret\u001b[0m\u001b[0;34m.\u001b[0m\u001b[0mrank\u001b[0m\u001b[0;34m(\u001b[0m\u001b[0maxis\u001b[0m\u001b[0;34m=\u001b[0m\u001b[0;36m1\u001b[0m\u001b[0;34m,\u001b[0m\u001b[0mascending\u001b[0m\u001b[0;34m=\u001b[0m\u001b[0mFales\u001b[0m\u001b[0;34m)\u001b[0m\u001b[0;34m\u001b[0m\u001b[0m\n\u001b[0m\u001b[1;32m      4\u001b[0m     \u001b[0mdemeaned\u001b[0m\u001b[0;34m=\u001b[0m\u001b[0mranks\u001b[0m\u001b[0;34m-\u001b[0m\u001b[0mranks\u001b[0m\u001b[0;34m.\u001b[0m\u001b[0mmean\u001b[0m\u001b[0;34m(\u001b[0m\u001b[0maxis\u001b[0m\u001b[0;34m=\u001b[0m\u001b[0;36m1\u001b[0m\u001b[0;34m)\u001b[0m\u001b[0;34m\u001b[0m\u001b[0m\n\u001b[1;32m      5\u001b[0m     \u001b[0;32mreturn\u001b[0m \u001b[0mdemeaned\u001b[0m\u001b[0;34m/\u001b[0m\u001b[0mdemeaned\u001b[0m\u001b[0;34m.\u001b[0m\u001b[0mstd\u001b[0m\u001b[0;34m(\u001b[0m\u001b[0maxis\u001b[0m\u001b[0;34m=\u001b[0m\u001b[0;36m1\u001b[0m\u001b[0;34m)\u001b[0m\u001b[0;34m\u001b[0m\u001b[0m\n",
        "\u001b[0;31mNameError\u001b[0m: global name 'Fales' is not defined"
       ]
      }
     ],
     "prompt_number": 248
    },
    {
     "cell_type": "code",
     "collapsed": false,
     "input": [
      "from collections import defaultdict\n",
      "\n",
      "lookbacks = range(20, 90, 5)\n",
      "holdings = range(20, 90, 5)\n",
      "dd = defaultdict(dict)\n",
      "\n",
      "for lb in lookbacks:\n",
      "    for hold in holdings:\n",
      "        dd[lb][hold] = strat_sr(px, lb, hold)\n",
      "        \n",
      "ddf = DataFrame(dd)\n",
      "ddf.index.name = 'Holding Period'\n",
      "ddf.columns.name = 'Lookback Period'\n"
     ],
     "language": "python",
     "metadata": {},
     "outputs": []
    },
    {
     "cell_type": "code",
     "collapsed": false,
     "input": [
      "import matplotlib.pyplot as plt\n",
      "\n",
      "def heatmap(df, cmap=plt.cm.gray_r):\n",
      "    fig = plt.figure()\n",
      "    ax = fig.add_subplot(111)\n",
      "    axim = ax.imshow(df.values, cmap=cmap, interpolation='nearest')\n",
      "    ax.set_xlabel(df.columns.name)\n",
      "    ax.set_xticks(np.arange(len(df.columns)))\n",
      "    ax.set_xticklabels(list(df.columns))\n",
      "    ax.set_ylabel(df.index.name)\n",
      "    ax.set_yticks(np.arange(len(df.index)))\n",
      "    ax.set_yticklabels(list(df.index))\n",
      "    plt.colorbar(axim)"
     ],
     "language": "python",
     "metadata": {},
     "outputs": [],
     "prompt_number": 249
    },
    {
     "cell_type": "code",
     "collapsed": false,
     "input": [
      "heatmap(ddf)"
     ],
     "language": "python",
     "metadata": {},
     "outputs": [
      {
       "ename": "NameError",
       "evalue": "name 'ddf' is not defined",
       "output_type": "pyerr",
       "traceback": [
        "\u001b[0;31m---------------------------------------------------------------------------\u001b[0m\n\u001b[0;31mNameError\u001b[0m                                 Traceback (most recent call last)",
        "\u001b[0;32m<ipython-input-250-4ef20abb1f2b>\u001b[0m in \u001b[0;36m<module>\u001b[0;34m()\u001b[0m\n\u001b[0;32m----> 1\u001b[0;31m \u001b[0mheatmap\u001b[0m\u001b[0;34m(\u001b[0m\u001b[0mddf\u001b[0m\u001b[0;34m)\u001b[0m\u001b[0;34m\u001b[0m\u001b[0m\n\u001b[0m",
        "\u001b[0;31mNameError\u001b[0m: name 'ddf' is not defined"
       ]
      }
     ],
     "prompt_number": 250
    },
    {
     "cell_type": "heading",
     "level": 2,
     "metadata": {},
     "source": [
      "Future Contract Rolling"
     ]
    },
    {
     "cell_type": "code",
     "collapsed": false,
     "input": [
      "import pandas.io.data as web"
     ],
     "language": "python",
     "metadata": {},
     "outputs": [],
     "prompt_number": 251
    },
    {
     "cell_type": "code",
     "collapsed": false,
     "input": [
      "px=web.get_data_yahoo('SPY')['Adj Close']*10"
     ],
     "language": "python",
     "metadata": {},
     "outputs": [],
     "prompt_number": 252
    },
    {
     "cell_type": "code",
     "collapsed": false,
     "input": [
      "px"
     ],
     "language": "python",
     "metadata": {},
     "outputs": [
      {
       "metadata": {},
       "output_type": "pyout",
       "prompt_number": 253,
       "text": [
        "Date\n",
        "2010-01-04    1019.38629\n",
        "2010-01-05    1022.08470\n",
        "2010-01-06    1022.80431\n",
        "2010-01-07    1027.12187\n",
        "...\n",
        "2015-06-09    2084.49997\n",
        "2015-06-10    2109.60007\n",
        "2015-06-11    2116.49994\n",
        "2015-06-12    2099.29993\n",
        "Name: Adj Close, Length: 1370"
       ]
      }
     ],
     "prompt_number": 253
    },
    {
     "cell_type": "code",
     "collapsed": false,
     "input": [
      "from datetime import datetime\n",
      "\n",
      "expiry = {'ESU2': datetime(2012, 9, 21),'ESZ2': datetime(2012, 12, 21)}\n",
      "expiry = Series(expiry).order()"
     ],
     "language": "python",
     "metadata": {},
     "outputs": [],
     "prompt_number": 254
    },
    {
     "cell_type": "code",
     "collapsed": false,
     "input": [
      "expiry"
     ],
     "language": "python",
     "metadata": {},
     "outputs": [
      {
       "metadata": {},
       "output_type": "pyout",
       "prompt_number": 255,
       "text": [
        "ESU2   2012-09-21\n",
        "ESZ2   2012-12-21\n",
        "dtype: datetime64[ns]"
       ]
      }
     ],
     "prompt_number": 255
    },
    {
     "cell_type": "code",
     "collapsed": false,
     "input": [
      "np.random.seed(12347)\n",
      "N=200\n",
      "walk=(np.random.randint(0,200,size=N) - 100)* 0.25\n",
      "perturb=(np.random.randint(0,20,size=N) - 10)* 0.25\n",
      "walk=walk.cumsum()\n",
      "\n",
      "rng=pd.date_range(px.index[0],periods=len(px)+N,freq='B')\n",
      "near = np.concatenate([px.values, px.values[-1] + walk])\n",
      "far = np.concatenate([px.values, px.values[-1] + walk + perturb])\n",
      "prices = DataFrame({'ESU2': near, 'ESZ2': far}, index=rng)"
     ],
     "language": "python",
     "metadata": {},
     "outputs": [],
     "prompt_number": 256
    },
    {
     "cell_type": "code",
     "collapsed": false,
     "input": [
      "prices.head()"
     ],
     "language": "python",
     "metadata": {},
     "outputs": [
      {
       "html": [
        "<div style=\"max-height:1000px;max-width:1500px;overflow:auto;\">\n",
        "<table border=\"1\" class=\"dataframe\">\n",
        "  <thead>\n",
        "    <tr style=\"text-align: right;\">\n",
        "      <th></th>\n",
        "      <th>ESU2</th>\n",
        "      <th>ESZ2</th>\n",
        "    </tr>\n",
        "  </thead>\n",
        "  <tbody>\n",
        "    <tr>\n",
        "      <th>2010-01-04</th>\n",
        "      <td> 1019.38629</td>\n",
        "      <td> 1019.38629</td>\n",
        "    </tr>\n",
        "    <tr>\n",
        "      <th>2010-01-05</th>\n",
        "      <td> 1022.08470</td>\n",
        "      <td> 1022.08470</td>\n",
        "    </tr>\n",
        "    <tr>\n",
        "      <th>2010-01-06</th>\n",
        "      <td> 1022.80431</td>\n",
        "      <td> 1022.80431</td>\n",
        "    </tr>\n",
        "    <tr>\n",
        "      <th>2010-01-07</th>\n",
        "      <td> 1027.12187</td>\n",
        "      <td> 1027.12187</td>\n",
        "    </tr>\n",
        "    <tr>\n",
        "      <th>2010-01-08</th>\n",
        "      <td> 1030.53988</td>\n",
        "      <td> 1030.53988</td>\n",
        "    </tr>\n",
        "  </tbody>\n",
        "</table>\n",
        "</div>"
       ],
       "metadata": {},
       "output_type": "pyout",
       "prompt_number": 257,
       "text": [
        "                  ESU2        ESZ2\n",
        "2010-01-04  1019.38629  1019.38629\n",
        "2010-01-05  1022.08470  1022.08470\n",
        "2010-01-06  1022.80431  1022.80431\n",
        "2010-01-07  1027.12187  1027.12187\n",
        "2010-01-08  1030.53988  1030.53988"
       ]
      }
     ],
     "prompt_number": 257
    },
    {
     "cell_type": "code",
     "collapsed": false,
     "input": [
      "prices.tail()"
     ],
     "language": "python",
     "metadata": {},
     "outputs": [
      {
       "html": [
        "<div style=\"max-height:1000px;max-width:1500px;overflow:auto;\">\n",
        "<table border=\"1\" class=\"dataframe\">\n",
        "  <thead>\n",
        "    <tr style=\"text-align: right;\">\n",
        "      <th></th>\n",
        "      <th>ESU2</th>\n",
        "      <th>ESZ2</th>\n",
        "    </tr>\n",
        "  </thead>\n",
        "  <tbody>\n",
        "    <tr>\n",
        "      <th>2016-01-04</th>\n",
        "      <td> 2128.54993</td>\n",
        "      <td> 2130.29993</td>\n",
        "    </tr>\n",
        "    <tr>\n",
        "      <th>2016-01-05</th>\n",
        "      <td> 2114.79993</td>\n",
        "      <td> 2117.04993</td>\n",
        "    </tr>\n",
        "    <tr>\n",
        "      <th>2016-01-06</th>\n",
        "      <td> 2122.79993</td>\n",
        "      <td> 2124.54993</td>\n",
        "    </tr>\n",
        "    <tr>\n",
        "      <th>2016-01-07</th>\n",
        "      <td> 2139.29993</td>\n",
        "      <td> 2138.54993</td>\n",
        "    </tr>\n",
        "    <tr>\n",
        "      <th>2016-01-08</th>\n",
        "      <td> 2119.29993</td>\n",
        "      <td> 2117.04993</td>\n",
        "    </tr>\n",
        "  </tbody>\n",
        "</table>\n",
        "</div>"
       ],
       "metadata": {},
       "output_type": "pyout",
       "prompt_number": 258,
       "text": [
        "                  ESU2        ESZ2\n",
        "2016-01-04  2128.54993  2130.29993\n",
        "2016-01-05  2114.79993  2117.04993\n",
        "2016-01-06  2122.79993  2124.54993\n",
        "2016-01-07  2139.29993  2138.54993\n",
        "2016-01-08  2119.29993  2117.04993"
       ]
      }
     ],
     "prompt_number": 258
    },
    {
     "cell_type": "code",
     "collapsed": false,
     "input": [
      "\n",
      "def get_roll_weights(start, expiry, items, roll_periods=5):\n",
      "# start : first date to compute weighting DataFrame\n",
      "# expiry : Series of ticker -> expiration dates\n",
      "# items : sequence of contract names\n",
      "    dates = pd.date_range(start, expiry[-1], freq='B')\n",
      "    weights = DataFrame(np.zeros((len(dates), len(items))), index=dates, columns=items)\n",
      "    prev_date = weights.index[0]\n",
      "    for i, (item, ex_date) in enumerate(expiry.iteritems()):\n",
      "        if i < len(expiry) - 1:\n",
      "            weights.ix[prev_date:ex_date - pd.offsets.BDay(), item] = 1\n",
      "            roll_rng = pd.date_range(end=ex_date - pd.offsets.BDay(), periods=roll_periods + 1, freq='B')\n",
      "            decay_weights = np.linspace(0, 1, roll_periods + 1)\n",
      "            weights.ix[roll_rng, item] = 1 - decay_weights\n",
      "            weights.ix[roll_rng, expiry.index[i + 1]] = decay_weights\n",
      "        else:\n",
      "            weights.ix[prev_date:, item] = 1\n",
      "        prev_date = ex_date\n",
      "        \n",
      "    return weights"
     ],
     "language": "python",
     "metadata": {},
     "outputs": [],
     "prompt_number": 259
    },
    {
     "cell_type": "code",
     "collapsed": false,
     "input": [
      "weights = get_roll_weights('6/1/2012', expiry, prices.columns)"
     ],
     "language": "python",
     "metadata": {},
     "outputs": [],
     "prompt_number": 260
    },
    {
     "cell_type": "code",
     "collapsed": false,
     "input": [
      "weights.ix['2012-09-12':'2012-09-21']"
     ],
     "language": "python",
     "metadata": {},
     "outputs": [
      {
       "html": [
        "<div style=\"max-height:1000px;max-width:1500px;overflow:auto;\">\n",
        "<table border=\"1\" class=\"dataframe\">\n",
        "  <thead>\n",
        "    <tr style=\"text-align: right;\">\n",
        "      <th></th>\n",
        "      <th>ESU2</th>\n",
        "      <th>ESZ2</th>\n",
        "    </tr>\n",
        "  </thead>\n",
        "  <tbody>\n",
        "    <tr>\n",
        "      <th>2012-09-12</th>\n",
        "      <td> 1.0</td>\n",
        "      <td> 0.0</td>\n",
        "    </tr>\n",
        "    <tr>\n",
        "      <th>2012-09-13</th>\n",
        "      <td> 1.0</td>\n",
        "      <td> 0.0</td>\n",
        "    </tr>\n",
        "    <tr>\n",
        "      <th>2012-09-14</th>\n",
        "      <td> 0.8</td>\n",
        "      <td> 0.2</td>\n",
        "    </tr>\n",
        "    <tr>\n",
        "      <th>2012-09-17</th>\n",
        "      <td> 0.6</td>\n",
        "      <td> 0.4</td>\n",
        "    </tr>\n",
        "    <tr>\n",
        "      <th>2012-09-18</th>\n",
        "      <td> 0.4</td>\n",
        "      <td> 0.6</td>\n",
        "    </tr>\n",
        "    <tr>\n",
        "      <th>2012-09-19</th>\n",
        "      <td> 0.2</td>\n",
        "      <td> 0.8</td>\n",
        "    </tr>\n",
        "    <tr>\n",
        "      <th>2012-09-20</th>\n",
        "      <td> 0.0</td>\n",
        "      <td> 1.0</td>\n",
        "    </tr>\n",
        "    <tr>\n",
        "      <th>2012-09-21</th>\n",
        "      <td> 0.0</td>\n",
        "      <td> 1.0</td>\n",
        "    </tr>\n",
        "  </tbody>\n",
        "</table>\n",
        "</div>"
       ],
       "metadata": {},
       "output_type": "pyout",
       "prompt_number": 261,
       "text": [
        "            ESU2  ESZ2\n",
        "2012-09-12   1.0   0.0\n",
        "2012-09-13   1.0   0.0\n",
        "2012-09-14   0.8   0.2\n",
        "2012-09-17   0.6   0.4\n",
        "2012-09-18   0.4   0.6\n",
        "2012-09-19   0.2   0.8\n",
        "2012-09-20   0.0   1.0\n",
        "2012-09-21   0.0   1.0"
       ]
      }
     ],
     "prompt_number": 261
    },
    {
     "cell_type": "code",
     "collapsed": false,
     "input": [
      "rolled_returns=(prices.pct_change()*weights).sum(1)"
     ],
     "language": "python",
     "metadata": {},
     "outputs": [],
     "prompt_number": 262
    },
    {
     "cell_type": "heading",
     "level": 2,
     "metadata": {},
     "source": [
      "Rolling Correlation and Linear Regression"
     ]
    },
    {
     "cell_type": "code",
     "collapsed": false,
     "input": [
      "aapl=web.get_data_yahoo('AAPL','2000-01-01')['Adj Close']\n",
      "msft=web.get_data_yahoo('MSFT','2000-01-01')['Adj Close']"
     ],
     "language": "python",
     "metadata": {},
     "outputs": [],
     "prompt_number": 263
    },
    {
     "cell_type": "code",
     "collapsed": false,
     "input": [
      "aapl_rets=aapl.pct_change()\n",
      "msft_rets=msft.pct_change()"
     ],
     "language": "python",
     "metadata": {},
     "outputs": [],
     "prompt_number": 264
    },
    {
     "cell_type": "code",
     "collapsed": false,
     "input": [
      "pd.rolling_corr(aapl_rets,msft_rets,250).plot()"
     ],
     "language": "python",
     "metadata": {},
     "outputs": [
      {
       "metadata": {},
       "output_type": "pyout",
       "prompt_number": 265,
       "text": [
        "<matplotlib.axes.AxesSubplot at 0xac23722c>"
       ]
      },
      {
       "metadata": {},
       "output_type": "display_data",
       "png": "[encoded data removed]",
       "text": [
        "<matplotlib.figure.Figure at 0xac5095cc>"
       ]
      }
     ],
     "prompt_number": 265
    },
    {
     "cell_type": "code",
     "collapsed": false,
     "input": [
      "model=pd.ols(y=aapl_rets,x={'MSFT': msft_rets},window=250)"
     ],
     "language": "python",
     "metadata": {},
     "outputs": [],
     "prompt_number": 266
    },
    {
     "cell_type": "code",
     "collapsed": false,
     "input": [
      "model.beta"
     ],
     "language": "python",
     "metadata": {},
     "outputs": [
      {
       "html": [
        "<div style=\"max-height:1000px;max-width:1500px;overflow:auto;\">\n",
        "<table border=\"1\" class=\"dataframe\">\n",
        "  <thead>\n",
        "    <tr style=\"text-align: right;\">\n",
        "      <th></th>\n",
        "      <th>MSFT</th>\n",
        "      <th>intercept</th>\n",
        "    </tr>\n",
        "    <tr>\n",
        "      <th>Date</th>\n",
        "      <th></th>\n",
        "      <th></th>\n",
        "    </tr>\n",
        "  </thead>\n",
        "  <tbody>\n",
        "    <tr>\n",
        "      <th>2000-12-28</th>\n",
        "      <td> 0.429024</td>\n",
        "      <td>-0.002113</td>\n",
        "    </tr>\n",
        "    <tr>\n",
        "      <th>2000-12-29</th>\n",
        "      <td> 0.421105</td>\n",
        "      <td>-0.001796</td>\n",
        "    </tr>\n",
        "    <tr>\n",
        "      <th>2001-01-02</th>\n",
        "      <td> 0.420598</td>\n",
        "      <td>-0.001839</td>\n",
        "    </tr>\n",
        "    <tr>\n",
        "      <th>2001-01-03</th>\n",
        "      <td> 0.433294</td>\n",
        "      <td>-0.001289</td>\n",
        "    </tr>\n",
        "    <tr>\n",
        "      <th>2001-01-04</th>\n",
        "      <td> 0.432773</td>\n",
        "      <td>-0.001307</td>\n",
        "    </tr>\n",
        "    <tr>\n",
        "      <th>2001-01-05</th>\n",
        "      <td> 0.431029</td>\n",
        "      <td>-0.001414</td>\n",
        "    </tr>\n",
        "    <tr>\n",
        "      <th>...</th>\n",
        "      <td>...</td>\n",
        "      <td>...</td>\n",
        "    </tr>\n",
        "    <tr>\n",
        "      <th>2015-06-05</th>\n",
        "      <td> 0.324140</td>\n",
        "      <td> 0.001218</td>\n",
        "    </tr>\n",
        "    <tr>\n",
        "      <th>2015-06-08</th>\n",
        "      <td> 0.325471</td>\n",
        "      <td> 0.001174</td>\n",
        "    </tr>\n",
        "    <tr>\n",
        "      <th>2015-06-09</th>\n",
        "      <td> 0.325221</td>\n",
        "      <td> 0.001173</td>\n",
        "    </tr>\n",
        "    <tr>\n",
        "      <th>2015-06-10</th>\n",
        "      <td> 0.324331</td>\n",
        "      <td> 0.001250</td>\n",
        "    </tr>\n",
        "    <tr>\n",
        "      <th>2015-06-11</th>\n",
        "      <td> 0.329310</td>\n",
        "      <td> 0.001307</td>\n",
        "    </tr>\n",
        "    <tr>\n",
        "      <th>2015-06-12</th>\n",
        "      <td> 0.330347</td>\n",
        "      <td> 0.001244</td>\n",
        "    </tr>\n",
        "  </tbody>\n",
        "</table>\n",
        "<p>3635 rows \u00d7 2 columns</p>\n",
        "</div>"
       ],
       "metadata": {},
       "output_type": "pyout",
       "prompt_number": 267,
       "text": [
        "                MSFT  intercept\n",
        "Date                           \n",
        "2000-12-28  0.429024  -0.002113\n",
        "2000-12-29  0.421105  -0.001796\n",
        "2001-01-02  0.420598  -0.001839\n",
        "2001-01-03  0.433294  -0.001289\n",
        "2001-01-04  0.432773  -0.001307\n",
        "2001-01-05  0.431029  -0.001414\n",
        "...              ...        ...\n",
        "2015-06-05  0.324140   0.001218\n",
        "2015-06-08  0.325471   0.001174\n",
        "2015-06-09  0.325221   0.001173\n",
        "2015-06-10  0.324331   0.001250\n",
        "2015-06-11  0.329310   0.001307\n",
        "2015-06-12  0.330347   0.001244\n",
        "\n",
        "[3635 rows x 2 columns]"
       ]
      }
     ],
     "prompt_number": 267
    },
    {
     "cell_type": "code",
     "collapsed": false,
     "input": [
      "model.beta['MSFT'].plot()"
     ],
     "language": "python",
     "metadata": {},
     "outputs": [
      {
       "metadata": {},
       "output_type": "pyout",
       "prompt_number": 268,
       "text": [
        "<matplotlib.axes.AxesSubplot at 0xac28624c>"
       ]
      },
      {
       "metadata": {},
       "output_type": "display_data",
       "png": "[encoded data removed]",
       "text": [
        "<matplotlib.figure.Figure at 0xac2c29ec>"
       ]
      }
     ],
     "prompt_number": 268
    },
    {
     "cell_type": "code",
     "collapsed": false,
     "input": [],
     "language": "python",
     "metadata": {},
     "outputs": [],
     "prompt_number": 269
    },
    {
     "cell_type": "code",
     "collapsed": false,
     "input": [],
     "language": "python",
     "metadata": {},
     "outputs": []
    }
   ],
   "metadata": {}
  }
 ]
}